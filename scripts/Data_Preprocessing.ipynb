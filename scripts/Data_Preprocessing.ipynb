{
  "nbformat": 4,
  "nbformat_minor": 0,
  "metadata": {
    "colab": {
      "name": "Data Preprocessing.ipynb",
      "provenance": []
    },
    "kernelspec": {
      "name": "python3",
      "display_name": "Python 3"
    },
    "language_info": {
      "name": "python"
    }
  },
  "cells": [
    {
      "cell_type": "code",
      "execution_count": 1,
      "metadata": {
        "id": "TCvTEfBA0457"
      },
      "outputs": [],
      "source": [
        "import nltk\n",
        "import pandas as pd\n",
        "from nltk.corpus import stopwords\n",
        "from nltk.tokenize import word_tokenize\n",
        "from nltk.stem import WordNetLemmatizer\n",
        "import re"
      ]
    },
    {
      "cell_type": "markdown",
      "source": [
        "The Data is used from data v 3.0.0 folder"
      ],
      "metadata": {
        "id": "hI_sLipBAKwx"
      }
    },
    {
      "cell_type": "code",
      "source": [
        "Tweets_C = pd.read_csv('/content/Tweets_CE_Species.csv')\n",
        "Tweets_E = pd.read_csv('/content/Tweets_PE_species.csv')\n",
        "Tweets_V_100 = pd.read_csv('/content/Tweets_V_species_100.csv')\n",
        "Tweets_V_200 = pd.read_csv('/content/Tweets_V_species_200.csv')\n",
        "Tweets_V_300 = pd.read_csv('/content/Tweets_V_species_300.csv')\n",
        "Tweets_V_400 = pd.read_csv('/content/Tweets_V_species_400.csv')\n",
        "Tweets_V_500 = pd.read_csv('/content/Tweets_V_species_500.csv')\n",
        "Tweets_V_595 = pd.read_csv('/content/Tweets_V_species_595.csv')"
      ],
      "metadata": {
        "id": "mdxzXRpogOjk"
      },
      "execution_count": 2,
      "outputs": []
    },
    {
      "cell_type": "code",
      "execution_count": 3,
      "metadata": {
        "colab": {
          "base_uri": "https://localhost:8080/"
        },
        "id": "B3ZYflTi0457",
        "outputId": "0c1ff2fc-aed8-4c75-b553-21102e2665f2"
      },
      "outputs": [
        {
          "output_type": "stream",
          "name": "stderr",
          "text": [
            "[nltk_data] Downloading package stopwords to /root/nltk_data...\n",
            "[nltk_data]   Unzipping corpora/stopwords.zip.\n"
          ]
        },
        {
          "output_type": "execute_result",
          "data": {
            "text/plain": [
              "True"
            ]
          },
          "metadata": {},
          "execution_count": 3
        }
      ],
      "source": [
        "nltk.download('stopwords')"
      ]
    },
    {
      "cell_type": "code",
      "source": [
        "lemma = WordNetLemmatizer()\n",
        "stop_words = stopwords.words('english')"
      ],
      "metadata": {
        "id": "V3B8cN022B9J"
      },
      "execution_count": 4,
      "outputs": []
    },
    {
      "cell_type": "code",
      "source": [
        "def text_prep(x):\n",
        "     corp = str(x).lower() \n",
        "     corp = re.sub('[^a-zA-Z]+',' ', corp).strip() \n",
        "     tokens = word_tokenize(corp)\n",
        "     words = [t for t in tokens if t not in stop_words]\n",
        "     lemmatize = [lemma.lemmatize(w) for w in words]\n",
        "    \n",
        "     return lemmatize"
      ],
      "metadata": {
        "id": "WeB9MpIR2Brr"
      },
      "execution_count": 5,
      "outputs": []
    },
    {
      "cell_type": "code",
      "source": [
        "from nltk.corpus import wordnet"
      ],
      "metadata": {
        "id": "ZLettKfX2H5i"
      },
      "execution_count": 6,
      "outputs": []
    },
    {
      "cell_type": "code",
      "source": [
        "nltk.download('wordnet')"
      ],
      "metadata": {
        "colab": {
          "base_uri": "https://localhost:8080/"
        },
        "id": "PQLq0TnM2pxz",
        "outputId": "2325d5ab-98f5-42a0-fd72-6d86628798cd"
      },
      "execution_count": 7,
      "outputs": [
        {
          "output_type": "stream",
          "name": "stderr",
          "text": [
            "[nltk_data] Downloading package wordnet to /root/nltk_data...\n",
            "[nltk_data]   Unzipping corpora/wordnet.zip.\n"
          ]
        },
        {
          "output_type": "execute_result",
          "data": {
            "text/plain": [
              "True"
            ]
          },
          "metadata": {},
          "execution_count": 7
        }
      ]
    },
    {
      "cell_type": "code",
      "source": [
        "nltk.download('punkt')"
      ],
      "metadata": {
        "colab": {
          "base_uri": "https://localhost:8080/"
        },
        "id": "jJbNx88l2ptC",
        "outputId": "b3f17e7d-1bd7-4e00-a032-2b5d4b8b9c39"
      },
      "execution_count": 8,
      "outputs": [
        {
          "output_type": "stream",
          "name": "stderr",
          "text": [
            "[nltk_data] Downloading package punkt to /root/nltk_data...\n",
            "[nltk_data]   Unzipping tokenizers/punkt.zip.\n"
          ]
        },
        {
          "output_type": "execute_result",
          "data": {
            "text/plain": [
              "True"
            ]
          },
          "metadata": {},
          "execution_count": 8
        }
      ]
    },
    {
      "cell_type": "code",
      "source": [
        "nltk.download('corpus')"
      ],
      "metadata": {
        "colab": {
          "base_uri": "https://localhost:8080/"
        },
        "id": "eVWrDSLk2pqX",
        "outputId": "271a9a22-f76b-46b7-bb32-f219c50458c6"
      },
      "execution_count": 9,
      "outputs": [
        {
          "output_type": "stream",
          "name": "stderr",
          "text": [
            "[nltk_data] Error loading corpus: Package 'corpus' not found in index\n"
          ]
        },
        {
          "output_type": "execute_result",
          "data": {
            "text/plain": [
              "False"
            ]
          },
          "metadata": {},
          "execution_count": 9
        }
      ]
    },
    {
      "cell_type": "code",
      "source": [
        "nltk.download('omw-1.4')"
      ],
      "metadata": {
        "colab": {
          "base_uri": "https://localhost:8080/"
        },
        "id": "OsfOQQ8o2pnf",
        "outputId": "49c617fa-0b1e-4b6c-b982-ae6ba16f4b3a"
      },
      "execution_count": 10,
      "outputs": [
        {
          "output_type": "stream",
          "name": "stderr",
          "text": [
            "[nltk_data] Downloading package omw-1.4 to /root/nltk_data...\n",
            "[nltk_data]   Unzipping corpora/omw-1.4.zip.\n"
          ]
        },
        {
          "output_type": "execute_result",
          "data": {
            "text/plain": [
              "True"
            ]
          },
          "metadata": {},
          "execution_count": 10
        }
      ]
    },
    {
      "cell_type": "markdown",
      "source": [
        "## Critically Endangered Species"
      ],
      "metadata": {
        "id": "o6Nwh0ws7tZ3"
      }
    },
    {
      "cell_type": "code",
      "source": [
        "tweets_df = Tweets_C.copy()"
      ],
      "metadata": {
        "id": "VMmPaU3H23Nz"
      },
      "execution_count": 38,
      "outputs": []
    },
    {
      "cell_type": "code",
      "source": [
        "preprocess_tag = [text_prep(i) for i in tweets_df['text']]\n",
        "tweets_df[\"preprocess_txt\"] = preprocess_tag"
      ],
      "metadata": {
        "id": "gU58cn732piZ"
      },
      "execution_count": 39,
      "outputs": []
    },
    {
      "cell_type": "code",
      "source": [
        "tweets_df['total_len'] = tweets_df['preprocess_txt'].map(lambda x: len(x))"
      ],
      "metadata": {
        "id": "ITIZAAXx3EcF"
      },
      "execution_count": 40,
      "outputs": []
    },
    {
      "cell_type": "code",
      "source": [
        "tweets_df.head()"
      ],
      "metadata": {
        "colab": {
          "base_uri": "https://localhost:8080/",
          "height": 545
        },
        "id": "oqlSI5fn7ijp",
        "outputId": "5baadb21-b5d9-4a49-fd2c-6351338b5426"
      },
      "execution_count": 41,
      "outputs": [
        {
          "output_type": "execute_result",
          "data": {
            "text/plain": [
              "   Unnamed: 0             user_name  \\\n",
              "0           0            PanfilLera   \n",
              "1           1    GehlhausenLarhonda   \n",
              "2           2           Mike Hudema   \n",
              "3           3            OPH Rescue   \n",
              "4           4  Sudan the Rhino fans   \n",
              "\n",
              "                                    user_description  \\\n",
              "0                                                NaN   \n",
              "1                                                NaN   \n",
              "2  #Climate Campaigner focusing on addressing the...   \n",
              "3  OPH Rescue brings dogs and cats from overcrowd...   \n",
              "4  Sudan, the last male Northern White Rhino, is ...   \n",
              "\n",
              "                user_location  user_verification                 date  \\\n",
              "0                         NaN              False  2022-06-20 02:22:32   \n",
              "1                         NaN              False  2022-06-20 02:10:38   \n",
              "2  Unceded Squamish Territory               True  2022-06-17 23:32:03   \n",
              "3              VA, DC, MD, PA              False  2022-06-16 15:14:45   \n",
              "4                      Canada              False  2022-06-14 16:13:38   \n",
              "\n",
              "                                                text hashtags  \\\n",
              "0  A little good news. The Sumatran rhinoceros ar...      NaN   \n",
              "1  A little good news. The Sumatran rhinoceros ar...      NaN   \n",
              "2  A little good news. The Sumatran rhinoceros ar...      NaN   \n",
              "3  Sumatran Rhinoceros has his smile camera ready...      NaN   \n",
              "4  @burtonlim Hi Mr. Lim, I wanted to explore don...      NaN   \n",
              "\n",
              "             source  retweets  \\\n",
              "0   Twitter Web App         1   \n",
              "1   Twitter Web App         0   \n",
              "2            Buffer       279   \n",
              "3   Twitter Web App         4   \n",
              "4  Twitter for iPad         0   \n",
              "\n",
              "                                      preprocess_txt  total_len  \n",
              "0  [little, good, news, sumatran, rhinoceros, cri...         26  \n",
              "1  [little, good, news, sumatran, rhinoceros, cri...         26  \n",
              "2  [little, good, news, sumatran, rhinoceros, cri...         30  \n",
              "3  [sumatran, rhinoceros, smile, camera, ready, l...         25  \n",
              "4  [burtonlim, hi, mr, lim, wanted, explore, dona...         17  "
            ],
            "text/html": [
              "\n",
              "  <div id=\"df-d4c5622d-c652-4ad8-8730-3aa92acf644d\">\n",
              "    <div class=\"colab-df-container\">\n",
              "      <div>\n",
              "<style scoped>\n",
              "    .dataframe tbody tr th:only-of-type {\n",
              "        vertical-align: middle;\n",
              "    }\n",
              "\n",
              "    .dataframe tbody tr th {\n",
              "        vertical-align: top;\n",
              "    }\n",
              "\n",
              "    .dataframe thead th {\n",
              "        text-align: right;\n",
              "    }\n",
              "</style>\n",
              "<table border=\"1\" class=\"dataframe\">\n",
              "  <thead>\n",
              "    <tr style=\"text-align: right;\">\n",
              "      <th></th>\n",
              "      <th>Unnamed: 0</th>\n",
              "      <th>user_name</th>\n",
              "      <th>user_description</th>\n",
              "      <th>user_location</th>\n",
              "      <th>user_verification</th>\n",
              "      <th>date</th>\n",
              "      <th>text</th>\n",
              "      <th>hashtags</th>\n",
              "      <th>source</th>\n",
              "      <th>retweets</th>\n",
              "      <th>preprocess_txt</th>\n",
              "      <th>total_len</th>\n",
              "    </tr>\n",
              "  </thead>\n",
              "  <tbody>\n",
              "    <tr>\n",
              "      <th>0</th>\n",
              "      <td>0</td>\n",
              "      <td>PanfilLera</td>\n",
              "      <td>NaN</td>\n",
              "      <td>NaN</td>\n",
              "      <td>False</td>\n",
              "      <td>2022-06-20 02:22:32</td>\n",
              "      <td>A little good news. The Sumatran rhinoceros ar...</td>\n",
              "      <td>NaN</td>\n",
              "      <td>Twitter Web App</td>\n",
              "      <td>1</td>\n",
              "      <td>[little, good, news, sumatran, rhinoceros, cri...</td>\n",
              "      <td>26</td>\n",
              "    </tr>\n",
              "    <tr>\n",
              "      <th>1</th>\n",
              "      <td>1</td>\n",
              "      <td>GehlhausenLarhonda</td>\n",
              "      <td>NaN</td>\n",
              "      <td>NaN</td>\n",
              "      <td>False</td>\n",
              "      <td>2022-06-20 02:10:38</td>\n",
              "      <td>A little good news. The Sumatran rhinoceros ar...</td>\n",
              "      <td>NaN</td>\n",
              "      <td>Twitter Web App</td>\n",
              "      <td>0</td>\n",
              "      <td>[little, good, news, sumatran, rhinoceros, cri...</td>\n",
              "      <td>26</td>\n",
              "    </tr>\n",
              "    <tr>\n",
              "      <th>2</th>\n",
              "      <td>2</td>\n",
              "      <td>Mike Hudema</td>\n",
              "      <td>#Climate Campaigner focusing on addressing the...</td>\n",
              "      <td>Unceded Squamish Territory</td>\n",
              "      <td>True</td>\n",
              "      <td>2022-06-17 23:32:03</td>\n",
              "      <td>A little good news. The Sumatran rhinoceros ar...</td>\n",
              "      <td>NaN</td>\n",
              "      <td>Buffer</td>\n",
              "      <td>279</td>\n",
              "      <td>[little, good, news, sumatran, rhinoceros, cri...</td>\n",
              "      <td>30</td>\n",
              "    </tr>\n",
              "    <tr>\n",
              "      <th>3</th>\n",
              "      <td>3</td>\n",
              "      <td>OPH Rescue</td>\n",
              "      <td>OPH Rescue brings dogs and cats from overcrowd...</td>\n",
              "      <td>VA, DC, MD, PA</td>\n",
              "      <td>False</td>\n",
              "      <td>2022-06-16 15:14:45</td>\n",
              "      <td>Sumatran Rhinoceros has his smile camera ready...</td>\n",
              "      <td>NaN</td>\n",
              "      <td>Twitter Web App</td>\n",
              "      <td>4</td>\n",
              "      <td>[sumatran, rhinoceros, smile, camera, ready, l...</td>\n",
              "      <td>25</td>\n",
              "    </tr>\n",
              "    <tr>\n",
              "      <th>4</th>\n",
              "      <td>4</td>\n",
              "      <td>Sudan the Rhino fans</td>\n",
              "      <td>Sudan, the last male Northern White Rhino, is ...</td>\n",
              "      <td>Canada</td>\n",
              "      <td>False</td>\n",
              "      <td>2022-06-14 16:13:38</td>\n",
              "      <td>@burtonlim Hi Mr. Lim, I wanted to explore don...</td>\n",
              "      <td>NaN</td>\n",
              "      <td>Twitter for iPad</td>\n",
              "      <td>0</td>\n",
              "      <td>[burtonlim, hi, mr, lim, wanted, explore, dona...</td>\n",
              "      <td>17</td>\n",
              "    </tr>\n",
              "  </tbody>\n",
              "</table>\n",
              "</div>\n",
              "      <button class=\"colab-df-convert\" onclick=\"convertToInteractive('df-d4c5622d-c652-4ad8-8730-3aa92acf644d')\"\n",
              "              title=\"Convert this dataframe to an interactive table.\"\n",
              "              style=\"display:none;\">\n",
              "        \n",
              "  <svg xmlns=\"http://www.w3.org/2000/svg\" height=\"24px\"viewBox=\"0 0 24 24\"\n",
              "       width=\"24px\">\n",
              "    <path d=\"M0 0h24v24H0V0z\" fill=\"none\"/>\n",
              "    <path d=\"M18.56 5.44l.94 2.06.94-2.06 2.06-.94-2.06-.94-.94-2.06-.94 2.06-2.06.94zm-11 1L8.5 8.5l.94-2.06 2.06-.94-2.06-.94L8.5 2.5l-.94 2.06-2.06.94zm10 10l.94 2.06.94-2.06 2.06-.94-2.06-.94-.94-2.06-.94 2.06-2.06.94z\"/><path d=\"M17.41 7.96l-1.37-1.37c-.4-.4-.92-.59-1.43-.59-.52 0-1.04.2-1.43.59L10.3 9.45l-7.72 7.72c-.78.78-.78 2.05 0 2.83L4 21.41c.39.39.9.59 1.41.59.51 0 1.02-.2 1.41-.59l7.78-7.78 2.81-2.81c.8-.78.8-2.07 0-2.86zM5.41 20L4 18.59l7.72-7.72 1.47 1.35L5.41 20z\"/>\n",
              "  </svg>\n",
              "      </button>\n",
              "      \n",
              "  <style>\n",
              "    .colab-df-container {\n",
              "      display:flex;\n",
              "      flex-wrap:wrap;\n",
              "      gap: 12px;\n",
              "    }\n",
              "\n",
              "    .colab-df-convert {\n",
              "      background-color: #E8F0FE;\n",
              "      border: none;\n",
              "      border-radius: 50%;\n",
              "      cursor: pointer;\n",
              "      display: none;\n",
              "      fill: #1967D2;\n",
              "      height: 32px;\n",
              "      padding: 0 0 0 0;\n",
              "      width: 32px;\n",
              "    }\n",
              "\n",
              "    .colab-df-convert:hover {\n",
              "      background-color: #E2EBFA;\n",
              "      box-shadow: 0px 1px 2px rgba(60, 64, 67, 0.3), 0px 1px 3px 1px rgba(60, 64, 67, 0.15);\n",
              "      fill: #174EA6;\n",
              "    }\n",
              "\n",
              "    [theme=dark] .colab-df-convert {\n",
              "      background-color: #3B4455;\n",
              "      fill: #D2E3FC;\n",
              "    }\n",
              "\n",
              "    [theme=dark] .colab-df-convert:hover {\n",
              "      background-color: #434B5C;\n",
              "      box-shadow: 0px 1px 3px 1px rgba(0, 0, 0, 0.15);\n",
              "      filter: drop-shadow(0px 1px 2px rgba(0, 0, 0, 0.3));\n",
              "      fill: #FFFFFF;\n",
              "    }\n",
              "  </style>\n",
              "\n",
              "      <script>\n",
              "        const buttonEl =\n",
              "          document.querySelector('#df-d4c5622d-c652-4ad8-8730-3aa92acf644d button.colab-df-convert');\n",
              "        buttonEl.style.display =\n",
              "          google.colab.kernel.accessAllowed ? 'block' : 'none';\n",
              "\n",
              "        async function convertToInteractive(key) {\n",
              "          const element = document.querySelector('#df-d4c5622d-c652-4ad8-8730-3aa92acf644d');\n",
              "          const dataTable =\n",
              "            await google.colab.kernel.invokeFunction('convertToInteractive',\n",
              "                                                     [key], {});\n",
              "          if (!dataTable) return;\n",
              "\n",
              "          const docLinkHtml = 'Like what you see? Visit the ' +\n",
              "            '<a target=\"_blank\" href=https://colab.research.google.com/notebooks/data_table.ipynb>data table notebook</a>'\n",
              "            + ' to learn more about interactive tables.';\n",
              "          element.innerHTML = '';\n",
              "          dataTable['output_type'] = 'display_data';\n",
              "          await google.colab.output.renderOutput(dataTable, element);\n",
              "          const docLink = document.createElement('div');\n",
              "          docLink.innerHTML = docLinkHtml;\n",
              "          element.appendChild(docLink);\n",
              "        }\n",
              "      </script>\n",
              "    </div>\n",
              "  </div>\n",
              "  "
            ]
          },
          "metadata": {},
          "execution_count": 41
        }
      ]
    },
    {
      "cell_type": "code",
      "source": [
        "tweets_df.shape"
      ],
      "metadata": {
        "colab": {
          "base_uri": "https://localhost:8080/"
        },
        "id": "EmfSXM798Ckp",
        "outputId": "cb4a9fd3-047c-4d60-d65c-8a49644cc62d"
      },
      "execution_count": 42,
      "outputs": [
        {
          "output_type": "execute_result",
          "data": {
            "text/plain": [
              "(446, 12)"
            ]
          },
          "metadata": {},
          "execution_count": 42
        }
      ]
    },
    {
      "cell_type": "code",
      "source": [
        "tweets_df.to_csv('Tweets-CES-Preprocessed.csv')"
      ],
      "metadata": {
        "id": "_7-qsqv_93cH"
      },
      "execution_count": 43,
      "outputs": []
    },
    {
      "cell_type": "markdown",
      "source": [
        "## Possibly Extinct Species"
      ],
      "metadata": {
        "id": "702wY0Hw8DFZ"
      }
    },
    {
      "cell_type": "code",
      "source": [
        "tweets_df = Tweets_E.copy()"
      ],
      "metadata": {
        "id": "cu8LMpwH8DFa"
      },
      "execution_count": 44,
      "outputs": []
    },
    {
      "cell_type": "code",
      "source": [
        "preprocess_tag = [text_prep(i) for i in tweets_df['text']]\n",
        "tweets_df[\"preprocess_txt\"] = preprocess_tag"
      ],
      "metadata": {
        "id": "cBzeA0hr8DFa"
      },
      "execution_count": 45,
      "outputs": []
    },
    {
      "cell_type": "code",
      "source": [
        "tweets_df['total_len'] = tweets_df['preprocess_txt'].map(lambda x: len(x))"
      ],
      "metadata": {
        "id": "vQZWuftW8DFb"
      },
      "execution_count": 46,
      "outputs": []
    },
    {
      "cell_type": "code",
      "source": [
        "tweets_df.head()"
      ],
      "metadata": {
        "colab": {
          "base_uri": "https://localhost:8080/",
          "height": 476
        },
        "outputId": "7cbe2f3b-9748-4dd9-d95c-e3c1493963e3",
        "id": "fMTZmFcc8DFb"
      },
      "execution_count": 47,
      "outputs": [
        {
          "output_type": "execute_result",
          "data": {
            "text/plain": [
              "   Unnamed: 0           user_name  \\\n",
              "0           0       JustinBonanza   \n",
              "1           1       Makio Gaminor   \n",
              "2           2        Grimm Nevada   \n",
              "3           3  Scientific Reports   \n",
              "4           4           Automated   \n",
              "\n",
              "                                    user_description  \\\n",
              "0  random mash-up of @justinbieber @jtimberlake @...   \n",
              "1  Artist / Conservationist  🥑 I make art about t...   \n",
              "2  Conservative, writer, artist, Common sense per...   \n",
              "3  Online & #openaccess. A primary research publi...   \n",
              "4   Just a twitter bot who tweets a  𝓐𝓾𝓽𝓸𝓶𝓪𝓽𝓮𝓭 tweet   \n",
              "\n",
              "                user_location  user_verification                 date  \\\n",
              "0                         NaN              False  2022-06-23 03:26:34   \n",
              "1  A place with a nice breeze              False  2022-06-20 03:28:08   \n",
              "2                         NaN              False  2022-06-20 01:52:37   \n",
              "3                      London               True  2022-06-16 11:35:48   \n",
              "4                   Automated              False  2022-06-23 09:13:24   \n",
              "\n",
              "                                                text hashtags  \\\n",
              "0  Syria made history launching Does Northern whi...      NaN   \n",
              "1  The northern white rhinoceros is on the verge ...      NaN   \n",
              "2  Here we see a touching photo of a male norther...      NaN   \n",
              "3  In their elegant study, @DrukkerMicha, Sebasti...      NaN   \n",
              "4  A Kouprey is never depressed , unless it is a ...      NaN   \n",
              "\n",
              "                    source  retweets  \\\n",
              "0                  avmtest         0   \n",
              "1          Twitter Web App         2   \n",
              "2          Twitter Web App         0   \n",
              "3          Twitter Web App         0   \n",
              "4  Cheap Bots, Done Quick!         0   \n",
              "\n",
              "                                      preprocess_txt  total_len  \n",
              "0  [syria, made, history, launching, northern, wh...          7  \n",
              "1  [northern, white, rhinoceros, verge, extinctio...         25  \n",
              "2  [see, touching, photo, male, northern, white, ...         27  \n",
              "3  [elegant, study, drukkermicha, sebastian, diec...         26  \n",
              "4  [kouprey, never, depressed, unless, russian, one]          6  "
            ],
            "text/html": [
              "\n",
              "  <div id=\"df-29d51dea-a031-4db1-894d-d3ecb9f6723c\">\n",
              "    <div class=\"colab-df-container\">\n",
              "      <div>\n",
              "<style scoped>\n",
              "    .dataframe tbody tr th:only-of-type {\n",
              "        vertical-align: middle;\n",
              "    }\n",
              "\n",
              "    .dataframe tbody tr th {\n",
              "        vertical-align: top;\n",
              "    }\n",
              "\n",
              "    .dataframe thead th {\n",
              "        text-align: right;\n",
              "    }\n",
              "</style>\n",
              "<table border=\"1\" class=\"dataframe\">\n",
              "  <thead>\n",
              "    <tr style=\"text-align: right;\">\n",
              "      <th></th>\n",
              "      <th>Unnamed: 0</th>\n",
              "      <th>user_name</th>\n",
              "      <th>user_description</th>\n",
              "      <th>user_location</th>\n",
              "      <th>user_verification</th>\n",
              "      <th>date</th>\n",
              "      <th>text</th>\n",
              "      <th>hashtags</th>\n",
              "      <th>source</th>\n",
              "      <th>retweets</th>\n",
              "      <th>preprocess_txt</th>\n",
              "      <th>total_len</th>\n",
              "    </tr>\n",
              "  </thead>\n",
              "  <tbody>\n",
              "    <tr>\n",
              "      <th>0</th>\n",
              "      <td>0</td>\n",
              "      <td>JustinBonanza</td>\n",
              "      <td>random mash-up of @justinbieber @jtimberlake @...</td>\n",
              "      <td>NaN</td>\n",
              "      <td>False</td>\n",
              "      <td>2022-06-23 03:26:34</td>\n",
              "      <td>Syria made history launching Does Northern whi...</td>\n",
              "      <td>NaN</td>\n",
              "      <td>avmtest</td>\n",
              "      <td>0</td>\n",
              "      <td>[syria, made, history, launching, northern, wh...</td>\n",
              "      <td>7</td>\n",
              "    </tr>\n",
              "    <tr>\n",
              "      <th>1</th>\n",
              "      <td>1</td>\n",
              "      <td>Makio Gaminor</td>\n",
              "      <td>Artist / Conservationist  🥑 I make art about t...</td>\n",
              "      <td>A place with a nice breeze</td>\n",
              "      <td>False</td>\n",
              "      <td>2022-06-20 03:28:08</td>\n",
              "      <td>The northern white rhinoceros is on the verge ...</td>\n",
              "      <td>NaN</td>\n",
              "      <td>Twitter Web App</td>\n",
              "      <td>2</td>\n",
              "      <td>[northern, white, rhinoceros, verge, extinctio...</td>\n",
              "      <td>25</td>\n",
              "    </tr>\n",
              "    <tr>\n",
              "      <th>2</th>\n",
              "      <td>2</td>\n",
              "      <td>Grimm Nevada</td>\n",
              "      <td>Conservative, writer, artist, Common sense per...</td>\n",
              "      <td>NaN</td>\n",
              "      <td>False</td>\n",
              "      <td>2022-06-20 01:52:37</td>\n",
              "      <td>Here we see a touching photo of a male norther...</td>\n",
              "      <td>NaN</td>\n",
              "      <td>Twitter Web App</td>\n",
              "      <td>0</td>\n",
              "      <td>[see, touching, photo, male, northern, white, ...</td>\n",
              "      <td>27</td>\n",
              "    </tr>\n",
              "    <tr>\n",
              "      <th>3</th>\n",
              "      <td>3</td>\n",
              "      <td>Scientific Reports</td>\n",
              "      <td>Online &amp; #openaccess. A primary research publi...</td>\n",
              "      <td>London</td>\n",
              "      <td>True</td>\n",
              "      <td>2022-06-16 11:35:48</td>\n",
              "      <td>In their elegant study, @DrukkerMicha, Sebasti...</td>\n",
              "      <td>NaN</td>\n",
              "      <td>Twitter Web App</td>\n",
              "      <td>0</td>\n",
              "      <td>[elegant, study, drukkermicha, sebastian, diec...</td>\n",
              "      <td>26</td>\n",
              "    </tr>\n",
              "    <tr>\n",
              "      <th>4</th>\n",
              "      <td>4</td>\n",
              "      <td>Automated</td>\n",
              "      <td>Just a twitter bot who tweets a  𝓐𝓾𝓽𝓸𝓶𝓪𝓽𝓮𝓭 tweet</td>\n",
              "      <td>Automated</td>\n",
              "      <td>False</td>\n",
              "      <td>2022-06-23 09:13:24</td>\n",
              "      <td>A Kouprey is never depressed , unless it is a ...</td>\n",
              "      <td>NaN</td>\n",
              "      <td>Cheap Bots, Done Quick!</td>\n",
              "      <td>0</td>\n",
              "      <td>[kouprey, never, depressed, unless, russian, one]</td>\n",
              "      <td>6</td>\n",
              "    </tr>\n",
              "  </tbody>\n",
              "</table>\n",
              "</div>\n",
              "      <button class=\"colab-df-convert\" onclick=\"convertToInteractive('df-29d51dea-a031-4db1-894d-d3ecb9f6723c')\"\n",
              "              title=\"Convert this dataframe to an interactive table.\"\n",
              "              style=\"display:none;\">\n",
              "        \n",
              "  <svg xmlns=\"http://www.w3.org/2000/svg\" height=\"24px\"viewBox=\"0 0 24 24\"\n",
              "       width=\"24px\">\n",
              "    <path d=\"M0 0h24v24H0V0z\" fill=\"none\"/>\n",
              "    <path d=\"M18.56 5.44l.94 2.06.94-2.06 2.06-.94-2.06-.94-.94-2.06-.94 2.06-2.06.94zm-11 1L8.5 8.5l.94-2.06 2.06-.94-2.06-.94L8.5 2.5l-.94 2.06-2.06.94zm10 10l.94 2.06.94-2.06 2.06-.94-2.06-.94-.94-2.06-.94 2.06-2.06.94z\"/><path d=\"M17.41 7.96l-1.37-1.37c-.4-.4-.92-.59-1.43-.59-.52 0-1.04.2-1.43.59L10.3 9.45l-7.72 7.72c-.78.78-.78 2.05 0 2.83L4 21.41c.39.39.9.59 1.41.59.51 0 1.02-.2 1.41-.59l7.78-7.78 2.81-2.81c.8-.78.8-2.07 0-2.86zM5.41 20L4 18.59l7.72-7.72 1.47 1.35L5.41 20z\"/>\n",
              "  </svg>\n",
              "      </button>\n",
              "      \n",
              "  <style>\n",
              "    .colab-df-container {\n",
              "      display:flex;\n",
              "      flex-wrap:wrap;\n",
              "      gap: 12px;\n",
              "    }\n",
              "\n",
              "    .colab-df-convert {\n",
              "      background-color: #E8F0FE;\n",
              "      border: none;\n",
              "      border-radius: 50%;\n",
              "      cursor: pointer;\n",
              "      display: none;\n",
              "      fill: #1967D2;\n",
              "      height: 32px;\n",
              "      padding: 0 0 0 0;\n",
              "      width: 32px;\n",
              "    }\n",
              "\n",
              "    .colab-df-convert:hover {\n",
              "      background-color: #E2EBFA;\n",
              "      box-shadow: 0px 1px 2px rgba(60, 64, 67, 0.3), 0px 1px 3px 1px rgba(60, 64, 67, 0.15);\n",
              "      fill: #174EA6;\n",
              "    }\n",
              "\n",
              "    [theme=dark] .colab-df-convert {\n",
              "      background-color: #3B4455;\n",
              "      fill: #D2E3FC;\n",
              "    }\n",
              "\n",
              "    [theme=dark] .colab-df-convert:hover {\n",
              "      background-color: #434B5C;\n",
              "      box-shadow: 0px 1px 3px 1px rgba(0, 0, 0, 0.15);\n",
              "      filter: drop-shadow(0px 1px 2px rgba(0, 0, 0, 0.3));\n",
              "      fill: #FFFFFF;\n",
              "    }\n",
              "  </style>\n",
              "\n",
              "      <script>\n",
              "        const buttonEl =\n",
              "          document.querySelector('#df-29d51dea-a031-4db1-894d-d3ecb9f6723c button.colab-df-convert');\n",
              "        buttonEl.style.display =\n",
              "          google.colab.kernel.accessAllowed ? 'block' : 'none';\n",
              "\n",
              "        async function convertToInteractive(key) {\n",
              "          const element = document.querySelector('#df-29d51dea-a031-4db1-894d-d3ecb9f6723c');\n",
              "          const dataTable =\n",
              "            await google.colab.kernel.invokeFunction('convertToInteractive',\n",
              "                                                     [key], {});\n",
              "          if (!dataTable) return;\n",
              "\n",
              "          const docLinkHtml = 'Like what you see? Visit the ' +\n",
              "            '<a target=\"_blank\" href=https://colab.research.google.com/notebooks/data_table.ipynb>data table notebook</a>'\n",
              "            + ' to learn more about interactive tables.';\n",
              "          element.innerHTML = '';\n",
              "          dataTable['output_type'] = 'display_data';\n",
              "          await google.colab.output.renderOutput(dataTable, element);\n",
              "          const docLink = document.createElement('div');\n",
              "          docLink.innerHTML = docLinkHtml;\n",
              "          element.appendChild(docLink);\n",
              "        }\n",
              "      </script>\n",
              "    </div>\n",
              "  </div>\n",
              "  "
            ]
          },
          "metadata": {},
          "execution_count": 47
        }
      ]
    },
    {
      "cell_type": "code",
      "source": [
        "tweets_df.shape"
      ],
      "metadata": {
        "colab": {
          "base_uri": "https://localhost:8080/"
        },
        "id": "AEqQZcoF8aRg",
        "outputId": "01abd9ab-c070-44a0-e97c-1cec0ec244ef"
      },
      "execution_count": 48,
      "outputs": [
        {
          "output_type": "execute_result",
          "data": {
            "text/plain": [
              "(43, 12)"
            ]
          },
          "metadata": {},
          "execution_count": 48
        }
      ]
    },
    {
      "cell_type": "code",
      "source": [
        "tweets_df.to_csv('Tweets-PES-Preprocessed.csv')"
      ],
      "metadata": {
        "id": "am0imSNc-Hc9"
      },
      "execution_count": 49,
      "outputs": []
    },
    {
      "cell_type": "markdown",
      "source": [
        "## Vulnerable Species"
      ],
      "metadata": {
        "id": "EgmUzZDT8awJ"
      }
    },
    {
      "cell_type": "code",
      "source": [
        "Tweets_V = Tweets_V_100"
      ],
      "metadata": {
        "id": "uBDs60IV8gfp"
      },
      "execution_count": 50,
      "outputs": []
    },
    {
      "cell_type": "code",
      "source": [
        "Tweets_V = pd.concat([Tweets_V,Tweets_V_200], axis=0)\n",
        "Tweets_V = pd.concat([Tweets_V,Tweets_V_300], axis=0)\n",
        "Tweets_V = pd.concat([Tweets_V,Tweets_V_400], axis=0)\n",
        "Tweets_V = pd.concat([Tweets_V,Tweets_V_500], axis=0)\n",
        "Tweets_V = pd.concat([Tweets_V,Tweets_V_595], axis=0)"
      ],
      "metadata": {
        "id": "Ngybyyv88ofE"
      },
      "execution_count": 51,
      "outputs": []
    },
    {
      "cell_type": "code",
      "source": [
        "Tweets_V.to_csv('Tweets_V_Species.csv')"
      ],
      "metadata": {
        "id": "yHXxzpI4-hGc"
      },
      "execution_count": 59,
      "outputs": []
    },
    {
      "cell_type": "code",
      "source": [
        "tweets_df = Tweets_V.copy()"
      ],
      "metadata": {
        "id": "Enzglo8N8awK"
      },
      "execution_count": 52,
      "outputs": []
    },
    {
      "cell_type": "code",
      "source": [
        "preprocess_tag = [text_prep(i) for i in tweets_df['text']]\n",
        "tweets_df[\"preprocess_txt\"] = preprocess_tag"
      ],
      "metadata": {
        "id": "vlrR1c5j8awK"
      },
      "execution_count": 53,
      "outputs": []
    },
    {
      "cell_type": "code",
      "source": [
        "tweets_df['total_len'] = tweets_df['preprocess_txt'].map(lambda x: len(x))"
      ],
      "metadata": {
        "id": "17lSs3rw8awL"
      },
      "execution_count": 54,
      "outputs": []
    },
    {
      "cell_type": "code",
      "source": [
        "tweets_df.head()"
      ],
      "metadata": {
        "colab": {
          "base_uri": "https://localhost:8080/",
          "height": 493
        },
        "outputId": "bec128c8-5168-44f1-a3f3-7de2ec56d9fb",
        "id": "B_EoE43V8awL"
      },
      "execution_count": 55,
      "outputs": [
        {
          "output_type": "execute_result",
          "data": {
            "text/plain": [
              "   Unnamed: 0                                    user_name  \\\n",
              "0           0                 Not The Krookodile Hunter 🇲🇽   \n",
              "1           1                             Saravanakumar CS   \n",
              "2           2  The Left isn't divided the center is 🐌🍄🐙🦔😷🐌   \n",
              "3           3                           Phillip Templo Jr.   \n",
              "4           4                                       RENO🐊🐊   \n",
              "\n",
              "                                    user_description  \\\n",
              "0  Hola seguidores.  Estoy de incognita para que ...   \n",
              "1                                                NaN   \n",
              "2  Lennonist dreamer, peacenik. Snark and sarcasm...   \n",
              "3  Pathology Residency Program Director @ https:/...   \n",
              "4                    no way….he just ate my hair :3c   \n",
              "\n",
              "                  user_location  user_verification                 date  \\\n",
              "0                  Richmond, CA              False  2022-06-22 10:48:30   \n",
              "1                           NaN              False  2022-06-18 09:08:30   \n",
              "2                            🐢🏝              False  2022-06-17 12:56:51   \n",
              "3  Manila: All views are my OWN              False  2022-06-23 17:23:47   \n",
              "4               Your moms house              False  2022-06-23 16:16:45   \n",
              "\n",
              "                                                text hashtags  \\\n",
              "0  @HarpyGoth Brad the Roseate Skimmer\\nRyder the...      NaN   \n",
              "1  @save_pangolin @Vikash_BR @UtkarshSingh_ fucki...      NaN   \n",
              "2  If there’s anyone around in 2622 maybe they’ll...      NaN   \n",
              "3  @pripri_gosakto If they tell you once again na...      NaN   \n",
              "4  @fizzygoop Well sucks to suck dugong I have a ...      NaN   \n",
              "\n",
              "                source  retweets  \\\n",
              "0  Twitter for Android         0   \n",
              "1  Twitter for Android         0   \n",
              "2   Twitter for iPhone         0   \n",
              "3      Twitter Web App         0   \n",
              "4   Twitter for iPhone         0   \n",
              "\n",
              "                                      preprocess_txt  total_len  \n",
              "0  [harpygoth, brad, roseate, skimmer, ryder, kno...         19  \n",
              "1  [save, pangolin, vikash, br, utkarshsingh, fuc...         25  \n",
              "2  [anyone, around, maybe, settle, pangolin, grou...         18  \n",
              "3  [pripri, gosakto, tell, na, may, dugong, kasti...         14  \n",
              "4  [fizzygoop, well, suck, suck, dugong, overall,...          7  "
            ],
            "text/html": [
              "\n",
              "  <div id=\"df-1a8ab15f-85b2-4336-b15e-7943265d6b95\">\n",
              "    <div class=\"colab-df-container\">\n",
              "      <div>\n",
              "<style scoped>\n",
              "    .dataframe tbody tr th:only-of-type {\n",
              "        vertical-align: middle;\n",
              "    }\n",
              "\n",
              "    .dataframe tbody tr th {\n",
              "        vertical-align: top;\n",
              "    }\n",
              "\n",
              "    .dataframe thead th {\n",
              "        text-align: right;\n",
              "    }\n",
              "</style>\n",
              "<table border=\"1\" class=\"dataframe\">\n",
              "  <thead>\n",
              "    <tr style=\"text-align: right;\">\n",
              "      <th></th>\n",
              "      <th>Unnamed: 0</th>\n",
              "      <th>user_name</th>\n",
              "      <th>user_description</th>\n",
              "      <th>user_location</th>\n",
              "      <th>user_verification</th>\n",
              "      <th>date</th>\n",
              "      <th>text</th>\n",
              "      <th>hashtags</th>\n",
              "      <th>source</th>\n",
              "      <th>retweets</th>\n",
              "      <th>preprocess_txt</th>\n",
              "      <th>total_len</th>\n",
              "    </tr>\n",
              "  </thead>\n",
              "  <tbody>\n",
              "    <tr>\n",
              "      <th>0</th>\n",
              "      <td>0</td>\n",
              "      <td>Not The Krookodile Hunter 🇲🇽</td>\n",
              "      <td>Hola seguidores.  Estoy de incognita para que ...</td>\n",
              "      <td>Richmond, CA</td>\n",
              "      <td>False</td>\n",
              "      <td>2022-06-22 10:48:30</td>\n",
              "      <td>@HarpyGoth Brad the Roseate Skimmer\\nRyder the...</td>\n",
              "      <td>NaN</td>\n",
              "      <td>Twitter for Android</td>\n",
              "      <td>0</td>\n",
              "      <td>[harpygoth, brad, roseate, skimmer, ryder, kno...</td>\n",
              "      <td>19</td>\n",
              "    </tr>\n",
              "    <tr>\n",
              "      <th>1</th>\n",
              "      <td>1</td>\n",
              "      <td>Saravanakumar CS</td>\n",
              "      <td>NaN</td>\n",
              "      <td>NaN</td>\n",
              "      <td>False</td>\n",
              "      <td>2022-06-18 09:08:30</td>\n",
              "      <td>@save_pangolin @Vikash_BR @UtkarshSingh_ fucki...</td>\n",
              "      <td>NaN</td>\n",
              "      <td>Twitter for Android</td>\n",
              "      <td>0</td>\n",
              "      <td>[save, pangolin, vikash, br, utkarshsingh, fuc...</td>\n",
              "      <td>25</td>\n",
              "    </tr>\n",
              "    <tr>\n",
              "      <th>2</th>\n",
              "      <td>2</td>\n",
              "      <td>The Left isn't divided the center is 🐌🍄🐙🦔😷🐌</td>\n",
              "      <td>Lennonist dreamer, peacenik. Snark and sarcasm...</td>\n",
              "      <td>🐢🏝</td>\n",
              "      <td>False</td>\n",
              "      <td>2022-06-17 12:56:51</td>\n",
              "      <td>If there’s anyone around in 2622 maybe they’ll...</td>\n",
              "      <td>NaN</td>\n",
              "      <td>Twitter for iPhone</td>\n",
              "      <td>0</td>\n",
              "      <td>[anyone, around, maybe, settle, pangolin, grou...</td>\n",
              "      <td>18</td>\n",
              "    </tr>\n",
              "    <tr>\n",
              "      <th>3</th>\n",
              "      <td>3</td>\n",
              "      <td>Phillip Templo Jr.</td>\n",
              "      <td>Pathology Residency Program Director @ https:/...</td>\n",
              "      <td>Manila: All views are my OWN</td>\n",
              "      <td>False</td>\n",
              "      <td>2022-06-23 17:23:47</td>\n",
              "      <td>@pripri_gosakto If they tell you once again na...</td>\n",
              "      <td>NaN</td>\n",
              "      <td>Twitter Web App</td>\n",
              "      <td>0</td>\n",
              "      <td>[pripri, gosakto, tell, na, may, dugong, kasti...</td>\n",
              "      <td>14</td>\n",
              "    </tr>\n",
              "    <tr>\n",
              "      <th>4</th>\n",
              "      <td>4</td>\n",
              "      <td>RENO🐊🐊</td>\n",
              "      <td>no way….he just ate my hair :3c</td>\n",
              "      <td>Your moms house</td>\n",
              "      <td>False</td>\n",
              "      <td>2022-06-23 16:16:45</td>\n",
              "      <td>@fizzygoop Well sucks to suck dugong I have a ...</td>\n",
              "      <td>NaN</td>\n",
              "      <td>Twitter for iPhone</td>\n",
              "      <td>0</td>\n",
              "      <td>[fizzygoop, well, suck, suck, dugong, overall,...</td>\n",
              "      <td>7</td>\n",
              "    </tr>\n",
              "  </tbody>\n",
              "</table>\n",
              "</div>\n",
              "      <button class=\"colab-df-convert\" onclick=\"convertToInteractive('df-1a8ab15f-85b2-4336-b15e-7943265d6b95')\"\n",
              "              title=\"Convert this dataframe to an interactive table.\"\n",
              "              style=\"display:none;\">\n",
              "        \n",
              "  <svg xmlns=\"http://www.w3.org/2000/svg\" height=\"24px\"viewBox=\"0 0 24 24\"\n",
              "       width=\"24px\">\n",
              "    <path d=\"M0 0h24v24H0V0z\" fill=\"none\"/>\n",
              "    <path d=\"M18.56 5.44l.94 2.06.94-2.06 2.06-.94-2.06-.94-.94-2.06-.94 2.06-2.06.94zm-11 1L8.5 8.5l.94-2.06 2.06-.94-2.06-.94L8.5 2.5l-.94 2.06-2.06.94zm10 10l.94 2.06.94-2.06 2.06-.94-2.06-.94-.94-2.06-.94 2.06-2.06.94z\"/><path d=\"M17.41 7.96l-1.37-1.37c-.4-.4-.92-.59-1.43-.59-.52 0-1.04.2-1.43.59L10.3 9.45l-7.72 7.72c-.78.78-.78 2.05 0 2.83L4 21.41c.39.39.9.59 1.41.59.51 0 1.02-.2 1.41-.59l7.78-7.78 2.81-2.81c.8-.78.8-2.07 0-2.86zM5.41 20L4 18.59l7.72-7.72 1.47 1.35L5.41 20z\"/>\n",
              "  </svg>\n",
              "      </button>\n",
              "      \n",
              "  <style>\n",
              "    .colab-df-container {\n",
              "      display:flex;\n",
              "      flex-wrap:wrap;\n",
              "      gap: 12px;\n",
              "    }\n",
              "\n",
              "    .colab-df-convert {\n",
              "      background-color: #E8F0FE;\n",
              "      border: none;\n",
              "      border-radius: 50%;\n",
              "      cursor: pointer;\n",
              "      display: none;\n",
              "      fill: #1967D2;\n",
              "      height: 32px;\n",
              "      padding: 0 0 0 0;\n",
              "      width: 32px;\n",
              "    }\n",
              "\n",
              "    .colab-df-convert:hover {\n",
              "      background-color: #E2EBFA;\n",
              "      box-shadow: 0px 1px 2px rgba(60, 64, 67, 0.3), 0px 1px 3px 1px rgba(60, 64, 67, 0.15);\n",
              "      fill: #174EA6;\n",
              "    }\n",
              "\n",
              "    [theme=dark] .colab-df-convert {\n",
              "      background-color: #3B4455;\n",
              "      fill: #D2E3FC;\n",
              "    }\n",
              "\n",
              "    [theme=dark] .colab-df-convert:hover {\n",
              "      background-color: #434B5C;\n",
              "      box-shadow: 0px 1px 3px 1px rgba(0, 0, 0, 0.15);\n",
              "      filter: drop-shadow(0px 1px 2px rgba(0, 0, 0, 0.3));\n",
              "      fill: #FFFFFF;\n",
              "    }\n",
              "  </style>\n",
              "\n",
              "      <script>\n",
              "        const buttonEl =\n",
              "          document.querySelector('#df-1a8ab15f-85b2-4336-b15e-7943265d6b95 button.colab-df-convert');\n",
              "        buttonEl.style.display =\n",
              "          google.colab.kernel.accessAllowed ? 'block' : 'none';\n",
              "\n",
              "        async function convertToInteractive(key) {\n",
              "          const element = document.querySelector('#df-1a8ab15f-85b2-4336-b15e-7943265d6b95');\n",
              "          const dataTable =\n",
              "            await google.colab.kernel.invokeFunction('convertToInteractive',\n",
              "                                                     [key], {});\n",
              "          if (!dataTable) return;\n",
              "\n",
              "          const docLinkHtml = 'Like what you see? Visit the ' +\n",
              "            '<a target=\"_blank\" href=https://colab.research.google.com/notebooks/data_table.ipynb>data table notebook</a>'\n",
              "            + ' to learn more about interactive tables.';\n",
              "          element.innerHTML = '';\n",
              "          dataTable['output_type'] = 'display_data';\n",
              "          await google.colab.output.renderOutput(dataTable, element);\n",
              "          const docLink = document.createElement('div');\n",
              "          docLink.innerHTML = docLinkHtml;\n",
              "          element.appendChild(docLink);\n",
              "        }\n",
              "      </script>\n",
              "    </div>\n",
              "  </div>\n",
              "  "
            ]
          },
          "metadata": {},
          "execution_count": 55
        }
      ]
    },
    {
      "cell_type": "code",
      "source": [
        "tweets_df.shape"
      ],
      "metadata": {
        "colab": {
          "base_uri": "https://localhost:8080/"
        },
        "id": "xGP0f7IM9MR3",
        "outputId": "8d04c3d1-9bab-4749-d0d0-dfb5ef645428"
      },
      "execution_count": 56,
      "outputs": [
        {
          "output_type": "execute_result",
          "data": {
            "text/plain": [
              "(843, 12)"
            ]
          },
          "metadata": {},
          "execution_count": 56
        }
      ]
    },
    {
      "cell_type": "code",
      "source": [
        "tweets_df.to_csv('Tweets-VS-Preprocessed.csv')"
      ],
      "metadata": {
        "id": "SQEgmQjL-R4L"
      },
      "execution_count": 57,
      "outputs": []
    }
  ]
}