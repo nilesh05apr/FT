{
  "nbformat": 4,
  "nbformat_minor": 0,
  "metadata": {
    "colab": {
      "name": "Sentiment Analysis.ipynb",
      "provenance": [],
      "collapsed_sections": [
        "U4sSJmA4UrgA"
      ]
    },
    "kernelspec": {
      "name": "python3",
      "display_name": "Python 3"
    },
    "language_info": {
      "name": "python"
    },
    "widgets": {
      "application/vnd.jupyter.widget-state+json": {
        "30ee1325fb154e2d997b4d1a5a9867e5": {
          "model_module": "@jupyter-widgets/controls",
          "model_name": "HBoxModel",
          "model_module_version": "1.5.0",
          "state": {
            "_dom_classes": [],
            "_model_module": "@jupyter-widgets/controls",
            "_model_module_version": "1.5.0",
            "_model_name": "HBoxModel",
            "_view_count": null,
            "_view_module": "@jupyter-widgets/controls",
            "_view_module_version": "1.5.0",
            "_view_name": "HBoxView",
            "box_style": "",
            "children": [
              "IPY_MODEL_99dfb5c3adb1471ab7af6d625eeca698",
              "IPY_MODEL_6ac4cd651f1742f58228ec093dd1ec15",
              "IPY_MODEL_df85da64c90e4b1da0bed25fe7282c03"
            ],
            "layout": "IPY_MODEL_8cb36a1a0ee64b7dacc5e3a9b71e4a10"
          }
        },
        "99dfb5c3adb1471ab7af6d625eeca698": {
          "model_module": "@jupyter-widgets/controls",
          "model_name": "HTMLModel",
          "model_module_version": "1.5.0",
          "state": {
            "_dom_classes": [],
            "_model_module": "@jupyter-widgets/controls",
            "_model_module_version": "1.5.0",
            "_model_name": "HTMLModel",
            "_view_count": null,
            "_view_module": "@jupyter-widgets/controls",
            "_view_module_version": "1.5.0",
            "_view_name": "HTMLView",
            "description": "",
            "description_tooltip": null,
            "layout": "IPY_MODEL_a3550181cc514feaaa7bf41cec8f9eb8",
            "placeholder": "​",
            "style": "IPY_MODEL_865259dae64043d182db33b0fcf68188",
            "value": "Downloading: 100%"
          }
        },
        "6ac4cd651f1742f58228ec093dd1ec15": {
          "model_module": "@jupyter-widgets/controls",
          "model_name": "FloatProgressModel",
          "model_module_version": "1.5.0",
          "state": {
            "_dom_classes": [],
            "_model_module": "@jupyter-widgets/controls",
            "_model_module_version": "1.5.0",
            "_model_name": "FloatProgressModel",
            "_view_count": null,
            "_view_module": "@jupyter-widgets/controls",
            "_view_module_version": "1.5.0",
            "_view_name": "ProgressView",
            "bar_style": "success",
            "description": "",
            "description_tooltip": null,
            "layout": "IPY_MODEL_e257ad14cb394322abecbe93fabcb863",
            "max": 629,
            "min": 0,
            "orientation": "horizontal",
            "style": "IPY_MODEL_95bd22b9a7fd4c7fa19ea6212a084d4b",
            "value": 629
          }
        },
        "df85da64c90e4b1da0bed25fe7282c03": {
          "model_module": "@jupyter-widgets/controls",
          "model_name": "HTMLModel",
          "model_module_version": "1.5.0",
          "state": {
            "_dom_classes": [],
            "_model_module": "@jupyter-widgets/controls",
            "_model_module_version": "1.5.0",
            "_model_name": "HTMLModel",
            "_view_count": null,
            "_view_module": "@jupyter-widgets/controls",
            "_view_module_version": "1.5.0",
            "_view_name": "HTMLView",
            "description": "",
            "description_tooltip": null,
            "layout": "IPY_MODEL_23b507daa3d147baa148cb343e3ab00c",
            "placeholder": "​",
            "style": "IPY_MODEL_f3f843bad8dc4efebc4dd5dc7285382c",
            "value": " 629/629 [00:00&lt;00:00, 3.51kB/s]"
          }
        },
        "8cb36a1a0ee64b7dacc5e3a9b71e4a10": {
          "model_module": "@jupyter-widgets/base",
          "model_name": "LayoutModel",
          "model_module_version": "1.2.0",
          "state": {
            "_model_module": "@jupyter-widgets/base",
            "_model_module_version": "1.2.0",
            "_model_name": "LayoutModel",
            "_view_count": null,
            "_view_module": "@jupyter-widgets/base",
            "_view_module_version": "1.2.0",
            "_view_name": "LayoutView",
            "align_content": null,
            "align_items": null,
            "align_self": null,
            "border": null,
            "bottom": null,
            "display": null,
            "flex": null,
            "flex_flow": null,
            "grid_area": null,
            "grid_auto_columns": null,
            "grid_auto_flow": null,
            "grid_auto_rows": null,
            "grid_column": null,
            "grid_gap": null,
            "grid_row": null,
            "grid_template_areas": null,
            "grid_template_columns": null,
            "grid_template_rows": null,
            "height": null,
            "justify_content": null,
            "justify_items": null,
            "left": null,
            "margin": null,
            "max_height": null,
            "max_width": null,
            "min_height": null,
            "min_width": null,
            "object_fit": null,
            "object_position": null,
            "order": null,
            "overflow": null,
            "overflow_x": null,
            "overflow_y": null,
            "padding": null,
            "right": null,
            "top": null,
            "visibility": null,
            "width": null
          }
        },
        "a3550181cc514feaaa7bf41cec8f9eb8": {
          "model_module": "@jupyter-widgets/base",
          "model_name": "LayoutModel",
          "model_module_version": "1.2.0",
          "state": {
            "_model_module": "@jupyter-widgets/base",
            "_model_module_version": "1.2.0",
            "_model_name": "LayoutModel",
            "_view_count": null,
            "_view_module": "@jupyter-widgets/base",
            "_view_module_version": "1.2.0",
            "_view_name": "LayoutView",
            "align_content": null,
            "align_items": null,
            "align_self": null,
            "border": null,
            "bottom": null,
            "display": null,
            "flex": null,
            "flex_flow": null,
            "grid_area": null,
            "grid_auto_columns": null,
            "grid_auto_flow": null,
            "grid_auto_rows": null,
            "grid_column": null,
            "grid_gap": null,
            "grid_row": null,
            "grid_template_areas": null,
            "grid_template_columns": null,
            "grid_template_rows": null,
            "height": null,
            "justify_content": null,
            "justify_items": null,
            "left": null,
            "margin": null,
            "max_height": null,
            "max_width": null,
            "min_height": null,
            "min_width": null,
            "object_fit": null,
            "object_position": null,
            "order": null,
            "overflow": null,
            "overflow_x": null,
            "overflow_y": null,
            "padding": null,
            "right": null,
            "top": null,
            "visibility": null,
            "width": null
          }
        },
        "865259dae64043d182db33b0fcf68188": {
          "model_module": "@jupyter-widgets/controls",
          "model_name": "DescriptionStyleModel",
          "model_module_version": "1.5.0",
          "state": {
            "_model_module": "@jupyter-widgets/controls",
            "_model_module_version": "1.5.0",
            "_model_name": "DescriptionStyleModel",
            "_view_count": null,
            "_view_module": "@jupyter-widgets/base",
            "_view_module_version": "1.2.0",
            "_view_name": "StyleView",
            "description_width": ""
          }
        },
        "e257ad14cb394322abecbe93fabcb863": {
          "model_module": "@jupyter-widgets/base",
          "model_name": "LayoutModel",
          "model_module_version": "1.2.0",
          "state": {
            "_model_module": "@jupyter-widgets/base",
            "_model_module_version": "1.2.0",
            "_model_name": "LayoutModel",
            "_view_count": null,
            "_view_module": "@jupyter-widgets/base",
            "_view_module_version": "1.2.0",
            "_view_name": "LayoutView",
            "align_content": null,
            "align_items": null,
            "align_self": null,
            "border": null,
            "bottom": null,
            "display": null,
            "flex": null,
            "flex_flow": null,
            "grid_area": null,
            "grid_auto_columns": null,
            "grid_auto_flow": null,
            "grid_auto_rows": null,
            "grid_column": null,
            "grid_gap": null,
            "grid_row": null,
            "grid_template_areas": null,
            "grid_template_columns": null,
            "grid_template_rows": null,
            "height": null,
            "justify_content": null,
            "justify_items": null,
            "left": null,
            "margin": null,
            "max_height": null,
            "max_width": null,
            "min_height": null,
            "min_width": null,
            "object_fit": null,
            "object_position": null,
            "order": null,
            "overflow": null,
            "overflow_x": null,
            "overflow_y": null,
            "padding": null,
            "right": null,
            "top": null,
            "visibility": null,
            "width": null
          }
        },
        "95bd22b9a7fd4c7fa19ea6212a084d4b": {
          "model_module": "@jupyter-widgets/controls",
          "model_name": "ProgressStyleModel",
          "model_module_version": "1.5.0",
          "state": {
            "_model_module": "@jupyter-widgets/controls",
            "_model_module_version": "1.5.0",
            "_model_name": "ProgressStyleModel",
            "_view_count": null,
            "_view_module": "@jupyter-widgets/base",
            "_view_module_version": "1.2.0",
            "_view_name": "StyleView",
            "bar_color": null,
            "description_width": ""
          }
        },
        "23b507daa3d147baa148cb343e3ab00c": {
          "model_module": "@jupyter-widgets/base",
          "model_name": "LayoutModel",
          "model_module_version": "1.2.0",
          "state": {
            "_model_module": "@jupyter-widgets/base",
            "_model_module_version": "1.2.0",
            "_model_name": "LayoutModel",
            "_view_count": null,
            "_view_module": "@jupyter-widgets/base",
            "_view_module_version": "1.2.0",
            "_view_name": "LayoutView",
            "align_content": null,
            "align_items": null,
            "align_self": null,
            "border": null,
            "bottom": null,
            "display": null,
            "flex": null,
            "flex_flow": null,
            "grid_area": null,
            "grid_auto_columns": null,
            "grid_auto_flow": null,
            "grid_auto_rows": null,
            "grid_column": null,
            "grid_gap": null,
            "grid_row": null,
            "grid_template_areas": null,
            "grid_template_columns": null,
            "grid_template_rows": null,
            "height": null,
            "justify_content": null,
            "justify_items": null,
            "left": null,
            "margin": null,
            "max_height": null,
            "max_width": null,
            "min_height": null,
            "min_width": null,
            "object_fit": null,
            "object_position": null,
            "order": null,
            "overflow": null,
            "overflow_x": null,
            "overflow_y": null,
            "padding": null,
            "right": null,
            "top": null,
            "visibility": null,
            "width": null
          }
        },
        "f3f843bad8dc4efebc4dd5dc7285382c": {
          "model_module": "@jupyter-widgets/controls",
          "model_name": "DescriptionStyleModel",
          "model_module_version": "1.5.0",
          "state": {
            "_model_module": "@jupyter-widgets/controls",
            "_model_module_version": "1.5.0",
            "_model_name": "DescriptionStyleModel",
            "_view_count": null,
            "_view_module": "@jupyter-widgets/base",
            "_view_module_version": "1.2.0",
            "_view_name": "StyleView",
            "description_width": ""
          }
        },
        "ba47d655333240f986ff21a91a352e1d": {
          "model_module": "@jupyter-widgets/controls",
          "model_name": "HBoxModel",
          "model_module_version": "1.5.0",
          "state": {
            "_dom_classes": [],
            "_model_module": "@jupyter-widgets/controls",
            "_model_module_version": "1.5.0",
            "_model_name": "HBoxModel",
            "_view_count": null,
            "_view_module": "@jupyter-widgets/controls",
            "_view_module_version": "1.5.0",
            "_view_name": "HBoxView",
            "box_style": "",
            "children": [
              "IPY_MODEL_9e5691f1f83543888286dbf8f14e29df",
              "IPY_MODEL_6083604440894d03b226f04a55ab03ba",
              "IPY_MODEL_fb54f848f79141cd9e172b11409fb2a0"
            ],
            "layout": "IPY_MODEL_65c568488cb44891b2d7afb413386fa0"
          }
        },
        "9e5691f1f83543888286dbf8f14e29df": {
          "model_module": "@jupyter-widgets/controls",
          "model_name": "HTMLModel",
          "model_module_version": "1.5.0",
          "state": {
            "_dom_classes": [],
            "_model_module": "@jupyter-widgets/controls",
            "_model_module_version": "1.5.0",
            "_model_name": "HTMLModel",
            "_view_count": null,
            "_view_module": "@jupyter-widgets/controls",
            "_view_module_version": "1.5.0",
            "_view_name": "HTMLView",
            "description": "",
            "description_tooltip": null,
            "layout": "IPY_MODEL_8234b1f1cbf24d648ac0f2a1b8c0c61a",
            "placeholder": "​",
            "style": "IPY_MODEL_df09074d28bd41bc81742a9e4d541740",
            "value": "Downloading: 100%"
          }
        },
        "6083604440894d03b226f04a55ab03ba": {
          "model_module": "@jupyter-widgets/controls",
          "model_name": "FloatProgressModel",
          "model_module_version": "1.5.0",
          "state": {
            "_dom_classes": [],
            "_model_module": "@jupyter-widgets/controls",
            "_model_module_version": "1.5.0",
            "_model_name": "FloatProgressModel",
            "_view_count": null,
            "_view_module": "@jupyter-widgets/controls",
            "_view_module_version": "1.5.0",
            "_view_name": "ProgressView",
            "bar_style": "success",
            "description": "",
            "description_tooltip": null,
            "layout": "IPY_MODEL_d90f434b292e446a80a763141e03ab85",
            "max": 267844284,
            "min": 0,
            "orientation": "horizontal",
            "style": "IPY_MODEL_d67688f66ea145f69b51a8cf6f8b65f1",
            "value": 267844284
          }
        },
        "fb54f848f79141cd9e172b11409fb2a0": {
          "model_module": "@jupyter-widgets/controls",
          "model_name": "HTMLModel",
          "model_module_version": "1.5.0",
          "state": {
            "_dom_classes": [],
            "_model_module": "@jupyter-widgets/controls",
            "_model_module_version": "1.5.0",
            "_model_name": "HTMLModel",
            "_view_count": null,
            "_view_module": "@jupyter-widgets/controls",
            "_view_module_version": "1.5.0",
            "_view_name": "HTMLView",
            "description": "",
            "description_tooltip": null,
            "layout": "IPY_MODEL_06e5c72ffc8b40ba9b543e705ef492bd",
            "placeholder": "​",
            "style": "IPY_MODEL_7fc5e7989aec41e18d84d105eb10d358",
            "value": " 255M/255M [00:06&lt;00:00, 23.0MB/s]"
          }
        },
        "65c568488cb44891b2d7afb413386fa0": {
          "model_module": "@jupyter-widgets/base",
          "model_name": "LayoutModel",
          "model_module_version": "1.2.0",
          "state": {
            "_model_module": "@jupyter-widgets/base",
            "_model_module_version": "1.2.0",
            "_model_name": "LayoutModel",
            "_view_count": null,
            "_view_module": "@jupyter-widgets/base",
            "_view_module_version": "1.2.0",
            "_view_name": "LayoutView",
            "align_content": null,
            "align_items": null,
            "align_self": null,
            "border": null,
            "bottom": null,
            "display": null,
            "flex": null,
            "flex_flow": null,
            "grid_area": null,
            "grid_auto_columns": null,
            "grid_auto_flow": null,
            "grid_auto_rows": null,
            "grid_column": null,
            "grid_gap": null,
            "grid_row": null,
            "grid_template_areas": null,
            "grid_template_columns": null,
            "grid_template_rows": null,
            "height": null,
            "justify_content": null,
            "justify_items": null,
            "left": null,
            "margin": null,
            "max_height": null,
            "max_width": null,
            "min_height": null,
            "min_width": null,
            "object_fit": null,
            "object_position": null,
            "order": null,
            "overflow": null,
            "overflow_x": null,
            "overflow_y": null,
            "padding": null,
            "right": null,
            "top": null,
            "visibility": null,
            "width": null
          }
        },
        "8234b1f1cbf24d648ac0f2a1b8c0c61a": {
          "model_module": "@jupyter-widgets/base",
          "model_name": "LayoutModel",
          "model_module_version": "1.2.0",
          "state": {
            "_model_module": "@jupyter-widgets/base",
            "_model_module_version": "1.2.0",
            "_model_name": "LayoutModel",
            "_view_count": null,
            "_view_module": "@jupyter-widgets/base",
            "_view_module_version": "1.2.0",
            "_view_name": "LayoutView",
            "align_content": null,
            "align_items": null,
            "align_self": null,
            "border": null,
            "bottom": null,
            "display": null,
            "flex": null,
            "flex_flow": null,
            "grid_area": null,
            "grid_auto_columns": null,
            "grid_auto_flow": null,
            "grid_auto_rows": null,
            "grid_column": null,
            "grid_gap": null,
            "grid_row": null,
            "grid_template_areas": null,
            "grid_template_columns": null,
            "grid_template_rows": null,
            "height": null,
            "justify_content": null,
            "justify_items": null,
            "left": null,
            "margin": null,
            "max_height": null,
            "max_width": null,
            "min_height": null,
            "min_width": null,
            "object_fit": null,
            "object_position": null,
            "order": null,
            "overflow": null,
            "overflow_x": null,
            "overflow_y": null,
            "padding": null,
            "right": null,
            "top": null,
            "visibility": null,
            "width": null
          }
        },
        "df09074d28bd41bc81742a9e4d541740": {
          "model_module": "@jupyter-widgets/controls",
          "model_name": "DescriptionStyleModel",
          "model_module_version": "1.5.0",
          "state": {
            "_model_module": "@jupyter-widgets/controls",
            "_model_module_version": "1.5.0",
            "_model_name": "DescriptionStyleModel",
            "_view_count": null,
            "_view_module": "@jupyter-widgets/base",
            "_view_module_version": "1.2.0",
            "_view_name": "StyleView",
            "description_width": ""
          }
        },
        "d90f434b292e446a80a763141e03ab85": {
          "model_module": "@jupyter-widgets/base",
          "model_name": "LayoutModel",
          "model_module_version": "1.2.0",
          "state": {
            "_model_module": "@jupyter-widgets/base",
            "_model_module_version": "1.2.0",
            "_model_name": "LayoutModel",
            "_view_count": null,
            "_view_module": "@jupyter-widgets/base",
            "_view_module_version": "1.2.0",
            "_view_name": "LayoutView",
            "align_content": null,
            "align_items": null,
            "align_self": null,
            "border": null,
            "bottom": null,
            "display": null,
            "flex": null,
            "flex_flow": null,
            "grid_area": null,
            "grid_auto_columns": null,
            "grid_auto_flow": null,
            "grid_auto_rows": null,
            "grid_column": null,
            "grid_gap": null,
            "grid_row": null,
            "grid_template_areas": null,
            "grid_template_columns": null,
            "grid_template_rows": null,
            "height": null,
            "justify_content": null,
            "justify_items": null,
            "left": null,
            "margin": null,
            "max_height": null,
            "max_width": null,
            "min_height": null,
            "min_width": null,
            "object_fit": null,
            "object_position": null,
            "order": null,
            "overflow": null,
            "overflow_x": null,
            "overflow_y": null,
            "padding": null,
            "right": null,
            "top": null,
            "visibility": null,
            "width": null
          }
        },
        "d67688f66ea145f69b51a8cf6f8b65f1": {
          "model_module": "@jupyter-widgets/controls",
          "model_name": "ProgressStyleModel",
          "model_module_version": "1.5.0",
          "state": {
            "_model_module": "@jupyter-widgets/controls",
            "_model_module_version": "1.5.0",
            "_model_name": "ProgressStyleModel",
            "_view_count": null,
            "_view_module": "@jupyter-widgets/base",
            "_view_module_version": "1.2.0",
            "_view_name": "StyleView",
            "bar_color": null,
            "description_width": ""
          }
        },
        "06e5c72ffc8b40ba9b543e705ef492bd": {
          "model_module": "@jupyter-widgets/base",
          "model_name": "LayoutModel",
          "model_module_version": "1.2.0",
          "state": {
            "_model_module": "@jupyter-widgets/base",
            "_model_module_version": "1.2.0",
            "_model_name": "LayoutModel",
            "_view_count": null,
            "_view_module": "@jupyter-widgets/base",
            "_view_module_version": "1.2.0",
            "_view_name": "LayoutView",
            "align_content": null,
            "align_items": null,
            "align_self": null,
            "border": null,
            "bottom": null,
            "display": null,
            "flex": null,
            "flex_flow": null,
            "grid_area": null,
            "grid_auto_columns": null,
            "grid_auto_flow": null,
            "grid_auto_rows": null,
            "grid_column": null,
            "grid_gap": null,
            "grid_row": null,
            "grid_template_areas": null,
            "grid_template_columns": null,
            "grid_template_rows": null,
            "height": null,
            "justify_content": null,
            "justify_items": null,
            "left": null,
            "margin": null,
            "max_height": null,
            "max_width": null,
            "min_height": null,
            "min_width": null,
            "object_fit": null,
            "object_position": null,
            "order": null,
            "overflow": null,
            "overflow_x": null,
            "overflow_y": null,
            "padding": null,
            "right": null,
            "top": null,
            "visibility": null,
            "width": null
          }
        },
        "7fc5e7989aec41e18d84d105eb10d358": {
          "model_module": "@jupyter-widgets/controls",
          "model_name": "DescriptionStyleModel",
          "model_module_version": "1.5.0",
          "state": {
            "_model_module": "@jupyter-widgets/controls",
            "_model_module_version": "1.5.0",
            "_model_name": "DescriptionStyleModel",
            "_view_count": null,
            "_view_module": "@jupyter-widgets/base",
            "_view_module_version": "1.2.0",
            "_view_name": "StyleView",
            "description_width": ""
          }
        },
        "072fd6e3bd1f4b75b0085b57955ae017": {
          "model_module": "@jupyter-widgets/controls",
          "model_name": "HBoxModel",
          "model_module_version": "1.5.0",
          "state": {
            "_dom_classes": [],
            "_model_module": "@jupyter-widgets/controls",
            "_model_module_version": "1.5.0",
            "_model_name": "HBoxModel",
            "_view_count": null,
            "_view_module": "@jupyter-widgets/controls",
            "_view_module_version": "1.5.0",
            "_view_name": "HBoxView",
            "box_style": "",
            "children": [
              "IPY_MODEL_c9836726a6644adcb0121349485a854b",
              "IPY_MODEL_b3351e61ce0945059b713d592638c7cf",
              "IPY_MODEL_d7bd8e2c650e4314895755d81e0c228f"
            ],
            "layout": "IPY_MODEL_d4403d4c20264858a68f0f4c6090a1ae"
          }
        },
        "c9836726a6644adcb0121349485a854b": {
          "model_module": "@jupyter-widgets/controls",
          "model_name": "HTMLModel",
          "model_module_version": "1.5.0",
          "state": {
            "_dom_classes": [],
            "_model_module": "@jupyter-widgets/controls",
            "_model_module_version": "1.5.0",
            "_model_name": "HTMLModel",
            "_view_count": null,
            "_view_module": "@jupyter-widgets/controls",
            "_view_module_version": "1.5.0",
            "_view_name": "HTMLView",
            "description": "",
            "description_tooltip": null,
            "layout": "IPY_MODEL_fc13b07077de49d3bf630586ba5fef59",
            "placeholder": "​",
            "style": "IPY_MODEL_adff7d4c024e4cdc9dd770afddac88f2",
            "value": "Downloading: 100%"
          }
        },
        "b3351e61ce0945059b713d592638c7cf": {
          "model_module": "@jupyter-widgets/controls",
          "model_name": "FloatProgressModel",
          "model_module_version": "1.5.0",
          "state": {
            "_dom_classes": [],
            "_model_module": "@jupyter-widgets/controls",
            "_model_module_version": "1.5.0",
            "_model_name": "FloatProgressModel",
            "_view_count": null,
            "_view_module": "@jupyter-widgets/controls",
            "_view_module_version": "1.5.0",
            "_view_name": "ProgressView",
            "bar_style": "success",
            "description": "",
            "description_tooltip": null,
            "layout": "IPY_MODEL_5a7efcab3b9f4a0c889c22885c2d6c9a",
            "max": 48,
            "min": 0,
            "orientation": "horizontal",
            "style": "IPY_MODEL_c6ade14076014030a26350a118ec5150",
            "value": 48
          }
        },
        "d7bd8e2c650e4314895755d81e0c228f": {
          "model_module": "@jupyter-widgets/controls",
          "model_name": "HTMLModel",
          "model_module_version": "1.5.0",
          "state": {
            "_dom_classes": [],
            "_model_module": "@jupyter-widgets/controls",
            "_model_module_version": "1.5.0",
            "_model_name": "HTMLModel",
            "_view_count": null,
            "_view_module": "@jupyter-widgets/controls",
            "_view_module_version": "1.5.0",
            "_view_name": "HTMLView",
            "description": "",
            "description_tooltip": null,
            "layout": "IPY_MODEL_60d9157cc3c446fc85f4e39b924cd825",
            "placeholder": "​",
            "style": "IPY_MODEL_cbdce75963b6497b9c31b64999a249a4",
            "value": " 48.0/48.0 [00:00&lt;00:00, 388B/s]"
          }
        },
        "d4403d4c20264858a68f0f4c6090a1ae": {
          "model_module": "@jupyter-widgets/base",
          "model_name": "LayoutModel",
          "model_module_version": "1.2.0",
          "state": {
            "_model_module": "@jupyter-widgets/base",
            "_model_module_version": "1.2.0",
            "_model_name": "LayoutModel",
            "_view_count": null,
            "_view_module": "@jupyter-widgets/base",
            "_view_module_version": "1.2.0",
            "_view_name": "LayoutView",
            "align_content": null,
            "align_items": null,
            "align_self": null,
            "border": null,
            "bottom": null,
            "display": null,
            "flex": null,
            "flex_flow": null,
            "grid_area": null,
            "grid_auto_columns": null,
            "grid_auto_flow": null,
            "grid_auto_rows": null,
            "grid_column": null,
            "grid_gap": null,
            "grid_row": null,
            "grid_template_areas": null,
            "grid_template_columns": null,
            "grid_template_rows": null,
            "height": null,
            "justify_content": null,
            "justify_items": null,
            "left": null,
            "margin": null,
            "max_height": null,
            "max_width": null,
            "min_height": null,
            "min_width": null,
            "object_fit": null,
            "object_position": null,
            "order": null,
            "overflow": null,
            "overflow_x": null,
            "overflow_y": null,
            "padding": null,
            "right": null,
            "top": null,
            "visibility": null,
            "width": null
          }
        },
        "fc13b07077de49d3bf630586ba5fef59": {
          "model_module": "@jupyter-widgets/base",
          "model_name": "LayoutModel",
          "model_module_version": "1.2.0",
          "state": {
            "_model_module": "@jupyter-widgets/base",
            "_model_module_version": "1.2.0",
            "_model_name": "LayoutModel",
            "_view_count": null,
            "_view_module": "@jupyter-widgets/base",
            "_view_module_version": "1.2.0",
            "_view_name": "LayoutView",
            "align_content": null,
            "align_items": null,
            "align_self": null,
            "border": null,
            "bottom": null,
            "display": null,
            "flex": null,
            "flex_flow": null,
            "grid_area": null,
            "grid_auto_columns": null,
            "grid_auto_flow": null,
            "grid_auto_rows": null,
            "grid_column": null,
            "grid_gap": null,
            "grid_row": null,
            "grid_template_areas": null,
            "grid_template_columns": null,
            "grid_template_rows": null,
            "height": null,
            "justify_content": null,
            "justify_items": null,
            "left": null,
            "margin": null,
            "max_height": null,
            "max_width": null,
            "min_height": null,
            "min_width": null,
            "object_fit": null,
            "object_position": null,
            "order": null,
            "overflow": null,
            "overflow_x": null,
            "overflow_y": null,
            "padding": null,
            "right": null,
            "top": null,
            "visibility": null,
            "width": null
          }
        },
        "adff7d4c024e4cdc9dd770afddac88f2": {
          "model_module": "@jupyter-widgets/controls",
          "model_name": "DescriptionStyleModel",
          "model_module_version": "1.5.0",
          "state": {
            "_model_module": "@jupyter-widgets/controls",
            "_model_module_version": "1.5.0",
            "_model_name": "DescriptionStyleModel",
            "_view_count": null,
            "_view_module": "@jupyter-widgets/base",
            "_view_module_version": "1.2.0",
            "_view_name": "StyleView",
            "description_width": ""
          }
        },
        "5a7efcab3b9f4a0c889c22885c2d6c9a": {
          "model_module": "@jupyter-widgets/base",
          "model_name": "LayoutModel",
          "model_module_version": "1.2.0",
          "state": {
            "_model_module": "@jupyter-widgets/base",
            "_model_module_version": "1.2.0",
            "_model_name": "LayoutModel",
            "_view_count": null,
            "_view_module": "@jupyter-widgets/base",
            "_view_module_version": "1.2.0",
            "_view_name": "LayoutView",
            "align_content": null,
            "align_items": null,
            "align_self": null,
            "border": null,
            "bottom": null,
            "display": null,
            "flex": null,
            "flex_flow": null,
            "grid_area": null,
            "grid_auto_columns": null,
            "grid_auto_flow": null,
            "grid_auto_rows": null,
            "grid_column": null,
            "grid_gap": null,
            "grid_row": null,
            "grid_template_areas": null,
            "grid_template_columns": null,
            "grid_template_rows": null,
            "height": null,
            "justify_content": null,
            "justify_items": null,
            "left": null,
            "margin": null,
            "max_height": null,
            "max_width": null,
            "min_height": null,
            "min_width": null,
            "object_fit": null,
            "object_position": null,
            "order": null,
            "overflow": null,
            "overflow_x": null,
            "overflow_y": null,
            "padding": null,
            "right": null,
            "top": null,
            "visibility": null,
            "width": null
          }
        },
        "c6ade14076014030a26350a118ec5150": {
          "model_module": "@jupyter-widgets/controls",
          "model_name": "ProgressStyleModel",
          "model_module_version": "1.5.0",
          "state": {
            "_model_module": "@jupyter-widgets/controls",
            "_model_module_version": "1.5.0",
            "_model_name": "ProgressStyleModel",
            "_view_count": null,
            "_view_module": "@jupyter-widgets/base",
            "_view_module_version": "1.2.0",
            "_view_name": "StyleView",
            "bar_color": null,
            "description_width": ""
          }
        },
        "60d9157cc3c446fc85f4e39b924cd825": {
          "model_module": "@jupyter-widgets/base",
          "model_name": "LayoutModel",
          "model_module_version": "1.2.0",
          "state": {
            "_model_module": "@jupyter-widgets/base",
            "_model_module_version": "1.2.0",
            "_model_name": "LayoutModel",
            "_view_count": null,
            "_view_module": "@jupyter-widgets/base",
            "_view_module_version": "1.2.0",
            "_view_name": "LayoutView",
            "align_content": null,
            "align_items": null,
            "align_self": null,
            "border": null,
            "bottom": null,
            "display": null,
            "flex": null,
            "flex_flow": null,
            "grid_area": null,
            "grid_auto_columns": null,
            "grid_auto_flow": null,
            "grid_auto_rows": null,
            "grid_column": null,
            "grid_gap": null,
            "grid_row": null,
            "grid_template_areas": null,
            "grid_template_columns": null,
            "grid_template_rows": null,
            "height": null,
            "justify_content": null,
            "justify_items": null,
            "left": null,
            "margin": null,
            "max_height": null,
            "max_width": null,
            "min_height": null,
            "min_width": null,
            "object_fit": null,
            "object_position": null,
            "order": null,
            "overflow": null,
            "overflow_x": null,
            "overflow_y": null,
            "padding": null,
            "right": null,
            "top": null,
            "visibility": null,
            "width": null
          }
        },
        "cbdce75963b6497b9c31b64999a249a4": {
          "model_module": "@jupyter-widgets/controls",
          "model_name": "DescriptionStyleModel",
          "model_module_version": "1.5.0",
          "state": {
            "_model_module": "@jupyter-widgets/controls",
            "_model_module_version": "1.5.0",
            "_model_name": "DescriptionStyleModel",
            "_view_count": null,
            "_view_module": "@jupyter-widgets/base",
            "_view_module_version": "1.2.0",
            "_view_name": "StyleView",
            "description_width": ""
          }
        },
        "bcdabd74ff3c4f84aa2a788bded79b0b": {
          "model_module": "@jupyter-widgets/controls",
          "model_name": "HBoxModel",
          "model_module_version": "1.5.0",
          "state": {
            "_dom_classes": [],
            "_model_module": "@jupyter-widgets/controls",
            "_model_module_version": "1.5.0",
            "_model_name": "HBoxModel",
            "_view_count": null,
            "_view_module": "@jupyter-widgets/controls",
            "_view_module_version": "1.5.0",
            "_view_name": "HBoxView",
            "box_style": "",
            "children": [
              "IPY_MODEL_1fc5419207db4ed1a14f9709bb7fc84c",
              "IPY_MODEL_2e62635a3cc04d03aa9e5aae812224ad",
              "IPY_MODEL_65345eb10a9340199b561c484720643f"
            ],
            "layout": "IPY_MODEL_164c7fc3ad6a4519b73fa0505e83eb2a"
          }
        },
        "1fc5419207db4ed1a14f9709bb7fc84c": {
          "model_module": "@jupyter-widgets/controls",
          "model_name": "HTMLModel",
          "model_module_version": "1.5.0",
          "state": {
            "_dom_classes": [],
            "_model_module": "@jupyter-widgets/controls",
            "_model_module_version": "1.5.0",
            "_model_name": "HTMLModel",
            "_view_count": null,
            "_view_module": "@jupyter-widgets/controls",
            "_view_module_version": "1.5.0",
            "_view_name": "HTMLView",
            "description": "",
            "description_tooltip": null,
            "layout": "IPY_MODEL_dc84d5c977fc4e699dddf0e2590b9f88",
            "placeholder": "​",
            "style": "IPY_MODEL_0c2ec389363143309c04e046033d13fa",
            "value": "Downloading: 100%"
          }
        },
        "2e62635a3cc04d03aa9e5aae812224ad": {
          "model_module": "@jupyter-widgets/controls",
          "model_name": "FloatProgressModel",
          "model_module_version": "1.5.0",
          "state": {
            "_dom_classes": [],
            "_model_module": "@jupyter-widgets/controls",
            "_model_module_version": "1.5.0",
            "_model_name": "FloatProgressModel",
            "_view_count": null,
            "_view_module": "@jupyter-widgets/controls",
            "_view_module_version": "1.5.0",
            "_view_name": "ProgressView",
            "bar_style": "success",
            "description": "",
            "description_tooltip": null,
            "layout": "IPY_MODEL_60d543630114470794724f2a331e0fa6",
            "max": 231508,
            "min": 0,
            "orientation": "horizontal",
            "style": "IPY_MODEL_855a196682ee4d898c8042aca1777e72",
            "value": 231508
          }
        },
        "65345eb10a9340199b561c484720643f": {
          "model_module": "@jupyter-widgets/controls",
          "model_name": "HTMLModel",
          "model_module_version": "1.5.0",
          "state": {
            "_dom_classes": [],
            "_model_module": "@jupyter-widgets/controls",
            "_model_module_version": "1.5.0",
            "_model_name": "HTMLModel",
            "_view_count": null,
            "_view_module": "@jupyter-widgets/controls",
            "_view_module_version": "1.5.0",
            "_view_name": "HTMLView",
            "description": "",
            "description_tooltip": null,
            "layout": "IPY_MODEL_5f575a5c348949818f68088f2ef4e5ac",
            "placeholder": "​",
            "style": "IPY_MODEL_6d951d51f4c1483ba18927b682727557",
            "value": " 226k/226k [00:00&lt;00:00, 8.23kB/s]"
          }
        },
        "164c7fc3ad6a4519b73fa0505e83eb2a": {
          "model_module": "@jupyter-widgets/base",
          "model_name": "LayoutModel",
          "model_module_version": "1.2.0",
          "state": {
            "_model_module": "@jupyter-widgets/base",
            "_model_module_version": "1.2.0",
            "_model_name": "LayoutModel",
            "_view_count": null,
            "_view_module": "@jupyter-widgets/base",
            "_view_module_version": "1.2.0",
            "_view_name": "LayoutView",
            "align_content": null,
            "align_items": null,
            "align_self": null,
            "border": null,
            "bottom": null,
            "display": null,
            "flex": null,
            "flex_flow": null,
            "grid_area": null,
            "grid_auto_columns": null,
            "grid_auto_flow": null,
            "grid_auto_rows": null,
            "grid_column": null,
            "grid_gap": null,
            "grid_row": null,
            "grid_template_areas": null,
            "grid_template_columns": null,
            "grid_template_rows": null,
            "height": null,
            "justify_content": null,
            "justify_items": null,
            "left": null,
            "margin": null,
            "max_height": null,
            "max_width": null,
            "min_height": null,
            "min_width": null,
            "object_fit": null,
            "object_position": null,
            "order": null,
            "overflow": null,
            "overflow_x": null,
            "overflow_y": null,
            "padding": null,
            "right": null,
            "top": null,
            "visibility": null,
            "width": null
          }
        },
        "dc84d5c977fc4e699dddf0e2590b9f88": {
          "model_module": "@jupyter-widgets/base",
          "model_name": "LayoutModel",
          "model_module_version": "1.2.0",
          "state": {
            "_model_module": "@jupyter-widgets/base",
            "_model_module_version": "1.2.0",
            "_model_name": "LayoutModel",
            "_view_count": null,
            "_view_module": "@jupyter-widgets/base",
            "_view_module_version": "1.2.0",
            "_view_name": "LayoutView",
            "align_content": null,
            "align_items": null,
            "align_self": null,
            "border": null,
            "bottom": null,
            "display": null,
            "flex": null,
            "flex_flow": null,
            "grid_area": null,
            "grid_auto_columns": null,
            "grid_auto_flow": null,
            "grid_auto_rows": null,
            "grid_column": null,
            "grid_gap": null,
            "grid_row": null,
            "grid_template_areas": null,
            "grid_template_columns": null,
            "grid_template_rows": null,
            "height": null,
            "justify_content": null,
            "justify_items": null,
            "left": null,
            "margin": null,
            "max_height": null,
            "max_width": null,
            "min_height": null,
            "min_width": null,
            "object_fit": null,
            "object_position": null,
            "order": null,
            "overflow": null,
            "overflow_x": null,
            "overflow_y": null,
            "padding": null,
            "right": null,
            "top": null,
            "visibility": null,
            "width": null
          }
        },
        "0c2ec389363143309c04e046033d13fa": {
          "model_module": "@jupyter-widgets/controls",
          "model_name": "DescriptionStyleModel",
          "model_module_version": "1.5.0",
          "state": {
            "_model_module": "@jupyter-widgets/controls",
            "_model_module_version": "1.5.0",
            "_model_name": "DescriptionStyleModel",
            "_view_count": null,
            "_view_module": "@jupyter-widgets/base",
            "_view_module_version": "1.2.0",
            "_view_name": "StyleView",
            "description_width": ""
          }
        },
        "60d543630114470794724f2a331e0fa6": {
          "model_module": "@jupyter-widgets/base",
          "model_name": "LayoutModel",
          "model_module_version": "1.2.0",
          "state": {
            "_model_module": "@jupyter-widgets/base",
            "_model_module_version": "1.2.0",
            "_model_name": "LayoutModel",
            "_view_count": null,
            "_view_module": "@jupyter-widgets/base",
            "_view_module_version": "1.2.0",
            "_view_name": "LayoutView",
            "align_content": null,
            "align_items": null,
            "align_self": null,
            "border": null,
            "bottom": null,
            "display": null,
            "flex": null,
            "flex_flow": null,
            "grid_area": null,
            "grid_auto_columns": null,
            "grid_auto_flow": null,
            "grid_auto_rows": null,
            "grid_column": null,
            "grid_gap": null,
            "grid_row": null,
            "grid_template_areas": null,
            "grid_template_columns": null,
            "grid_template_rows": null,
            "height": null,
            "justify_content": null,
            "justify_items": null,
            "left": null,
            "margin": null,
            "max_height": null,
            "max_width": null,
            "min_height": null,
            "min_width": null,
            "object_fit": null,
            "object_position": null,
            "order": null,
            "overflow": null,
            "overflow_x": null,
            "overflow_y": null,
            "padding": null,
            "right": null,
            "top": null,
            "visibility": null,
            "width": null
          }
        },
        "855a196682ee4d898c8042aca1777e72": {
          "model_module": "@jupyter-widgets/controls",
          "model_name": "ProgressStyleModel",
          "model_module_version": "1.5.0",
          "state": {
            "_model_module": "@jupyter-widgets/controls",
            "_model_module_version": "1.5.0",
            "_model_name": "ProgressStyleModel",
            "_view_count": null,
            "_view_module": "@jupyter-widgets/base",
            "_view_module_version": "1.2.0",
            "_view_name": "StyleView",
            "bar_color": null,
            "description_width": ""
          }
        },
        "5f575a5c348949818f68088f2ef4e5ac": {
          "model_module": "@jupyter-widgets/base",
          "model_name": "LayoutModel",
          "model_module_version": "1.2.0",
          "state": {
            "_model_module": "@jupyter-widgets/base",
            "_model_module_version": "1.2.0",
            "_model_name": "LayoutModel",
            "_view_count": null,
            "_view_module": "@jupyter-widgets/base",
            "_view_module_version": "1.2.0",
            "_view_name": "LayoutView",
            "align_content": null,
            "align_items": null,
            "align_self": null,
            "border": null,
            "bottom": null,
            "display": null,
            "flex": null,
            "flex_flow": null,
            "grid_area": null,
            "grid_auto_columns": null,
            "grid_auto_flow": null,
            "grid_auto_rows": null,
            "grid_column": null,
            "grid_gap": null,
            "grid_row": null,
            "grid_template_areas": null,
            "grid_template_columns": null,
            "grid_template_rows": null,
            "height": null,
            "justify_content": null,
            "justify_items": null,
            "left": null,
            "margin": null,
            "max_height": null,
            "max_width": null,
            "min_height": null,
            "min_width": null,
            "object_fit": null,
            "object_position": null,
            "order": null,
            "overflow": null,
            "overflow_x": null,
            "overflow_y": null,
            "padding": null,
            "right": null,
            "top": null,
            "visibility": null,
            "width": null
          }
        },
        "6d951d51f4c1483ba18927b682727557": {
          "model_module": "@jupyter-widgets/controls",
          "model_name": "DescriptionStyleModel",
          "model_module_version": "1.5.0",
          "state": {
            "_model_module": "@jupyter-widgets/controls",
            "_model_module_version": "1.5.0",
            "_model_name": "DescriptionStyleModel",
            "_view_count": null,
            "_view_module": "@jupyter-widgets/base",
            "_view_module_version": "1.2.0",
            "_view_name": "StyleView",
            "description_width": ""
          }
        },
        "43f0eff4601b4733a6043dbf00297a3f": {
          "model_module": "@jupyter-widgets/controls",
          "model_name": "HBoxModel",
          "model_module_version": "1.5.0",
          "state": {
            "_dom_classes": [],
            "_model_module": "@jupyter-widgets/controls",
            "_model_module_version": "1.5.0",
            "_model_name": "HBoxModel",
            "_view_count": null,
            "_view_module": "@jupyter-widgets/controls",
            "_view_module_version": "1.5.0",
            "_view_name": "HBoxView",
            "box_style": "",
            "children": [
              "IPY_MODEL_5523acb494704bf3a2bdd974d4c4245b",
              "IPY_MODEL_9f90c508d3e249bb95cff6fb827e0a38",
              "IPY_MODEL_f3dd69f149c9467b9af2a5534d41d643"
            ],
            "layout": "IPY_MODEL_f90b97a1bcf74ccfac86b3fb40caf2f1"
          }
        },
        "5523acb494704bf3a2bdd974d4c4245b": {
          "model_module": "@jupyter-widgets/controls",
          "model_name": "HTMLModel",
          "model_module_version": "1.5.0",
          "state": {
            "_dom_classes": [],
            "_model_module": "@jupyter-widgets/controls",
            "_model_module_version": "1.5.0",
            "_model_name": "HTMLModel",
            "_view_count": null,
            "_view_module": "@jupyter-widgets/controls",
            "_view_module_version": "1.5.0",
            "_view_name": "HTMLView",
            "description": "",
            "description_tooltip": null,
            "layout": "IPY_MODEL_ac72a55fedcd4d2a9713540064c6c8ca",
            "placeholder": "​",
            "style": "IPY_MODEL_52d636ab82774949a3c6d98604c94f06",
            "value": "Downloading: 100%"
          }
        },
        "9f90c508d3e249bb95cff6fb827e0a38": {
          "model_module": "@jupyter-widgets/controls",
          "model_name": "FloatProgressModel",
          "model_module_version": "1.5.0",
          "state": {
            "_dom_classes": [],
            "_model_module": "@jupyter-widgets/controls",
            "_model_module_version": "1.5.0",
            "_model_name": "FloatProgressModel",
            "_view_count": null,
            "_view_module": "@jupyter-widgets/controls",
            "_view_module_version": "1.5.0",
            "_view_name": "ProgressView",
            "bar_style": "success",
            "description": "",
            "description_tooltip": null,
            "layout": "IPY_MODEL_f2f0cb2d763646fcabb2e2a691c34780",
            "max": 1160,
            "min": 0,
            "orientation": "horizontal",
            "style": "IPY_MODEL_1830967910784162a0316769d635e837",
            "value": 1160
          }
        },
        "f3dd69f149c9467b9af2a5534d41d643": {
          "model_module": "@jupyter-widgets/controls",
          "model_name": "HTMLModel",
          "model_module_version": "1.5.0",
          "state": {
            "_dom_classes": [],
            "_model_module": "@jupyter-widgets/controls",
            "_model_module_version": "1.5.0",
            "_model_name": "HTMLModel",
            "_view_count": null,
            "_view_module": "@jupyter-widgets/controls",
            "_view_module_version": "1.5.0",
            "_view_name": "HTMLView",
            "description": "",
            "description_tooltip": null,
            "layout": "IPY_MODEL_0aa374812824417a9b23a671db33b6ae",
            "placeholder": "​",
            "style": "IPY_MODEL_ab20a7ac8f5a46d6a4fefae22a2546d5",
            "value": " 1.13k/1.13k [00:00&lt;00:00, 6.57kB/s]"
          }
        },
        "f90b97a1bcf74ccfac86b3fb40caf2f1": {
          "model_module": "@jupyter-widgets/base",
          "model_name": "LayoutModel",
          "model_module_version": "1.2.0",
          "state": {
            "_model_module": "@jupyter-widgets/base",
            "_model_module_version": "1.2.0",
            "_model_name": "LayoutModel",
            "_view_count": null,
            "_view_module": "@jupyter-widgets/base",
            "_view_module_version": "1.2.0",
            "_view_name": "LayoutView",
            "align_content": null,
            "align_items": null,
            "align_self": null,
            "border": null,
            "bottom": null,
            "display": null,
            "flex": null,
            "flex_flow": null,
            "grid_area": null,
            "grid_auto_columns": null,
            "grid_auto_flow": null,
            "grid_auto_rows": null,
            "grid_column": null,
            "grid_gap": null,
            "grid_row": null,
            "grid_template_areas": null,
            "grid_template_columns": null,
            "grid_template_rows": null,
            "height": null,
            "justify_content": null,
            "justify_items": null,
            "left": null,
            "margin": null,
            "max_height": null,
            "max_width": null,
            "min_height": null,
            "min_width": null,
            "object_fit": null,
            "object_position": null,
            "order": null,
            "overflow": null,
            "overflow_x": null,
            "overflow_y": null,
            "padding": null,
            "right": null,
            "top": null,
            "visibility": null,
            "width": null
          }
        },
        "ac72a55fedcd4d2a9713540064c6c8ca": {
          "model_module": "@jupyter-widgets/base",
          "model_name": "LayoutModel",
          "model_module_version": "1.2.0",
          "state": {
            "_model_module": "@jupyter-widgets/base",
            "_model_module_version": "1.2.0",
            "_model_name": "LayoutModel",
            "_view_count": null,
            "_view_module": "@jupyter-widgets/base",
            "_view_module_version": "1.2.0",
            "_view_name": "LayoutView",
            "align_content": null,
            "align_items": null,
            "align_self": null,
            "border": null,
            "bottom": null,
            "display": null,
            "flex": null,
            "flex_flow": null,
            "grid_area": null,
            "grid_auto_columns": null,
            "grid_auto_flow": null,
            "grid_auto_rows": null,
            "grid_column": null,
            "grid_gap": null,
            "grid_row": null,
            "grid_template_areas": null,
            "grid_template_columns": null,
            "grid_template_rows": null,
            "height": null,
            "justify_content": null,
            "justify_items": null,
            "left": null,
            "margin": null,
            "max_height": null,
            "max_width": null,
            "min_height": null,
            "min_width": null,
            "object_fit": null,
            "object_position": null,
            "order": null,
            "overflow": null,
            "overflow_x": null,
            "overflow_y": null,
            "padding": null,
            "right": null,
            "top": null,
            "visibility": null,
            "width": null
          }
        },
        "52d636ab82774949a3c6d98604c94f06": {
          "model_module": "@jupyter-widgets/controls",
          "model_name": "DescriptionStyleModel",
          "model_module_version": "1.5.0",
          "state": {
            "_model_module": "@jupyter-widgets/controls",
            "_model_module_version": "1.5.0",
            "_model_name": "DescriptionStyleModel",
            "_view_count": null,
            "_view_module": "@jupyter-widgets/base",
            "_view_module_version": "1.2.0",
            "_view_name": "StyleView",
            "description_width": ""
          }
        },
        "f2f0cb2d763646fcabb2e2a691c34780": {
          "model_module": "@jupyter-widgets/base",
          "model_name": "LayoutModel",
          "model_module_version": "1.2.0",
          "state": {
            "_model_module": "@jupyter-widgets/base",
            "_model_module_version": "1.2.0",
            "_model_name": "LayoutModel",
            "_view_count": null,
            "_view_module": "@jupyter-widgets/base",
            "_view_module_version": "1.2.0",
            "_view_name": "LayoutView",
            "align_content": null,
            "align_items": null,
            "align_self": null,
            "border": null,
            "bottom": null,
            "display": null,
            "flex": null,
            "flex_flow": null,
            "grid_area": null,
            "grid_auto_columns": null,
            "grid_auto_flow": null,
            "grid_auto_rows": null,
            "grid_column": null,
            "grid_gap": null,
            "grid_row": null,
            "grid_template_areas": null,
            "grid_template_columns": null,
            "grid_template_rows": null,
            "height": null,
            "justify_content": null,
            "justify_items": null,
            "left": null,
            "margin": null,
            "max_height": null,
            "max_width": null,
            "min_height": null,
            "min_width": null,
            "object_fit": null,
            "object_position": null,
            "order": null,
            "overflow": null,
            "overflow_x": null,
            "overflow_y": null,
            "padding": null,
            "right": null,
            "top": null,
            "visibility": null,
            "width": null
          }
        },
        "1830967910784162a0316769d635e837": {
          "model_module": "@jupyter-widgets/controls",
          "model_name": "ProgressStyleModel",
          "model_module_version": "1.5.0",
          "state": {
            "_model_module": "@jupyter-widgets/controls",
            "_model_module_version": "1.5.0",
            "_model_name": "ProgressStyleModel",
            "_view_count": null,
            "_view_module": "@jupyter-widgets/base",
            "_view_module_version": "1.2.0",
            "_view_name": "StyleView",
            "bar_color": null,
            "description_width": ""
          }
        },
        "0aa374812824417a9b23a671db33b6ae": {
          "model_module": "@jupyter-widgets/base",
          "model_name": "LayoutModel",
          "model_module_version": "1.2.0",
          "state": {
            "_model_module": "@jupyter-widgets/base",
            "_model_module_version": "1.2.0",
            "_model_name": "LayoutModel",
            "_view_count": null,
            "_view_module": "@jupyter-widgets/base",
            "_view_module_version": "1.2.0",
            "_view_name": "LayoutView",
            "align_content": null,
            "align_items": null,
            "align_self": null,
            "border": null,
            "bottom": null,
            "display": null,
            "flex": null,
            "flex_flow": null,
            "grid_area": null,
            "grid_auto_columns": null,
            "grid_auto_flow": null,
            "grid_auto_rows": null,
            "grid_column": null,
            "grid_gap": null,
            "grid_row": null,
            "grid_template_areas": null,
            "grid_template_columns": null,
            "grid_template_rows": null,
            "height": null,
            "justify_content": null,
            "justify_items": null,
            "left": null,
            "margin": null,
            "max_height": null,
            "max_width": null,
            "min_height": null,
            "min_width": null,
            "object_fit": null,
            "object_position": null,
            "order": null,
            "overflow": null,
            "overflow_x": null,
            "overflow_y": null,
            "padding": null,
            "right": null,
            "top": null,
            "visibility": null,
            "width": null
          }
        },
        "ab20a7ac8f5a46d6a4fefae22a2546d5": {
          "model_module": "@jupyter-widgets/controls",
          "model_name": "DescriptionStyleModel",
          "model_module_version": "1.5.0",
          "state": {
            "_model_module": "@jupyter-widgets/controls",
            "_model_module_version": "1.5.0",
            "_model_name": "DescriptionStyleModel",
            "_view_count": null,
            "_view_module": "@jupyter-widgets/base",
            "_view_module_version": "1.2.0",
            "_view_name": "StyleView",
            "description_width": ""
          }
        },
        "d4933bc63f1245138fa28aed59119579": {
          "model_module": "@jupyter-widgets/controls",
          "model_name": "HBoxModel",
          "model_module_version": "1.5.0",
          "state": {
            "_dom_classes": [],
            "_model_module": "@jupyter-widgets/controls",
            "_model_module_version": "1.5.0",
            "_model_name": "HBoxModel",
            "_view_count": null,
            "_view_module": "@jupyter-widgets/controls",
            "_view_module_version": "1.5.0",
            "_view_name": "HBoxView",
            "box_style": "",
            "children": [
              "IPY_MODEL_0101a56043294b1997ce4434124a3686",
              "IPY_MODEL_796f50cf491342ffaeee0854fac639ba",
              "IPY_MODEL_9e0174a4e63546669dff81c07dde7db9"
            ],
            "layout": "IPY_MODEL_1b08fdb772cd4f20909cd3a3f635e8c2"
          }
        },
        "0101a56043294b1997ce4434124a3686": {
          "model_module": "@jupyter-widgets/controls",
          "model_name": "HTMLModel",
          "model_module_version": "1.5.0",
          "state": {
            "_dom_classes": [],
            "_model_module": "@jupyter-widgets/controls",
            "_model_module_version": "1.5.0",
            "_model_name": "HTMLModel",
            "_view_count": null,
            "_view_module": "@jupyter-widgets/controls",
            "_view_module_version": "1.5.0",
            "_view_name": "HTMLView",
            "description": "",
            "description_tooltip": null,
            "layout": "IPY_MODEL_9d960eff458c4be49d9c90c2dc18ad07",
            "placeholder": "​",
            "style": "IPY_MODEL_d09de53d83e644489c5410590f099b66",
            "value": "Downloading: 100%"
          }
        },
        "796f50cf491342ffaeee0854fac639ba": {
          "model_module": "@jupyter-widgets/controls",
          "model_name": "FloatProgressModel",
          "model_module_version": "1.5.0",
          "state": {
            "_dom_classes": [],
            "_model_module": "@jupyter-widgets/controls",
            "_model_module_version": "1.5.0",
            "_model_name": "FloatProgressModel",
            "_view_count": null,
            "_view_module": "@jupyter-widgets/controls",
            "_view_module_version": "1.5.0",
            "_view_name": "ProgressView",
            "bar_style": "success",
            "description": "",
            "description_tooltip": null,
            "layout": "IPY_MODEL_26a30c18b56d49bca58f4c84f41dfedc",
            "max": 890,
            "min": 0,
            "orientation": "horizontal",
            "style": "IPY_MODEL_1adb4570124b492cb51f5e336bf1feab",
            "value": 890
          }
        },
        "9e0174a4e63546669dff81c07dde7db9": {
          "model_module": "@jupyter-widgets/controls",
          "model_name": "HTMLModel",
          "model_module_version": "1.5.0",
          "state": {
            "_dom_classes": [],
            "_model_module": "@jupyter-widgets/controls",
            "_model_module_version": "1.5.0",
            "_model_name": "HTMLModel",
            "_view_count": null,
            "_view_module": "@jupyter-widgets/controls",
            "_view_module_version": "1.5.0",
            "_view_name": "HTMLView",
            "description": "",
            "description_tooltip": null,
            "layout": "IPY_MODEL_227b5c13fd1444e5993fa9c87edf8592",
            "placeholder": "​",
            "style": "IPY_MODEL_99296f628e5b4de78d5f52b4fe977b15",
            "value": " 890/890 [00:00&lt;00:00, 5.75kB/s]"
          }
        },
        "1b08fdb772cd4f20909cd3a3f635e8c2": {
          "model_module": "@jupyter-widgets/base",
          "model_name": "LayoutModel",
          "model_module_version": "1.2.0",
          "state": {
            "_model_module": "@jupyter-widgets/base",
            "_model_module_version": "1.2.0",
            "_model_name": "LayoutModel",
            "_view_count": null,
            "_view_module": "@jupyter-widgets/base",
            "_view_module_version": "1.2.0",
            "_view_name": "LayoutView",
            "align_content": null,
            "align_items": null,
            "align_self": null,
            "border": null,
            "bottom": null,
            "display": null,
            "flex": null,
            "flex_flow": null,
            "grid_area": null,
            "grid_auto_columns": null,
            "grid_auto_flow": null,
            "grid_auto_rows": null,
            "grid_column": null,
            "grid_gap": null,
            "grid_row": null,
            "grid_template_areas": null,
            "grid_template_columns": null,
            "grid_template_rows": null,
            "height": null,
            "justify_content": null,
            "justify_items": null,
            "left": null,
            "margin": null,
            "max_height": null,
            "max_width": null,
            "min_height": null,
            "min_width": null,
            "object_fit": null,
            "object_position": null,
            "order": null,
            "overflow": null,
            "overflow_x": null,
            "overflow_y": null,
            "padding": null,
            "right": null,
            "top": null,
            "visibility": null,
            "width": null
          }
        },
        "9d960eff458c4be49d9c90c2dc18ad07": {
          "model_module": "@jupyter-widgets/base",
          "model_name": "LayoutModel",
          "model_module_version": "1.2.0",
          "state": {
            "_model_module": "@jupyter-widgets/base",
            "_model_module_version": "1.2.0",
            "_model_name": "LayoutModel",
            "_view_count": null,
            "_view_module": "@jupyter-widgets/base",
            "_view_module_version": "1.2.0",
            "_view_name": "LayoutView",
            "align_content": null,
            "align_items": null,
            "align_self": null,
            "border": null,
            "bottom": null,
            "display": null,
            "flex": null,
            "flex_flow": null,
            "grid_area": null,
            "grid_auto_columns": null,
            "grid_auto_flow": null,
            "grid_auto_rows": null,
            "grid_column": null,
            "grid_gap": null,
            "grid_row": null,
            "grid_template_areas": null,
            "grid_template_columns": null,
            "grid_template_rows": null,
            "height": null,
            "justify_content": null,
            "justify_items": null,
            "left": null,
            "margin": null,
            "max_height": null,
            "max_width": null,
            "min_height": null,
            "min_width": null,
            "object_fit": null,
            "object_position": null,
            "order": null,
            "overflow": null,
            "overflow_x": null,
            "overflow_y": null,
            "padding": null,
            "right": null,
            "top": null,
            "visibility": null,
            "width": null
          }
        },
        "d09de53d83e644489c5410590f099b66": {
          "model_module": "@jupyter-widgets/controls",
          "model_name": "DescriptionStyleModel",
          "model_module_version": "1.5.0",
          "state": {
            "_model_module": "@jupyter-widgets/controls",
            "_model_module_version": "1.5.0",
            "_model_name": "DescriptionStyleModel",
            "_view_count": null,
            "_view_module": "@jupyter-widgets/base",
            "_view_module_version": "1.2.0",
            "_view_name": "StyleView",
            "description_width": ""
          }
        },
        "26a30c18b56d49bca58f4c84f41dfedc": {
          "model_module": "@jupyter-widgets/base",
          "model_name": "LayoutModel",
          "model_module_version": "1.2.0",
          "state": {
            "_model_module": "@jupyter-widgets/base",
            "_model_module_version": "1.2.0",
            "_model_name": "LayoutModel",
            "_view_count": null,
            "_view_module": "@jupyter-widgets/base",
            "_view_module_version": "1.2.0",
            "_view_name": "LayoutView",
            "align_content": null,
            "align_items": null,
            "align_self": null,
            "border": null,
            "bottom": null,
            "display": null,
            "flex": null,
            "flex_flow": null,
            "grid_area": null,
            "grid_auto_columns": null,
            "grid_auto_flow": null,
            "grid_auto_rows": null,
            "grid_column": null,
            "grid_gap": null,
            "grid_row": null,
            "grid_template_areas": null,
            "grid_template_columns": null,
            "grid_template_rows": null,
            "height": null,
            "justify_content": null,
            "justify_items": null,
            "left": null,
            "margin": null,
            "max_height": null,
            "max_width": null,
            "min_height": null,
            "min_width": null,
            "object_fit": null,
            "object_position": null,
            "order": null,
            "overflow": null,
            "overflow_x": null,
            "overflow_y": null,
            "padding": null,
            "right": null,
            "top": null,
            "visibility": null,
            "width": null
          }
        },
        "1adb4570124b492cb51f5e336bf1feab": {
          "model_module": "@jupyter-widgets/controls",
          "model_name": "ProgressStyleModel",
          "model_module_version": "1.5.0",
          "state": {
            "_model_module": "@jupyter-widgets/controls",
            "_model_module_version": "1.5.0",
            "_model_name": "ProgressStyleModel",
            "_view_count": null,
            "_view_module": "@jupyter-widgets/base",
            "_view_module_version": "1.2.0",
            "_view_name": "StyleView",
            "bar_color": null,
            "description_width": ""
          }
        },
        "227b5c13fd1444e5993fa9c87edf8592": {
          "model_module": "@jupyter-widgets/base",
          "model_name": "LayoutModel",
          "model_module_version": "1.2.0",
          "state": {
            "_model_module": "@jupyter-widgets/base",
            "_model_module_version": "1.2.0",
            "_model_name": "LayoutModel",
            "_view_count": null,
            "_view_module": "@jupyter-widgets/base",
            "_view_module_version": "1.2.0",
            "_view_name": "LayoutView",
            "align_content": null,
            "align_items": null,
            "align_self": null,
            "border": null,
            "bottom": null,
            "display": null,
            "flex": null,
            "flex_flow": null,
            "grid_area": null,
            "grid_auto_columns": null,
            "grid_auto_flow": null,
            "grid_auto_rows": null,
            "grid_column": null,
            "grid_gap": null,
            "grid_row": null,
            "grid_template_areas": null,
            "grid_template_columns": null,
            "grid_template_rows": null,
            "height": null,
            "justify_content": null,
            "justify_items": null,
            "left": null,
            "margin": null,
            "max_height": null,
            "max_width": null,
            "min_height": null,
            "min_width": null,
            "object_fit": null,
            "object_position": null,
            "order": null,
            "overflow": null,
            "overflow_x": null,
            "overflow_y": null,
            "padding": null,
            "right": null,
            "top": null,
            "visibility": null,
            "width": null
          }
        },
        "99296f628e5b4de78d5f52b4fe977b15": {
          "model_module": "@jupyter-widgets/controls",
          "model_name": "DescriptionStyleModel",
          "model_module_version": "1.5.0",
          "state": {
            "_model_module": "@jupyter-widgets/controls",
            "_model_module_version": "1.5.0",
            "_model_name": "DescriptionStyleModel",
            "_view_count": null,
            "_view_module": "@jupyter-widgets/base",
            "_view_module_version": "1.2.0",
            "_view_name": "StyleView",
            "description_width": ""
          }
        },
        "4c73ea9d14234baa9400e91ce62cf707": {
          "model_module": "@jupyter-widgets/controls",
          "model_name": "HBoxModel",
          "model_module_version": "1.5.0",
          "state": {
            "_dom_classes": [],
            "_model_module": "@jupyter-widgets/controls",
            "_model_module_version": "1.5.0",
            "_model_name": "HBoxModel",
            "_view_count": null,
            "_view_module": "@jupyter-widgets/controls",
            "_view_module_version": "1.5.0",
            "_view_name": "HBoxView",
            "box_style": "",
            "children": [
              "IPY_MODEL_8023edfc55b24828b2f0f2e7041071de",
              "IPY_MODEL_589797a46286445ebe5c23f042331657",
              "IPY_MODEL_b82514d6a4224f4e96c68fbc2b77b610"
            ],
            "layout": "IPY_MODEL_3f40a389866240249578e57337a8a878"
          }
        },
        "8023edfc55b24828b2f0f2e7041071de": {
          "model_module": "@jupyter-widgets/controls",
          "model_name": "HTMLModel",
          "model_module_version": "1.5.0",
          "state": {
            "_dom_classes": [],
            "_model_module": "@jupyter-widgets/controls",
            "_model_module_version": "1.5.0",
            "_model_name": "HTMLModel",
            "_view_count": null,
            "_view_module": "@jupyter-widgets/controls",
            "_view_module_version": "1.5.0",
            "_view_name": "HTMLView",
            "description": "",
            "description_tooltip": null,
            "layout": "IPY_MODEL_5143b7225e334b648a577bf72bc8b48e",
            "placeholder": "​",
            "style": "IPY_MODEL_b77698204ff54563b12862a5a4754e46",
            "value": "Downloading: 100%"
          }
        },
        "589797a46286445ebe5c23f042331657": {
          "model_module": "@jupyter-widgets/controls",
          "model_name": "FloatProgressModel",
          "model_module_version": "1.5.0",
          "state": {
            "_dom_classes": [],
            "_model_module": "@jupyter-widgets/controls",
            "_model_module_version": "1.5.0",
            "_model_name": "FloatProgressModel",
            "_view_count": null,
            "_view_module": "@jupyter-widgets/controls",
            "_view_module_version": "1.5.0",
            "_view_name": "ProgressView",
            "bar_style": "success",
            "description": "",
            "description_tooltip": null,
            "layout": "IPY_MODEL_45d18e1105f0491391b96c9424e09300",
            "max": 539694161,
            "min": 0,
            "orientation": "horizontal",
            "style": "IPY_MODEL_43f93d4011824b36a44d7c665c9c696f",
            "value": 539694161
          }
        },
        "b82514d6a4224f4e96c68fbc2b77b610": {
          "model_module": "@jupyter-widgets/controls",
          "model_name": "HTMLModel",
          "model_module_version": "1.5.0",
          "state": {
            "_dom_classes": [],
            "_model_module": "@jupyter-widgets/controls",
            "_model_module_version": "1.5.0",
            "_model_name": "HTMLModel",
            "_view_count": null,
            "_view_module": "@jupyter-widgets/controls",
            "_view_module_version": "1.5.0",
            "_view_name": "HTMLView",
            "description": "",
            "description_tooltip": null,
            "layout": "IPY_MODEL_1e4d52cea2da410bb82ec04c3098cf86",
            "placeholder": "​",
            "style": "IPY_MODEL_815d2595da014e829148641797b36dfc",
            "value": " 515M/515M [00:32&lt;00:00, 48.3MB/s]"
          }
        },
        "3f40a389866240249578e57337a8a878": {
          "model_module": "@jupyter-widgets/base",
          "model_name": "LayoutModel",
          "model_module_version": "1.2.0",
          "state": {
            "_model_module": "@jupyter-widgets/base",
            "_model_module_version": "1.2.0",
            "_model_name": "LayoutModel",
            "_view_count": null,
            "_view_module": "@jupyter-widgets/base",
            "_view_module_version": "1.2.0",
            "_view_name": "LayoutView",
            "align_content": null,
            "align_items": null,
            "align_self": null,
            "border": null,
            "bottom": null,
            "display": null,
            "flex": null,
            "flex_flow": null,
            "grid_area": null,
            "grid_auto_columns": null,
            "grid_auto_flow": null,
            "grid_auto_rows": null,
            "grid_column": null,
            "grid_gap": null,
            "grid_row": null,
            "grid_template_areas": null,
            "grid_template_columns": null,
            "grid_template_rows": null,
            "height": null,
            "justify_content": null,
            "justify_items": null,
            "left": null,
            "margin": null,
            "max_height": null,
            "max_width": null,
            "min_height": null,
            "min_width": null,
            "object_fit": null,
            "object_position": null,
            "order": null,
            "overflow": null,
            "overflow_x": null,
            "overflow_y": null,
            "padding": null,
            "right": null,
            "top": null,
            "visibility": null,
            "width": null
          }
        },
        "5143b7225e334b648a577bf72bc8b48e": {
          "model_module": "@jupyter-widgets/base",
          "model_name": "LayoutModel",
          "model_module_version": "1.2.0",
          "state": {
            "_model_module": "@jupyter-widgets/base",
            "_model_module_version": "1.2.0",
            "_model_name": "LayoutModel",
            "_view_count": null,
            "_view_module": "@jupyter-widgets/base",
            "_view_module_version": "1.2.0",
            "_view_name": "LayoutView",
            "align_content": null,
            "align_items": null,
            "align_self": null,
            "border": null,
            "bottom": null,
            "display": null,
            "flex": null,
            "flex_flow": null,
            "grid_area": null,
            "grid_auto_columns": null,
            "grid_auto_flow": null,
            "grid_auto_rows": null,
            "grid_column": null,
            "grid_gap": null,
            "grid_row": null,
            "grid_template_areas": null,
            "grid_template_columns": null,
            "grid_template_rows": null,
            "height": null,
            "justify_content": null,
            "justify_items": null,
            "left": null,
            "margin": null,
            "max_height": null,
            "max_width": null,
            "min_height": null,
            "min_width": null,
            "object_fit": null,
            "object_position": null,
            "order": null,
            "overflow": null,
            "overflow_x": null,
            "overflow_y": null,
            "padding": null,
            "right": null,
            "top": null,
            "visibility": null,
            "width": null
          }
        },
        "b77698204ff54563b12862a5a4754e46": {
          "model_module": "@jupyter-widgets/controls",
          "model_name": "DescriptionStyleModel",
          "model_module_version": "1.5.0",
          "state": {
            "_model_module": "@jupyter-widgets/controls",
            "_model_module_version": "1.5.0",
            "_model_name": "DescriptionStyleModel",
            "_view_count": null,
            "_view_module": "@jupyter-widgets/base",
            "_view_module_version": "1.2.0",
            "_view_name": "StyleView",
            "description_width": ""
          }
        },
        "45d18e1105f0491391b96c9424e09300": {
          "model_module": "@jupyter-widgets/base",
          "model_name": "LayoutModel",
          "model_module_version": "1.2.0",
          "state": {
            "_model_module": "@jupyter-widgets/base",
            "_model_module_version": "1.2.0",
            "_model_name": "LayoutModel",
            "_view_count": null,
            "_view_module": "@jupyter-widgets/base",
            "_view_module_version": "1.2.0",
            "_view_name": "LayoutView",
            "align_content": null,
            "align_items": null,
            "align_self": null,
            "border": null,
            "bottom": null,
            "display": null,
            "flex": null,
            "flex_flow": null,
            "grid_area": null,
            "grid_auto_columns": null,
            "grid_auto_flow": null,
            "grid_auto_rows": null,
            "grid_column": null,
            "grid_gap": null,
            "grid_row": null,
            "grid_template_areas": null,
            "grid_template_columns": null,
            "grid_template_rows": null,
            "height": null,
            "justify_content": null,
            "justify_items": null,
            "left": null,
            "margin": null,
            "max_height": null,
            "max_width": null,
            "min_height": null,
            "min_width": null,
            "object_fit": null,
            "object_position": null,
            "order": null,
            "overflow": null,
            "overflow_x": null,
            "overflow_y": null,
            "padding": null,
            "right": null,
            "top": null,
            "visibility": null,
            "width": null
          }
        },
        "43f93d4011824b36a44d7c665c9c696f": {
          "model_module": "@jupyter-widgets/controls",
          "model_name": "ProgressStyleModel",
          "model_module_version": "1.5.0",
          "state": {
            "_model_module": "@jupyter-widgets/controls",
            "_model_module_version": "1.5.0",
            "_model_name": "ProgressStyleModel",
            "_view_count": null,
            "_view_module": "@jupyter-widgets/base",
            "_view_module_version": "1.2.0",
            "_view_name": "StyleView",
            "bar_color": null,
            "description_width": ""
          }
        },
        "1e4d52cea2da410bb82ec04c3098cf86": {
          "model_module": "@jupyter-widgets/base",
          "model_name": "LayoutModel",
          "model_module_version": "1.2.0",
          "state": {
            "_model_module": "@jupyter-widgets/base",
            "_model_module_version": "1.2.0",
            "_model_name": "LayoutModel",
            "_view_count": null,
            "_view_module": "@jupyter-widgets/base",
            "_view_module_version": "1.2.0",
            "_view_name": "LayoutView",
            "align_content": null,
            "align_items": null,
            "align_self": null,
            "border": null,
            "bottom": null,
            "display": null,
            "flex": null,
            "flex_flow": null,
            "grid_area": null,
            "grid_auto_columns": null,
            "grid_auto_flow": null,
            "grid_auto_rows": null,
            "grid_column": null,
            "grid_gap": null,
            "grid_row": null,
            "grid_template_areas": null,
            "grid_template_columns": null,
            "grid_template_rows": null,
            "height": null,
            "justify_content": null,
            "justify_items": null,
            "left": null,
            "margin": null,
            "max_height": null,
            "max_width": null,
            "min_height": null,
            "min_width": null,
            "object_fit": null,
            "object_position": null,
            "order": null,
            "overflow": null,
            "overflow_x": null,
            "overflow_y": null,
            "padding": null,
            "right": null,
            "top": null,
            "visibility": null,
            "width": null
          }
        },
        "815d2595da014e829148641797b36dfc": {
          "model_module": "@jupyter-widgets/controls",
          "model_name": "DescriptionStyleModel",
          "model_module_version": "1.5.0",
          "state": {
            "_model_module": "@jupyter-widgets/controls",
            "_model_module_version": "1.5.0",
            "_model_name": "DescriptionStyleModel",
            "_view_count": null,
            "_view_module": "@jupyter-widgets/base",
            "_view_module_version": "1.2.0",
            "_view_name": "StyleView",
            "description_width": ""
          }
        },
        "dc8096c4a49c474086c6aa9c9c0d71a7": {
          "model_module": "@jupyter-widgets/controls",
          "model_name": "HBoxModel",
          "model_module_version": "1.5.0",
          "state": {
            "_dom_classes": [],
            "_model_module": "@jupyter-widgets/controls",
            "_model_module_version": "1.5.0",
            "_model_name": "HBoxModel",
            "_view_count": null,
            "_view_module": "@jupyter-widgets/controls",
            "_view_module_version": "1.5.0",
            "_view_name": "HBoxView",
            "box_style": "",
            "children": [
              "IPY_MODEL_3dacd921b3654274a12fef814340e13e",
              "IPY_MODEL_5376b5b90c444bfa809b8f8c1f028f9e",
              "IPY_MODEL_aa1e4fe86b5645ffa680f3b9e6d290fa"
            ],
            "layout": "IPY_MODEL_d31322b6c92e471d9297f64117323885"
          }
        },
        "3dacd921b3654274a12fef814340e13e": {
          "model_module": "@jupyter-widgets/controls",
          "model_name": "HTMLModel",
          "model_module_version": "1.5.0",
          "state": {
            "_dom_classes": [],
            "_model_module": "@jupyter-widgets/controls",
            "_model_module_version": "1.5.0",
            "_model_name": "HTMLModel",
            "_view_count": null,
            "_view_module": "@jupyter-widgets/controls",
            "_view_module_version": "1.5.0",
            "_view_name": "HTMLView",
            "description": "",
            "description_tooltip": null,
            "layout": "IPY_MODEL_b510f18a5ede47719e1cca49c267a148",
            "placeholder": "​",
            "style": "IPY_MODEL_aad68f6e8cfc4343a036429e6726ea38",
            "value": "Downloading: 100%"
          }
        },
        "5376b5b90c444bfa809b8f8c1f028f9e": {
          "model_module": "@jupyter-widgets/controls",
          "model_name": "FloatProgressModel",
          "model_module_version": "1.5.0",
          "state": {
            "_dom_classes": [],
            "_model_module": "@jupyter-widgets/controls",
            "_model_module_version": "1.5.0",
            "_model_name": "FloatProgressModel",
            "_view_count": null,
            "_view_module": "@jupyter-widgets/controls",
            "_view_module_version": "1.5.0",
            "_view_name": "ProgressView",
            "bar_style": "success",
            "description": "",
            "description_tooltip": null,
            "layout": "IPY_MODEL_54a9b85c8fd44aaa94e6a91bc3ad4565",
            "max": 295,
            "min": 0,
            "orientation": "horizontal",
            "style": "IPY_MODEL_203982598f124d1fa7f04c712b0b61c9",
            "value": 295
          }
        },
        "aa1e4fe86b5645ffa680f3b9e6d290fa": {
          "model_module": "@jupyter-widgets/controls",
          "model_name": "HTMLModel",
          "model_module_version": "1.5.0",
          "state": {
            "_dom_classes": [],
            "_model_module": "@jupyter-widgets/controls",
            "_model_module_version": "1.5.0",
            "_model_name": "HTMLModel",
            "_view_count": null,
            "_view_module": "@jupyter-widgets/controls",
            "_view_module_version": "1.5.0",
            "_view_name": "HTMLView",
            "description": "",
            "description_tooltip": null,
            "layout": "IPY_MODEL_c1fd4108e35e4ca5a45ca3e7d4530791",
            "placeholder": "​",
            "style": "IPY_MODEL_f3c9022ddfdb453ab3d0242a2ce052ab",
            "value": " 295/295 [00:00&lt;00:00, 7.08kB/s]"
          }
        },
        "d31322b6c92e471d9297f64117323885": {
          "model_module": "@jupyter-widgets/base",
          "model_name": "LayoutModel",
          "model_module_version": "1.2.0",
          "state": {
            "_model_module": "@jupyter-widgets/base",
            "_model_module_version": "1.2.0",
            "_model_name": "LayoutModel",
            "_view_count": null,
            "_view_module": "@jupyter-widgets/base",
            "_view_module_version": "1.2.0",
            "_view_name": "LayoutView",
            "align_content": null,
            "align_items": null,
            "align_self": null,
            "border": null,
            "bottom": null,
            "display": null,
            "flex": null,
            "flex_flow": null,
            "grid_area": null,
            "grid_auto_columns": null,
            "grid_auto_flow": null,
            "grid_auto_rows": null,
            "grid_column": null,
            "grid_gap": null,
            "grid_row": null,
            "grid_template_areas": null,
            "grid_template_columns": null,
            "grid_template_rows": null,
            "height": null,
            "justify_content": null,
            "justify_items": null,
            "left": null,
            "margin": null,
            "max_height": null,
            "max_width": null,
            "min_height": null,
            "min_width": null,
            "object_fit": null,
            "object_position": null,
            "order": null,
            "overflow": null,
            "overflow_x": null,
            "overflow_y": null,
            "padding": null,
            "right": null,
            "top": null,
            "visibility": null,
            "width": null
          }
        },
        "b510f18a5ede47719e1cca49c267a148": {
          "model_module": "@jupyter-widgets/base",
          "model_name": "LayoutModel",
          "model_module_version": "1.2.0",
          "state": {
            "_model_module": "@jupyter-widgets/base",
            "_model_module_version": "1.2.0",
            "_model_name": "LayoutModel",
            "_view_count": null,
            "_view_module": "@jupyter-widgets/base",
            "_view_module_version": "1.2.0",
            "_view_name": "LayoutView",
            "align_content": null,
            "align_items": null,
            "align_self": null,
            "border": null,
            "bottom": null,
            "display": null,
            "flex": null,
            "flex_flow": null,
            "grid_area": null,
            "grid_auto_columns": null,
            "grid_auto_flow": null,
            "grid_auto_rows": null,
            "grid_column": null,
            "grid_gap": null,
            "grid_row": null,
            "grid_template_areas": null,
            "grid_template_columns": null,
            "grid_template_rows": null,
            "height": null,
            "justify_content": null,
            "justify_items": null,
            "left": null,
            "margin": null,
            "max_height": null,
            "max_width": null,
            "min_height": null,
            "min_width": null,
            "object_fit": null,
            "object_position": null,
            "order": null,
            "overflow": null,
            "overflow_x": null,
            "overflow_y": null,
            "padding": null,
            "right": null,
            "top": null,
            "visibility": null,
            "width": null
          }
        },
        "aad68f6e8cfc4343a036429e6726ea38": {
          "model_module": "@jupyter-widgets/controls",
          "model_name": "DescriptionStyleModel",
          "model_module_version": "1.5.0",
          "state": {
            "_model_module": "@jupyter-widgets/controls",
            "_model_module_version": "1.5.0",
            "_model_name": "DescriptionStyleModel",
            "_view_count": null,
            "_view_module": "@jupyter-widgets/base",
            "_view_module_version": "1.2.0",
            "_view_name": "StyleView",
            "description_width": ""
          }
        },
        "54a9b85c8fd44aaa94e6a91bc3ad4565": {
          "model_module": "@jupyter-widgets/base",
          "model_name": "LayoutModel",
          "model_module_version": "1.2.0",
          "state": {
            "_model_module": "@jupyter-widgets/base",
            "_model_module_version": "1.2.0",
            "_model_name": "LayoutModel",
            "_view_count": null,
            "_view_module": "@jupyter-widgets/base",
            "_view_module_version": "1.2.0",
            "_view_name": "LayoutView",
            "align_content": null,
            "align_items": null,
            "align_self": null,
            "border": null,
            "bottom": null,
            "display": null,
            "flex": null,
            "flex_flow": null,
            "grid_area": null,
            "grid_auto_columns": null,
            "grid_auto_flow": null,
            "grid_auto_rows": null,
            "grid_column": null,
            "grid_gap": null,
            "grid_row": null,
            "grid_template_areas": null,
            "grid_template_columns": null,
            "grid_template_rows": null,
            "height": null,
            "justify_content": null,
            "justify_items": null,
            "left": null,
            "margin": null,
            "max_height": null,
            "max_width": null,
            "min_height": null,
            "min_width": null,
            "object_fit": null,
            "object_position": null,
            "order": null,
            "overflow": null,
            "overflow_x": null,
            "overflow_y": null,
            "padding": null,
            "right": null,
            "top": null,
            "visibility": null,
            "width": null
          }
        },
        "203982598f124d1fa7f04c712b0b61c9": {
          "model_module": "@jupyter-widgets/controls",
          "model_name": "ProgressStyleModel",
          "model_module_version": "1.5.0",
          "state": {
            "_model_module": "@jupyter-widgets/controls",
            "_model_module_version": "1.5.0",
            "_model_name": "ProgressStyleModel",
            "_view_count": null,
            "_view_module": "@jupyter-widgets/base",
            "_view_module_version": "1.2.0",
            "_view_name": "StyleView",
            "bar_color": null,
            "description_width": ""
          }
        },
        "c1fd4108e35e4ca5a45ca3e7d4530791": {
          "model_module": "@jupyter-widgets/base",
          "model_name": "LayoutModel",
          "model_module_version": "1.2.0",
          "state": {
            "_model_module": "@jupyter-widgets/base",
            "_model_module_version": "1.2.0",
            "_model_name": "LayoutModel",
            "_view_count": null,
            "_view_module": "@jupyter-widgets/base",
            "_view_module_version": "1.2.0",
            "_view_name": "LayoutView",
            "align_content": null,
            "align_items": null,
            "align_self": null,
            "border": null,
            "bottom": null,
            "display": null,
            "flex": null,
            "flex_flow": null,
            "grid_area": null,
            "grid_auto_columns": null,
            "grid_auto_flow": null,
            "grid_auto_rows": null,
            "grid_column": null,
            "grid_gap": null,
            "grid_row": null,
            "grid_template_areas": null,
            "grid_template_columns": null,
            "grid_template_rows": null,
            "height": null,
            "justify_content": null,
            "justify_items": null,
            "left": null,
            "margin": null,
            "max_height": null,
            "max_width": null,
            "min_height": null,
            "min_width": null,
            "object_fit": null,
            "object_position": null,
            "order": null,
            "overflow": null,
            "overflow_x": null,
            "overflow_y": null,
            "padding": null,
            "right": null,
            "top": null,
            "visibility": null,
            "width": null
          }
        },
        "f3c9022ddfdb453ab3d0242a2ce052ab": {
          "model_module": "@jupyter-widgets/controls",
          "model_name": "DescriptionStyleModel",
          "model_module_version": "1.5.0",
          "state": {
            "_model_module": "@jupyter-widgets/controls",
            "_model_module_version": "1.5.0",
            "_model_name": "DescriptionStyleModel",
            "_view_count": null,
            "_view_module": "@jupyter-widgets/base",
            "_view_module_version": "1.2.0",
            "_view_name": "StyleView",
            "description_width": ""
          }
        },
        "4fab1270e34544478a95450aab32bc37": {
          "model_module": "@jupyter-widgets/controls",
          "model_name": "HBoxModel",
          "model_module_version": "1.5.0",
          "state": {
            "_dom_classes": [],
            "_model_module": "@jupyter-widgets/controls",
            "_model_module_version": "1.5.0",
            "_model_name": "HBoxModel",
            "_view_count": null,
            "_view_module": "@jupyter-widgets/controls",
            "_view_module_version": "1.5.0",
            "_view_name": "HBoxView",
            "box_style": "",
            "children": [
              "IPY_MODEL_f9ea679480224baab371399612ed1142",
              "IPY_MODEL_bd852c55d41d4491b1a0fd5d6039bbb7",
              "IPY_MODEL_9b21ac0aa78347f38fde05a1fd48e87b"
            ],
            "layout": "IPY_MODEL_863ea6d1830e4776bc7b531561516318"
          }
        },
        "f9ea679480224baab371399612ed1142": {
          "model_module": "@jupyter-widgets/controls",
          "model_name": "HTMLModel",
          "model_module_version": "1.5.0",
          "state": {
            "_dom_classes": [],
            "_model_module": "@jupyter-widgets/controls",
            "_model_module_version": "1.5.0",
            "_model_name": "HTMLModel",
            "_view_count": null,
            "_view_module": "@jupyter-widgets/controls",
            "_view_module_version": "1.5.0",
            "_view_name": "HTMLView",
            "description": "",
            "description_tooltip": null,
            "layout": "IPY_MODEL_a27894befa6541a2b77baf88cc5e751c",
            "placeholder": "​",
            "style": "IPY_MODEL_31f2dcfb91c748489faf5cc1f01049de",
            "value": "Downloading: 100%"
          }
        },
        "bd852c55d41d4491b1a0fd5d6039bbb7": {
          "model_module": "@jupyter-widgets/controls",
          "model_name": "FloatProgressModel",
          "model_module_version": "1.5.0",
          "state": {
            "_dom_classes": [],
            "_model_module": "@jupyter-widgets/controls",
            "_model_module_version": "1.5.0",
            "_model_name": "FloatProgressModel",
            "_view_count": null,
            "_view_module": "@jupyter-widgets/controls",
            "_view_module_version": "1.5.0",
            "_view_name": "ProgressView",
            "bar_style": "success",
            "description": "",
            "description_tooltip": null,
            "layout": "IPY_MODEL_8a344cb0ccca46e7bef0397eeb5681e6",
            "max": 843438,
            "min": 0,
            "orientation": "horizontal",
            "style": "IPY_MODEL_a231b0565d57420b9dfeb69296c38062",
            "value": 843438
          }
        },
        "9b21ac0aa78347f38fde05a1fd48e87b": {
          "model_module": "@jupyter-widgets/controls",
          "model_name": "HTMLModel",
          "model_module_version": "1.5.0",
          "state": {
            "_dom_classes": [],
            "_model_module": "@jupyter-widgets/controls",
            "_model_module_version": "1.5.0",
            "_model_name": "HTMLModel",
            "_view_count": null,
            "_view_module": "@jupyter-widgets/controls",
            "_view_module_version": "1.5.0",
            "_view_name": "HTMLView",
            "description": "",
            "description_tooltip": null,
            "layout": "IPY_MODEL_6617a790041244d082528a91982735aa",
            "placeholder": "​",
            "style": "IPY_MODEL_fd3ae14a276e41b988fd375620dbd2e0",
            "value": " 824k/824k [00:00&lt;00:00, 1.31MB/s]"
          }
        },
        "863ea6d1830e4776bc7b531561516318": {
          "model_module": "@jupyter-widgets/base",
          "model_name": "LayoutModel",
          "model_module_version": "1.2.0",
          "state": {
            "_model_module": "@jupyter-widgets/base",
            "_model_module_version": "1.2.0",
            "_model_name": "LayoutModel",
            "_view_count": null,
            "_view_module": "@jupyter-widgets/base",
            "_view_module_version": "1.2.0",
            "_view_name": "LayoutView",
            "align_content": null,
            "align_items": null,
            "align_self": null,
            "border": null,
            "bottom": null,
            "display": null,
            "flex": null,
            "flex_flow": null,
            "grid_area": null,
            "grid_auto_columns": null,
            "grid_auto_flow": null,
            "grid_auto_rows": null,
            "grid_column": null,
            "grid_gap": null,
            "grid_row": null,
            "grid_template_areas": null,
            "grid_template_columns": null,
            "grid_template_rows": null,
            "height": null,
            "justify_content": null,
            "justify_items": null,
            "left": null,
            "margin": null,
            "max_height": null,
            "max_width": null,
            "min_height": null,
            "min_width": null,
            "object_fit": null,
            "object_position": null,
            "order": null,
            "overflow": null,
            "overflow_x": null,
            "overflow_y": null,
            "padding": null,
            "right": null,
            "top": null,
            "visibility": null,
            "width": null
          }
        },
        "a27894befa6541a2b77baf88cc5e751c": {
          "model_module": "@jupyter-widgets/base",
          "model_name": "LayoutModel",
          "model_module_version": "1.2.0",
          "state": {
            "_model_module": "@jupyter-widgets/base",
            "_model_module_version": "1.2.0",
            "_model_name": "LayoutModel",
            "_view_count": null,
            "_view_module": "@jupyter-widgets/base",
            "_view_module_version": "1.2.0",
            "_view_name": "LayoutView",
            "align_content": null,
            "align_items": null,
            "align_self": null,
            "border": null,
            "bottom": null,
            "display": null,
            "flex": null,
            "flex_flow": null,
            "grid_area": null,
            "grid_auto_columns": null,
            "grid_auto_flow": null,
            "grid_auto_rows": null,
            "grid_column": null,
            "grid_gap": null,
            "grid_row": null,
            "grid_template_areas": null,
            "grid_template_columns": null,
            "grid_template_rows": null,
            "height": null,
            "justify_content": null,
            "justify_items": null,
            "left": null,
            "margin": null,
            "max_height": null,
            "max_width": null,
            "min_height": null,
            "min_width": null,
            "object_fit": null,
            "object_position": null,
            "order": null,
            "overflow": null,
            "overflow_x": null,
            "overflow_y": null,
            "padding": null,
            "right": null,
            "top": null,
            "visibility": null,
            "width": null
          }
        },
        "31f2dcfb91c748489faf5cc1f01049de": {
          "model_module": "@jupyter-widgets/controls",
          "model_name": "DescriptionStyleModel",
          "model_module_version": "1.5.0",
          "state": {
            "_model_module": "@jupyter-widgets/controls",
            "_model_module_version": "1.5.0",
            "_model_name": "DescriptionStyleModel",
            "_view_count": null,
            "_view_module": "@jupyter-widgets/base",
            "_view_module_version": "1.2.0",
            "_view_name": "StyleView",
            "description_width": ""
          }
        },
        "8a344cb0ccca46e7bef0397eeb5681e6": {
          "model_module": "@jupyter-widgets/base",
          "model_name": "LayoutModel",
          "model_module_version": "1.2.0",
          "state": {
            "_model_module": "@jupyter-widgets/base",
            "_model_module_version": "1.2.0",
            "_model_name": "LayoutModel",
            "_view_count": null,
            "_view_module": "@jupyter-widgets/base",
            "_view_module_version": "1.2.0",
            "_view_name": "LayoutView",
            "align_content": null,
            "align_items": null,
            "align_self": null,
            "border": null,
            "bottom": null,
            "display": null,
            "flex": null,
            "flex_flow": null,
            "grid_area": null,
            "grid_auto_columns": null,
            "grid_auto_flow": null,
            "grid_auto_rows": null,
            "grid_column": null,
            "grid_gap": null,
            "grid_row": null,
            "grid_template_areas": null,
            "grid_template_columns": null,
            "grid_template_rows": null,
            "height": null,
            "justify_content": null,
            "justify_items": null,
            "left": null,
            "margin": null,
            "max_height": null,
            "max_width": null,
            "min_height": null,
            "min_width": null,
            "object_fit": null,
            "object_position": null,
            "order": null,
            "overflow": null,
            "overflow_x": null,
            "overflow_y": null,
            "padding": null,
            "right": null,
            "top": null,
            "visibility": null,
            "width": null
          }
        },
        "a231b0565d57420b9dfeb69296c38062": {
          "model_module": "@jupyter-widgets/controls",
          "model_name": "ProgressStyleModel",
          "model_module_version": "1.5.0",
          "state": {
            "_model_module": "@jupyter-widgets/controls",
            "_model_module_version": "1.5.0",
            "_model_name": "ProgressStyleModel",
            "_view_count": null,
            "_view_module": "@jupyter-widgets/base",
            "_view_module_version": "1.2.0",
            "_view_name": "StyleView",
            "bar_color": null,
            "description_width": ""
          }
        },
        "6617a790041244d082528a91982735aa": {
          "model_module": "@jupyter-widgets/base",
          "model_name": "LayoutModel",
          "model_module_version": "1.2.0",
          "state": {
            "_model_module": "@jupyter-widgets/base",
            "_model_module_version": "1.2.0",
            "_model_name": "LayoutModel",
            "_view_count": null,
            "_view_module": "@jupyter-widgets/base",
            "_view_module_version": "1.2.0",
            "_view_name": "LayoutView",
            "align_content": null,
            "align_items": null,
            "align_self": null,
            "border": null,
            "bottom": null,
            "display": null,
            "flex": null,
            "flex_flow": null,
            "grid_area": null,
            "grid_auto_columns": null,
            "grid_auto_flow": null,
            "grid_auto_rows": null,
            "grid_column": null,
            "grid_gap": null,
            "grid_row": null,
            "grid_template_areas": null,
            "grid_template_columns": null,
            "grid_template_rows": null,
            "height": null,
            "justify_content": null,
            "justify_items": null,
            "left": null,
            "margin": null,
            "max_height": null,
            "max_width": null,
            "min_height": null,
            "min_width": null,
            "object_fit": null,
            "object_position": null,
            "order": null,
            "overflow": null,
            "overflow_x": null,
            "overflow_y": null,
            "padding": null,
            "right": null,
            "top": null,
            "visibility": null,
            "width": null
          }
        },
        "fd3ae14a276e41b988fd375620dbd2e0": {
          "model_module": "@jupyter-widgets/controls",
          "model_name": "DescriptionStyleModel",
          "model_module_version": "1.5.0",
          "state": {
            "_model_module": "@jupyter-widgets/controls",
            "_model_module_version": "1.5.0",
            "_model_name": "DescriptionStyleModel",
            "_view_count": null,
            "_view_module": "@jupyter-widgets/base",
            "_view_module_version": "1.2.0",
            "_view_name": "StyleView",
            "description_width": ""
          }
        },
        "af28b8c433ba44a28065060e05f667d4": {
          "model_module": "@jupyter-widgets/controls",
          "model_name": "HBoxModel",
          "model_module_version": "1.5.0",
          "state": {
            "_dom_classes": [],
            "_model_module": "@jupyter-widgets/controls",
            "_model_module_version": "1.5.0",
            "_model_name": "HBoxModel",
            "_view_count": null,
            "_view_module": "@jupyter-widgets/controls",
            "_view_module_version": "1.5.0",
            "_view_name": "HBoxView",
            "box_style": "",
            "children": [
              "IPY_MODEL_cef108364df14019ab17ca5e0485dc91",
              "IPY_MODEL_3fdf737f1e3942d7878f62e245238c2a",
              "IPY_MODEL_d94d3636556d4c7e8df986b94720a1dd"
            ],
            "layout": "IPY_MODEL_3c1979389bd746538576e321376d1d80"
          }
        },
        "cef108364df14019ab17ca5e0485dc91": {
          "model_module": "@jupyter-widgets/controls",
          "model_name": "HTMLModel",
          "model_module_version": "1.5.0",
          "state": {
            "_dom_classes": [],
            "_model_module": "@jupyter-widgets/controls",
            "_model_module_version": "1.5.0",
            "_model_name": "HTMLModel",
            "_view_count": null,
            "_view_module": "@jupyter-widgets/controls",
            "_view_module_version": "1.5.0",
            "_view_name": "HTMLView",
            "description": "",
            "description_tooltip": null,
            "layout": "IPY_MODEL_dbf84ad5fc2d4454bbad798c3fc94042",
            "placeholder": "​",
            "style": "IPY_MODEL_643a5f0b728b44228e4f4bdf5936eaf9",
            "value": "Downloading: 100%"
          }
        },
        "3fdf737f1e3942d7878f62e245238c2a": {
          "model_module": "@jupyter-widgets/controls",
          "model_name": "FloatProgressModel",
          "model_module_version": "1.5.0",
          "state": {
            "_dom_classes": [],
            "_model_module": "@jupyter-widgets/controls",
            "_model_module_version": "1.5.0",
            "_model_name": "FloatProgressModel",
            "_view_count": null,
            "_view_module": "@jupyter-widgets/controls",
            "_view_module_version": "1.5.0",
            "_view_name": "ProgressView",
            "bar_style": "success",
            "description": "",
            "description_tooltip": null,
            "layout": "IPY_MODEL_2ad57741098c4075b12c88217be2b737",
            "max": 1078931,
            "min": 0,
            "orientation": "horizontal",
            "style": "IPY_MODEL_d871416f6bd1466bb2438b1b43e1863e",
            "value": 1078931
          }
        },
        "d94d3636556d4c7e8df986b94720a1dd": {
          "model_module": "@jupyter-widgets/controls",
          "model_name": "HTMLModel",
          "model_module_version": "1.5.0",
          "state": {
            "_dom_classes": [],
            "_model_module": "@jupyter-widgets/controls",
            "_model_module_version": "1.5.0",
            "_model_name": "HTMLModel",
            "_view_count": null,
            "_view_module": "@jupyter-widgets/controls",
            "_view_module_version": "1.5.0",
            "_view_name": "HTMLView",
            "description": "",
            "description_tooltip": null,
            "layout": "IPY_MODEL_0bca369cfb6d4217aaf4790372afd43b",
            "placeholder": "​",
            "style": "IPY_MODEL_08253ddb58c5453692910ad4e4f71847",
            "value": " 1.03M/1.03M [00:00&lt;00:00, 2.65MB/s]"
          }
        },
        "3c1979389bd746538576e321376d1d80": {
          "model_module": "@jupyter-widgets/base",
          "model_name": "LayoutModel",
          "model_module_version": "1.2.0",
          "state": {
            "_model_module": "@jupyter-widgets/base",
            "_model_module_version": "1.2.0",
            "_model_name": "LayoutModel",
            "_view_count": null,
            "_view_module": "@jupyter-widgets/base",
            "_view_module_version": "1.2.0",
            "_view_name": "LayoutView",
            "align_content": null,
            "align_items": null,
            "align_self": null,
            "border": null,
            "bottom": null,
            "display": null,
            "flex": null,
            "flex_flow": null,
            "grid_area": null,
            "grid_auto_columns": null,
            "grid_auto_flow": null,
            "grid_auto_rows": null,
            "grid_column": null,
            "grid_gap": null,
            "grid_row": null,
            "grid_template_areas": null,
            "grid_template_columns": null,
            "grid_template_rows": null,
            "height": null,
            "justify_content": null,
            "justify_items": null,
            "left": null,
            "margin": null,
            "max_height": null,
            "max_width": null,
            "min_height": null,
            "min_width": null,
            "object_fit": null,
            "object_position": null,
            "order": null,
            "overflow": null,
            "overflow_x": null,
            "overflow_y": null,
            "padding": null,
            "right": null,
            "top": null,
            "visibility": null,
            "width": null
          }
        },
        "dbf84ad5fc2d4454bbad798c3fc94042": {
          "model_module": "@jupyter-widgets/base",
          "model_name": "LayoutModel",
          "model_module_version": "1.2.0",
          "state": {
            "_model_module": "@jupyter-widgets/base",
            "_model_module_version": "1.2.0",
            "_model_name": "LayoutModel",
            "_view_count": null,
            "_view_module": "@jupyter-widgets/base",
            "_view_module_version": "1.2.0",
            "_view_name": "LayoutView",
            "align_content": null,
            "align_items": null,
            "align_self": null,
            "border": null,
            "bottom": null,
            "display": null,
            "flex": null,
            "flex_flow": null,
            "grid_area": null,
            "grid_auto_columns": null,
            "grid_auto_flow": null,
            "grid_auto_rows": null,
            "grid_column": null,
            "grid_gap": null,
            "grid_row": null,
            "grid_template_areas": null,
            "grid_template_columns": null,
            "grid_template_rows": null,
            "height": null,
            "justify_content": null,
            "justify_items": null,
            "left": null,
            "margin": null,
            "max_height": null,
            "max_width": null,
            "min_height": null,
            "min_width": null,
            "object_fit": null,
            "object_position": null,
            "order": null,
            "overflow": null,
            "overflow_x": null,
            "overflow_y": null,
            "padding": null,
            "right": null,
            "top": null,
            "visibility": null,
            "width": null
          }
        },
        "643a5f0b728b44228e4f4bdf5936eaf9": {
          "model_module": "@jupyter-widgets/controls",
          "model_name": "DescriptionStyleModel",
          "model_module_version": "1.5.0",
          "state": {
            "_model_module": "@jupyter-widgets/controls",
            "_model_module_version": "1.5.0",
            "_model_name": "DescriptionStyleModel",
            "_view_count": null,
            "_view_module": "@jupyter-widgets/base",
            "_view_module_version": "1.2.0",
            "_view_name": "StyleView",
            "description_width": ""
          }
        },
        "2ad57741098c4075b12c88217be2b737": {
          "model_module": "@jupyter-widgets/base",
          "model_name": "LayoutModel",
          "model_module_version": "1.2.0",
          "state": {
            "_model_module": "@jupyter-widgets/base",
            "_model_module_version": "1.2.0",
            "_model_name": "LayoutModel",
            "_view_count": null,
            "_view_module": "@jupyter-widgets/base",
            "_view_module_version": "1.2.0",
            "_view_name": "LayoutView",
            "align_content": null,
            "align_items": null,
            "align_self": null,
            "border": null,
            "bottom": null,
            "display": null,
            "flex": null,
            "flex_flow": null,
            "grid_area": null,
            "grid_auto_columns": null,
            "grid_auto_flow": null,
            "grid_auto_rows": null,
            "grid_column": null,
            "grid_gap": null,
            "grid_row": null,
            "grid_template_areas": null,
            "grid_template_columns": null,
            "grid_template_rows": null,
            "height": null,
            "justify_content": null,
            "justify_items": null,
            "left": null,
            "margin": null,
            "max_height": null,
            "max_width": null,
            "min_height": null,
            "min_width": null,
            "object_fit": null,
            "object_position": null,
            "order": null,
            "overflow": null,
            "overflow_x": null,
            "overflow_y": null,
            "padding": null,
            "right": null,
            "top": null,
            "visibility": null,
            "width": null
          }
        },
        "d871416f6bd1466bb2438b1b43e1863e": {
          "model_module": "@jupyter-widgets/controls",
          "model_name": "ProgressStyleModel",
          "model_module_version": "1.5.0",
          "state": {
            "_model_module": "@jupyter-widgets/controls",
            "_model_module_version": "1.5.0",
            "_model_name": "ProgressStyleModel",
            "_view_count": null,
            "_view_module": "@jupyter-widgets/base",
            "_view_module_version": "1.2.0",
            "_view_name": "StyleView",
            "bar_color": null,
            "description_width": ""
          }
        },
        "0bca369cfb6d4217aaf4790372afd43b": {
          "model_module": "@jupyter-widgets/base",
          "model_name": "LayoutModel",
          "model_module_version": "1.2.0",
          "state": {
            "_model_module": "@jupyter-widgets/base",
            "_model_module_version": "1.2.0",
            "_model_name": "LayoutModel",
            "_view_count": null,
            "_view_module": "@jupyter-widgets/base",
            "_view_module_version": "1.2.0",
            "_view_name": "LayoutView",
            "align_content": null,
            "align_items": null,
            "align_self": null,
            "border": null,
            "bottom": null,
            "display": null,
            "flex": null,
            "flex_flow": null,
            "grid_area": null,
            "grid_auto_columns": null,
            "grid_auto_flow": null,
            "grid_auto_rows": null,
            "grid_column": null,
            "grid_gap": null,
            "grid_row": null,
            "grid_template_areas": null,
            "grid_template_columns": null,
            "grid_template_rows": null,
            "height": null,
            "justify_content": null,
            "justify_items": null,
            "left": null,
            "margin": null,
            "max_height": null,
            "max_width": null,
            "min_height": null,
            "min_width": null,
            "object_fit": null,
            "object_position": null,
            "order": null,
            "overflow": null,
            "overflow_x": null,
            "overflow_y": null,
            "padding": null,
            "right": null,
            "top": null,
            "visibility": null,
            "width": null
          }
        },
        "08253ddb58c5453692910ad4e4f71847": {
          "model_module": "@jupyter-widgets/controls",
          "model_name": "DescriptionStyleModel",
          "model_module_version": "1.5.0",
          "state": {
            "_model_module": "@jupyter-widgets/controls",
            "_model_module_version": "1.5.0",
            "_model_name": "DescriptionStyleModel",
            "_view_count": null,
            "_view_module": "@jupyter-widgets/base",
            "_view_module_version": "1.2.0",
            "_view_name": "StyleView",
            "description_width": ""
          }
        },
        "01484e38727d486e8a27b45e5af58be4": {
          "model_module": "@jupyter-widgets/controls",
          "model_name": "HBoxModel",
          "model_module_version": "1.5.0",
          "state": {
            "_dom_classes": [],
            "_model_module": "@jupyter-widgets/controls",
            "_model_module_version": "1.5.0",
            "_model_name": "HBoxModel",
            "_view_count": null,
            "_view_module": "@jupyter-widgets/controls",
            "_view_module_version": "1.5.0",
            "_view_name": "HBoxView",
            "box_style": "",
            "children": [
              "IPY_MODEL_58c49c37d79248d3a4a10bb4da7218bf",
              "IPY_MODEL_e515a8d35cd245529ea291f528ebbd54",
              "IPY_MODEL_3d4dbd323c81497e9e6eb5e2678c9461"
            ],
            "layout": "IPY_MODEL_a58aef3e211c49e7b999090a32568294"
          }
        },
        "58c49c37d79248d3a4a10bb4da7218bf": {
          "model_module": "@jupyter-widgets/controls",
          "model_name": "HTMLModel",
          "model_module_version": "1.5.0",
          "state": {
            "_dom_classes": [],
            "_model_module": "@jupyter-widgets/controls",
            "_model_module_version": "1.5.0",
            "_model_name": "HTMLModel",
            "_view_count": null,
            "_view_module": "@jupyter-widgets/controls",
            "_view_module_version": "1.5.0",
            "_view_name": "HTMLView",
            "description": "",
            "description_tooltip": null,
            "layout": "IPY_MODEL_1dfb78fb163f419798c986e355b46929",
            "placeholder": "​",
            "style": "IPY_MODEL_945ab30bb3444af5be40cfdb3e75b110",
            "value": "Downloading: 100%"
          }
        },
        "e515a8d35cd245529ea291f528ebbd54": {
          "model_module": "@jupyter-widgets/controls",
          "model_name": "FloatProgressModel",
          "model_module_version": "1.5.0",
          "state": {
            "_dom_classes": [],
            "_model_module": "@jupyter-widgets/controls",
            "_model_module_version": "1.5.0",
            "_model_name": "FloatProgressModel",
            "_view_count": null,
            "_view_module": "@jupyter-widgets/controls",
            "_view_module_version": "1.5.0",
            "_view_name": "ProgressView",
            "bar_style": "success",
            "description": "",
            "description_tooltip": null,
            "layout": "IPY_MODEL_7af08efd2cba4059989aa5e0b29fb22e",
            "max": 17,
            "min": 0,
            "orientation": "horizontal",
            "style": "IPY_MODEL_3a4ded97ee444621ab59e32b323aa3fe",
            "value": 17
          }
        },
        "3d4dbd323c81497e9e6eb5e2678c9461": {
          "model_module": "@jupyter-widgets/controls",
          "model_name": "HTMLModel",
          "model_module_version": "1.5.0",
          "state": {
            "_dom_classes": [],
            "_model_module": "@jupyter-widgets/controls",
            "_model_module_version": "1.5.0",
            "_model_name": "HTMLModel",
            "_view_count": null,
            "_view_module": "@jupyter-widgets/controls",
            "_view_module_version": "1.5.0",
            "_view_name": "HTMLView",
            "description": "",
            "description_tooltip": null,
            "layout": "IPY_MODEL_d362077273e44bfebd655533a6f19e23",
            "placeholder": "​",
            "style": "IPY_MODEL_532c5dd1e5f2415db4aa8bb6b976f942",
            "value": " 17.0/17.0 [00:00&lt;00:00, 412B/s]"
          }
        },
        "a58aef3e211c49e7b999090a32568294": {
          "model_module": "@jupyter-widgets/base",
          "model_name": "LayoutModel",
          "model_module_version": "1.2.0",
          "state": {
            "_model_module": "@jupyter-widgets/base",
            "_model_module_version": "1.2.0",
            "_model_name": "LayoutModel",
            "_view_count": null,
            "_view_module": "@jupyter-widgets/base",
            "_view_module_version": "1.2.0",
            "_view_name": "LayoutView",
            "align_content": null,
            "align_items": null,
            "align_self": null,
            "border": null,
            "bottom": null,
            "display": null,
            "flex": null,
            "flex_flow": null,
            "grid_area": null,
            "grid_auto_columns": null,
            "grid_auto_flow": null,
            "grid_auto_rows": null,
            "grid_column": null,
            "grid_gap": null,
            "grid_row": null,
            "grid_template_areas": null,
            "grid_template_columns": null,
            "grid_template_rows": null,
            "height": null,
            "justify_content": null,
            "justify_items": null,
            "left": null,
            "margin": null,
            "max_height": null,
            "max_width": null,
            "min_height": null,
            "min_width": null,
            "object_fit": null,
            "object_position": null,
            "order": null,
            "overflow": null,
            "overflow_x": null,
            "overflow_y": null,
            "padding": null,
            "right": null,
            "top": null,
            "visibility": null,
            "width": null
          }
        },
        "1dfb78fb163f419798c986e355b46929": {
          "model_module": "@jupyter-widgets/base",
          "model_name": "LayoutModel",
          "model_module_version": "1.2.0",
          "state": {
            "_model_module": "@jupyter-widgets/base",
            "_model_module_version": "1.2.0",
            "_model_name": "LayoutModel",
            "_view_count": null,
            "_view_module": "@jupyter-widgets/base",
            "_view_module_version": "1.2.0",
            "_view_name": "LayoutView",
            "align_content": null,
            "align_items": null,
            "align_self": null,
            "border": null,
            "bottom": null,
            "display": null,
            "flex": null,
            "flex_flow": null,
            "grid_area": null,
            "grid_auto_columns": null,
            "grid_auto_flow": null,
            "grid_auto_rows": null,
            "grid_column": null,
            "grid_gap": null,
            "grid_row": null,
            "grid_template_areas": null,
            "grid_template_columns": null,
            "grid_template_rows": null,
            "height": null,
            "justify_content": null,
            "justify_items": null,
            "left": null,
            "margin": null,
            "max_height": null,
            "max_width": null,
            "min_height": null,
            "min_width": null,
            "object_fit": null,
            "object_position": null,
            "order": null,
            "overflow": null,
            "overflow_x": null,
            "overflow_y": null,
            "padding": null,
            "right": null,
            "top": null,
            "visibility": null,
            "width": null
          }
        },
        "945ab30bb3444af5be40cfdb3e75b110": {
          "model_module": "@jupyter-widgets/controls",
          "model_name": "DescriptionStyleModel",
          "model_module_version": "1.5.0",
          "state": {
            "_model_module": "@jupyter-widgets/controls",
            "_model_module_version": "1.5.0",
            "_model_name": "DescriptionStyleModel",
            "_view_count": null,
            "_view_module": "@jupyter-widgets/base",
            "_view_module_version": "1.2.0",
            "_view_name": "StyleView",
            "description_width": ""
          }
        },
        "7af08efd2cba4059989aa5e0b29fb22e": {
          "model_module": "@jupyter-widgets/base",
          "model_name": "LayoutModel",
          "model_module_version": "1.2.0",
          "state": {
            "_model_module": "@jupyter-widgets/base",
            "_model_module_version": "1.2.0",
            "_model_name": "LayoutModel",
            "_view_count": null,
            "_view_module": "@jupyter-widgets/base",
            "_view_module_version": "1.2.0",
            "_view_name": "LayoutView",
            "align_content": null,
            "align_items": null,
            "align_self": null,
            "border": null,
            "bottom": null,
            "display": null,
            "flex": null,
            "flex_flow": null,
            "grid_area": null,
            "grid_auto_columns": null,
            "grid_auto_flow": null,
            "grid_auto_rows": null,
            "grid_column": null,
            "grid_gap": null,
            "grid_row": null,
            "grid_template_areas": null,
            "grid_template_columns": null,
            "grid_template_rows": null,
            "height": null,
            "justify_content": null,
            "justify_items": null,
            "left": null,
            "margin": null,
            "max_height": null,
            "max_width": null,
            "min_height": null,
            "min_width": null,
            "object_fit": null,
            "object_position": null,
            "order": null,
            "overflow": null,
            "overflow_x": null,
            "overflow_y": null,
            "padding": null,
            "right": null,
            "top": null,
            "visibility": null,
            "width": null
          }
        },
        "3a4ded97ee444621ab59e32b323aa3fe": {
          "model_module": "@jupyter-widgets/controls",
          "model_name": "ProgressStyleModel",
          "model_module_version": "1.5.0",
          "state": {
            "_model_module": "@jupyter-widgets/controls",
            "_model_module_version": "1.5.0",
            "_model_name": "ProgressStyleModel",
            "_view_count": null,
            "_view_module": "@jupyter-widgets/base",
            "_view_module_version": "1.2.0",
            "_view_name": "StyleView",
            "bar_color": null,
            "description_width": ""
          }
        },
        "d362077273e44bfebd655533a6f19e23": {
          "model_module": "@jupyter-widgets/base",
          "model_name": "LayoutModel",
          "model_module_version": "1.2.0",
          "state": {
            "_model_module": "@jupyter-widgets/base",
            "_model_module_version": "1.2.0",
            "_model_name": "LayoutModel",
            "_view_count": null,
            "_view_module": "@jupyter-widgets/base",
            "_view_module_version": "1.2.0",
            "_view_name": "LayoutView",
            "align_content": null,
            "align_items": null,
            "align_self": null,
            "border": null,
            "bottom": null,
            "display": null,
            "flex": null,
            "flex_flow": null,
            "grid_area": null,
            "grid_auto_columns": null,
            "grid_auto_flow": null,
            "grid_auto_rows": null,
            "grid_column": null,
            "grid_gap": null,
            "grid_row": null,
            "grid_template_areas": null,
            "grid_template_columns": null,
            "grid_template_rows": null,
            "height": null,
            "justify_content": null,
            "justify_items": null,
            "left": null,
            "margin": null,
            "max_height": null,
            "max_width": null,
            "min_height": null,
            "min_width": null,
            "object_fit": null,
            "object_position": null,
            "order": null,
            "overflow": null,
            "overflow_x": null,
            "overflow_y": null,
            "padding": null,
            "right": null,
            "top": null,
            "visibility": null,
            "width": null
          }
        },
        "532c5dd1e5f2415db4aa8bb6b976f942": {
          "model_module": "@jupyter-widgets/controls",
          "model_name": "DescriptionStyleModel",
          "model_module_version": "1.5.0",
          "state": {
            "_model_module": "@jupyter-widgets/controls",
            "_model_module_version": "1.5.0",
            "_model_name": "DescriptionStyleModel",
            "_view_count": null,
            "_view_module": "@jupyter-widgets/base",
            "_view_module_version": "1.2.0",
            "_view_name": "StyleView",
            "description_width": ""
          }
        },
        "cb5ca691a79d4b1fa70dec039a448c0d": {
          "model_module": "@jupyter-widgets/controls",
          "model_name": "HBoxModel",
          "model_module_version": "1.5.0",
          "state": {
            "_dom_classes": [],
            "_model_module": "@jupyter-widgets/controls",
            "_model_module_version": "1.5.0",
            "_model_name": "HBoxModel",
            "_view_count": null,
            "_view_module": "@jupyter-widgets/controls",
            "_view_module_version": "1.5.0",
            "_view_name": "HBoxView",
            "box_style": "",
            "children": [
              "IPY_MODEL_a899c4f1fe29405e99a5472bec017538",
              "IPY_MODEL_51885a4a9b80490caeee0f3c336e4183",
              "IPY_MODEL_2d3f8affdde1488d90a85815e0455897"
            ],
            "layout": "IPY_MODEL_6a056d91b9a84db99c0bd7307f62685e"
          }
        },
        "a899c4f1fe29405e99a5472bec017538": {
          "model_module": "@jupyter-widgets/controls",
          "model_name": "HTMLModel",
          "model_module_version": "1.5.0",
          "state": {
            "_dom_classes": [],
            "_model_module": "@jupyter-widgets/controls",
            "_model_module_version": "1.5.0",
            "_model_name": "HTMLModel",
            "_view_count": null,
            "_view_module": "@jupyter-widgets/controls",
            "_view_module_version": "1.5.0",
            "_view_name": "HTMLView",
            "description": "",
            "description_tooltip": null,
            "layout": "IPY_MODEL_d7d9a64f781947ad9a026973b57c349f",
            "placeholder": "​",
            "style": "IPY_MODEL_adc6158defdd45ffa23494fbabd689b2",
            "value": "Downloading: 100%"
          }
        },
        "51885a4a9b80490caeee0f3c336e4183": {
          "model_module": "@jupyter-widgets/controls",
          "model_name": "FloatProgressModel",
          "model_module_version": "1.5.0",
          "state": {
            "_dom_classes": [],
            "_model_module": "@jupyter-widgets/controls",
            "_model_module_version": "1.5.0",
            "_model_name": "FloatProgressModel",
            "_view_count": null,
            "_view_module": "@jupyter-widgets/controls",
            "_view_module_version": "1.5.0",
            "_view_name": "ProgressView",
            "bar_style": "success",
            "description": "",
            "description_tooltip": null,
            "layout": "IPY_MODEL_d288c4def7b64122b2db74f627687440",
            "max": 150,
            "min": 0,
            "orientation": "horizontal",
            "style": "IPY_MODEL_70e4f2f826d745a6b6b9242b9c5be7e1",
            "value": 150
          }
        },
        "2d3f8affdde1488d90a85815e0455897": {
          "model_module": "@jupyter-widgets/controls",
          "model_name": "HTMLModel",
          "model_module_version": "1.5.0",
          "state": {
            "_dom_classes": [],
            "_model_module": "@jupyter-widgets/controls",
            "_model_module_version": "1.5.0",
            "_model_name": "HTMLModel",
            "_view_count": null,
            "_view_module": "@jupyter-widgets/controls",
            "_view_module_version": "1.5.0",
            "_view_name": "HTMLView",
            "description": "",
            "description_tooltip": null,
            "layout": "IPY_MODEL_55fbc38b6bdc41fdb30682639b03b548",
            "placeholder": "​",
            "style": "IPY_MODEL_a34b8f13e2ca4b14b4f0fee1b35e6d90",
            "value": " 150/150 [00:00&lt;00:00, 2.07kB/s]"
          }
        },
        "6a056d91b9a84db99c0bd7307f62685e": {
          "model_module": "@jupyter-widgets/base",
          "model_name": "LayoutModel",
          "model_module_version": "1.2.0",
          "state": {
            "_model_module": "@jupyter-widgets/base",
            "_model_module_version": "1.2.0",
            "_model_name": "LayoutModel",
            "_view_count": null,
            "_view_module": "@jupyter-widgets/base",
            "_view_module_version": "1.2.0",
            "_view_name": "LayoutView",
            "align_content": null,
            "align_items": null,
            "align_self": null,
            "border": null,
            "bottom": null,
            "display": null,
            "flex": null,
            "flex_flow": null,
            "grid_area": null,
            "grid_auto_columns": null,
            "grid_auto_flow": null,
            "grid_auto_rows": null,
            "grid_column": null,
            "grid_gap": null,
            "grid_row": null,
            "grid_template_areas": null,
            "grid_template_columns": null,
            "grid_template_rows": null,
            "height": null,
            "justify_content": null,
            "justify_items": null,
            "left": null,
            "margin": null,
            "max_height": null,
            "max_width": null,
            "min_height": null,
            "min_width": null,
            "object_fit": null,
            "object_position": null,
            "order": null,
            "overflow": null,
            "overflow_x": null,
            "overflow_y": null,
            "padding": null,
            "right": null,
            "top": null,
            "visibility": null,
            "width": null
          }
        },
        "d7d9a64f781947ad9a026973b57c349f": {
          "model_module": "@jupyter-widgets/base",
          "model_name": "LayoutModel",
          "model_module_version": "1.2.0",
          "state": {
            "_model_module": "@jupyter-widgets/base",
            "_model_module_version": "1.2.0",
            "_model_name": "LayoutModel",
            "_view_count": null,
            "_view_module": "@jupyter-widgets/base",
            "_view_module_version": "1.2.0",
            "_view_name": "LayoutView",
            "align_content": null,
            "align_items": null,
            "align_self": null,
            "border": null,
            "bottom": null,
            "display": null,
            "flex": null,
            "flex_flow": null,
            "grid_area": null,
            "grid_auto_columns": null,
            "grid_auto_flow": null,
            "grid_auto_rows": null,
            "grid_column": null,
            "grid_gap": null,
            "grid_row": null,
            "grid_template_areas": null,
            "grid_template_columns": null,
            "grid_template_rows": null,
            "height": null,
            "justify_content": null,
            "justify_items": null,
            "left": null,
            "margin": null,
            "max_height": null,
            "max_width": null,
            "min_height": null,
            "min_width": null,
            "object_fit": null,
            "object_position": null,
            "order": null,
            "overflow": null,
            "overflow_x": null,
            "overflow_y": null,
            "padding": null,
            "right": null,
            "top": null,
            "visibility": null,
            "width": null
          }
        },
        "adc6158defdd45ffa23494fbabd689b2": {
          "model_module": "@jupyter-widgets/controls",
          "model_name": "DescriptionStyleModel",
          "model_module_version": "1.5.0",
          "state": {
            "_model_module": "@jupyter-widgets/controls",
            "_model_module_version": "1.5.0",
            "_model_name": "DescriptionStyleModel",
            "_view_count": null,
            "_view_module": "@jupyter-widgets/base",
            "_view_module_version": "1.2.0",
            "_view_name": "StyleView",
            "description_width": ""
          }
        },
        "d288c4def7b64122b2db74f627687440": {
          "model_module": "@jupyter-widgets/base",
          "model_name": "LayoutModel",
          "model_module_version": "1.2.0",
          "state": {
            "_model_module": "@jupyter-widgets/base",
            "_model_module_version": "1.2.0",
            "_model_name": "LayoutModel",
            "_view_count": null,
            "_view_module": "@jupyter-widgets/base",
            "_view_module_version": "1.2.0",
            "_view_name": "LayoutView",
            "align_content": null,
            "align_items": null,
            "align_self": null,
            "border": null,
            "bottom": null,
            "display": null,
            "flex": null,
            "flex_flow": null,
            "grid_area": null,
            "grid_auto_columns": null,
            "grid_auto_flow": null,
            "grid_auto_rows": null,
            "grid_column": null,
            "grid_gap": null,
            "grid_row": null,
            "grid_template_areas": null,
            "grid_template_columns": null,
            "grid_template_rows": null,
            "height": null,
            "justify_content": null,
            "justify_items": null,
            "left": null,
            "margin": null,
            "max_height": null,
            "max_width": null,
            "min_height": null,
            "min_width": null,
            "object_fit": null,
            "object_position": null,
            "order": null,
            "overflow": null,
            "overflow_x": null,
            "overflow_y": null,
            "padding": null,
            "right": null,
            "top": null,
            "visibility": null,
            "width": null
          }
        },
        "70e4f2f826d745a6b6b9242b9c5be7e1": {
          "model_module": "@jupyter-widgets/controls",
          "model_name": "ProgressStyleModel",
          "model_module_version": "1.5.0",
          "state": {
            "_model_module": "@jupyter-widgets/controls",
            "_model_module_version": "1.5.0",
            "_model_name": "ProgressStyleModel",
            "_view_count": null,
            "_view_module": "@jupyter-widgets/base",
            "_view_module_version": "1.2.0",
            "_view_name": "StyleView",
            "bar_color": null,
            "description_width": ""
          }
        },
        "55fbc38b6bdc41fdb30682639b03b548": {
          "model_module": "@jupyter-widgets/base",
          "model_name": "LayoutModel",
          "model_module_version": "1.2.0",
          "state": {
            "_model_module": "@jupyter-widgets/base",
            "_model_module_version": "1.2.0",
            "_model_name": "LayoutModel",
            "_view_count": null,
            "_view_module": "@jupyter-widgets/base",
            "_view_module_version": "1.2.0",
            "_view_name": "LayoutView",
            "align_content": null,
            "align_items": null,
            "align_self": null,
            "border": null,
            "bottom": null,
            "display": null,
            "flex": null,
            "flex_flow": null,
            "grid_area": null,
            "grid_auto_columns": null,
            "grid_auto_flow": null,
            "grid_auto_rows": null,
            "grid_column": null,
            "grid_gap": null,
            "grid_row": null,
            "grid_template_areas": null,
            "grid_template_columns": null,
            "grid_template_rows": null,
            "height": null,
            "justify_content": null,
            "justify_items": null,
            "left": null,
            "margin": null,
            "max_height": null,
            "max_width": null,
            "min_height": null,
            "min_width": null,
            "object_fit": null,
            "object_position": null,
            "order": null,
            "overflow": null,
            "overflow_x": null,
            "overflow_y": null,
            "padding": null,
            "right": null,
            "top": null,
            "visibility": null,
            "width": null
          }
        },
        "a34b8f13e2ca4b14b4f0fee1b35e6d90": {
          "model_module": "@jupyter-widgets/controls",
          "model_name": "DescriptionStyleModel",
          "model_module_version": "1.5.0",
          "state": {
            "_model_module": "@jupyter-widgets/controls",
            "_model_module_version": "1.5.0",
            "_model_name": "DescriptionStyleModel",
            "_view_count": null,
            "_view_module": "@jupyter-widgets/base",
            "_view_module_version": "1.2.0",
            "_view_name": "StyleView",
            "description_width": ""
          }
        }
      }
    }
  },
  "cells": [
    {
      "cell_type": "code",
      "execution_count": 1,
      "metadata": {
        "id": "9NCBsmd-NDC5"
      },
      "outputs": [],
      "source": [
        "import pandas as pd\n",
        "import numpy as np"
      ]
    },
    {
      "cell_type": "markdown",
      "source": [
        "use data from data v 4.0.0 / preprocessed data"
      ],
      "metadata": {
        "id": "6g86SLRvXQw7"
      }
    },
    {
      "cell_type": "code",
      "source": [
        "tweets_df_cs = pd.read_csv('/content/Tweets-CES-Preprocessed.csv')\n",
        "tweets_df_ps = pd.read_csv('/content/Tweets-PES-Preprocessed.csv')\n",
        "tweets_df_vs = pd.read_csv('/content/Tweets-VS-Preprocessed.csv')"
      ],
      "metadata": {
        "id": "5dC7dPXmNQ6k"
      },
      "execution_count": 15,
      "outputs": []
    },
    {
      "cell_type": "markdown",
      "source": [
        "## Transformers Model\n"
      ],
      "metadata": {
        "id": "6WZD--3-77am"
      }
    },
    {
      "cell_type": "code",
      "source": [
        "!pip install -q transformers"
      ],
      "metadata": {
        "colab": {
          "base_uri": "https://localhost:8080/"
        },
        "id": "v7k8zBQz7k1r",
        "outputId": "e54cc587-a801-4afc-905d-10e428cdcc44"
      },
      "execution_count": 3,
      "outputs": [
        {
          "output_type": "stream",
          "name": "stdout",
          "text": [
            "\u001b[K     |████████████████████████████████| 4.4 MB 5.0 MB/s \n",
            "\u001b[K     |████████████████████████████████| 101 kB 10.1 MB/s \n",
            "\u001b[K     |████████████████████████████████| 6.6 MB 32.4 MB/s \n",
            "\u001b[K     |████████████████████████████████| 596 kB 49.6 MB/s \n",
            "\u001b[?25h"
          ]
        }
      ]
    },
    {
      "cell_type": "code",
      "source": [
        "!pip install -q emoji"
      ],
      "metadata": {
        "colab": {
          "base_uri": "https://localhost:8080/"
        },
        "id": "uDAg283A8-sK",
        "outputId": "8ddb5187-4542-4f5a-b2a5-d848eccac9e7"
      },
      "execution_count": 4,
      "outputs": [
        {
          "output_type": "stream",
          "name": "stdout",
          "text": [
            "\u001b[?25l\r\u001b[K     |█▉                              | 10 kB 23.9 MB/s eta 0:00:01\r\u001b[K     |███▊                            | 20 kB 18.2 MB/s eta 0:00:01\r\u001b[K     |█████▋                          | 30 kB 11.4 MB/s eta 0:00:01\r\u001b[K     |███████▌                        | 40 kB 9.7 MB/s eta 0:00:01\r\u001b[K     |█████████▍                      | 51 kB 4.8 MB/s eta 0:00:01\r\u001b[K     |███████████▏                    | 61 kB 5.6 MB/s eta 0:00:01\r\u001b[K     |█████████████                   | 71 kB 5.6 MB/s eta 0:00:01\r\u001b[K     |███████████████                 | 81 kB 5.5 MB/s eta 0:00:01\r\u001b[K     |████████████████▉               | 92 kB 6.2 MB/s eta 0:00:01\r\u001b[K     |██████████████████▊             | 102 kB 5.2 MB/s eta 0:00:01\r\u001b[K     |████████████████████▌           | 112 kB 5.2 MB/s eta 0:00:01\r\u001b[K     |██████████████████████▍         | 122 kB 5.2 MB/s eta 0:00:01\r\u001b[K     |████████████████████████▎       | 133 kB 5.2 MB/s eta 0:00:01\r\u001b[K     |██████████████████████████▏     | 143 kB 5.2 MB/s eta 0:00:01\r\u001b[K     |████████████████████████████    | 153 kB 5.2 MB/s eta 0:00:01\r\u001b[K     |█████████████████████████████▉  | 163 kB 5.2 MB/s eta 0:00:01\r\u001b[K     |███████████████████████████████▊| 174 kB 5.2 MB/s eta 0:00:01\r\u001b[K     |████████████████████████████████| 175 kB 5.2 MB/s \n",
            "\u001b[?25h  Building wheel for emoji (setup.py) ... \u001b[?25l\u001b[?25hdone\n"
          ]
        }
      ]
    },
    {
      "cell_type": "code",
      "source": [
        "from transformers import pipeline"
      ],
      "metadata": {
        "id": "BYMWO_nm8D1o"
      },
      "execution_count": 5,
      "outputs": []
    },
    {
      "cell_type": "code",
      "source": [
        "sentiment_pipeline = pipeline(\"sentiment-analysis\")"
      ],
      "metadata": {
        "colab": {
          "base_uri": "https://localhost:8080/",
          "height": 162,
          "referenced_widgets": [
            "30ee1325fb154e2d997b4d1a5a9867e5",
            "99dfb5c3adb1471ab7af6d625eeca698",
            "6ac4cd651f1742f58228ec093dd1ec15",
            "df85da64c90e4b1da0bed25fe7282c03",
            "8cb36a1a0ee64b7dacc5e3a9b71e4a10",
            "a3550181cc514feaaa7bf41cec8f9eb8",
            "865259dae64043d182db33b0fcf68188",
            "e257ad14cb394322abecbe93fabcb863",
            "95bd22b9a7fd4c7fa19ea6212a084d4b",
            "23b507daa3d147baa148cb343e3ab00c",
            "f3f843bad8dc4efebc4dd5dc7285382c",
            "ba47d655333240f986ff21a91a352e1d",
            "9e5691f1f83543888286dbf8f14e29df",
            "6083604440894d03b226f04a55ab03ba",
            "fb54f848f79141cd9e172b11409fb2a0",
            "65c568488cb44891b2d7afb413386fa0",
            "8234b1f1cbf24d648ac0f2a1b8c0c61a",
            "df09074d28bd41bc81742a9e4d541740",
            "d90f434b292e446a80a763141e03ab85",
            "d67688f66ea145f69b51a8cf6f8b65f1",
            "06e5c72ffc8b40ba9b543e705ef492bd",
            "7fc5e7989aec41e18d84d105eb10d358",
            "072fd6e3bd1f4b75b0085b57955ae017",
            "c9836726a6644adcb0121349485a854b",
            "b3351e61ce0945059b713d592638c7cf",
            "d7bd8e2c650e4314895755d81e0c228f",
            "d4403d4c20264858a68f0f4c6090a1ae",
            "fc13b07077de49d3bf630586ba5fef59",
            "adff7d4c024e4cdc9dd770afddac88f2",
            "5a7efcab3b9f4a0c889c22885c2d6c9a",
            "c6ade14076014030a26350a118ec5150",
            "60d9157cc3c446fc85f4e39b924cd825",
            "cbdce75963b6497b9c31b64999a249a4",
            "bcdabd74ff3c4f84aa2a788bded79b0b",
            "1fc5419207db4ed1a14f9709bb7fc84c",
            "2e62635a3cc04d03aa9e5aae812224ad",
            "65345eb10a9340199b561c484720643f",
            "164c7fc3ad6a4519b73fa0505e83eb2a",
            "dc84d5c977fc4e699dddf0e2590b9f88",
            "0c2ec389363143309c04e046033d13fa",
            "60d543630114470794724f2a331e0fa6",
            "855a196682ee4d898c8042aca1777e72",
            "5f575a5c348949818f68088f2ef4e5ac",
            "6d951d51f4c1483ba18927b682727557"
          ]
        },
        "id": "pND-r44U8PnZ",
        "outputId": "edde0dc0-2f08-427e-e8c9-5a8ab00d2a60"
      },
      "execution_count": 6,
      "outputs": [
        {
          "output_type": "stream",
          "name": "stderr",
          "text": [
            "No model was supplied, defaulted to distilbert-base-uncased-finetuned-sst-2-english (https://huggingface.co/distilbert-base-uncased-finetuned-sst-2-english)\n"
          ]
        },
        {
          "output_type": "display_data",
          "data": {
            "text/plain": [
              "Downloading:   0%|          | 0.00/629 [00:00<?, ?B/s]"
            ],
            "application/vnd.jupyter.widget-view+json": {
              "version_major": 2,
              "version_minor": 0,
              "model_id": "30ee1325fb154e2d997b4d1a5a9867e5"
            }
          },
          "metadata": {}
        },
        {
          "output_type": "display_data",
          "data": {
            "text/plain": [
              "Downloading:   0%|          | 0.00/255M [00:00<?, ?B/s]"
            ],
            "application/vnd.jupyter.widget-view+json": {
              "version_major": 2,
              "version_minor": 0,
              "model_id": "ba47d655333240f986ff21a91a352e1d"
            }
          },
          "metadata": {}
        },
        {
          "output_type": "display_data",
          "data": {
            "text/plain": [
              "Downloading:   0%|          | 0.00/48.0 [00:00<?, ?B/s]"
            ],
            "application/vnd.jupyter.widget-view+json": {
              "version_major": 2,
              "version_minor": 0,
              "model_id": "072fd6e3bd1f4b75b0085b57955ae017"
            }
          },
          "metadata": {}
        },
        {
          "output_type": "display_data",
          "data": {
            "text/plain": [
              "Downloading:   0%|          | 0.00/226k [00:00<?, ?B/s]"
            ],
            "application/vnd.jupyter.widget-view+json": {
              "version_major": 2,
              "version_minor": 0,
              "model_id": "bcdabd74ff3c4f84aa2a788bded79b0b"
            }
          },
          "metadata": {}
        }
      ]
    },
    {
      "cell_type": "code",
      "source": [
        "data = tweets_df_cs['text'][0]"
      ],
      "metadata": {
        "id": "IVATO7938TlA"
      },
      "execution_count": 16,
      "outputs": []
    },
    {
      "cell_type": "code",
      "source": [
        "data"
      ],
      "metadata": {
        "colab": {
          "base_uri": "https://localhost:8080/",
          "height": 53
        },
        "id": "MJEbsKzX9KER",
        "outputId": "f865be84-b11e-4ff1-8744-b4b7247962c3"
      },
      "execution_count": 17,
      "outputs": [
        {
          "output_type": "execute_result",
          "data": {
            "text/plain": [
              "'A little good news. The Sumatran rhinoceros are critically endangered, with perhaps a total of 80 adults dwelling in the forests of Sumatra. They are very hard to find.\\n\\nNow a baby rhino has been born in Way-Kambas-Nationalpark! The first in a long time. \\n\\n#Climate #nature'"
            ],
            "application/vnd.google.colaboratory.intrinsic+json": {
              "type": "string"
            }
          },
          "metadata": {},
          "execution_count": 17
        }
      ]
    },
    {
      "cell_type": "code",
      "source": [
        "sentiment_pipeline(data)"
      ],
      "metadata": {
        "colab": {
          "base_uri": "https://localhost:8080/"
        },
        "id": "PZQWkCko8chZ",
        "outputId": "3d55b925-e035-4057-acce-b2acbef6c061"
      },
      "execution_count": 18,
      "outputs": [
        {
          "output_type": "execute_result",
          "data": {
            "text/plain": [
              "[{'label': 'POSITIVE', 'score': 0.993760883808136}]"
            ]
          },
          "metadata": {},
          "execution_count": 18
        }
      ]
    },
    {
      "cell_type": "code",
      "source": [
        "specific_model = pipeline(model=\"finiteautomata/bertweet-base-sentiment-analysis\")\n"
      ],
      "metadata": {
        "colab": {
          "base_uri": "https://localhost:8080/",
          "height": 273,
          "referenced_widgets": [
            "43f0eff4601b4733a6043dbf00297a3f",
            "5523acb494704bf3a2bdd974d4c4245b",
            "9f90c508d3e249bb95cff6fb827e0a38",
            "f3dd69f149c9467b9af2a5534d41d643",
            "f90b97a1bcf74ccfac86b3fb40caf2f1",
            "ac72a55fedcd4d2a9713540064c6c8ca",
            "52d636ab82774949a3c6d98604c94f06",
            "f2f0cb2d763646fcabb2e2a691c34780",
            "1830967910784162a0316769d635e837",
            "0aa374812824417a9b23a671db33b6ae",
            "ab20a7ac8f5a46d6a4fefae22a2546d5",
            "d4933bc63f1245138fa28aed59119579",
            "0101a56043294b1997ce4434124a3686",
            "796f50cf491342ffaeee0854fac639ba",
            "9e0174a4e63546669dff81c07dde7db9",
            "1b08fdb772cd4f20909cd3a3f635e8c2",
            "9d960eff458c4be49d9c90c2dc18ad07",
            "d09de53d83e644489c5410590f099b66",
            "26a30c18b56d49bca58f4c84f41dfedc",
            "1adb4570124b492cb51f5e336bf1feab",
            "227b5c13fd1444e5993fa9c87edf8592",
            "99296f628e5b4de78d5f52b4fe977b15",
            "4c73ea9d14234baa9400e91ce62cf707",
            "8023edfc55b24828b2f0f2e7041071de",
            "589797a46286445ebe5c23f042331657",
            "b82514d6a4224f4e96c68fbc2b77b610",
            "3f40a389866240249578e57337a8a878",
            "5143b7225e334b648a577bf72bc8b48e",
            "b77698204ff54563b12862a5a4754e46",
            "45d18e1105f0491391b96c9424e09300",
            "43f93d4011824b36a44d7c665c9c696f",
            "1e4d52cea2da410bb82ec04c3098cf86",
            "815d2595da014e829148641797b36dfc",
            "dc8096c4a49c474086c6aa9c9c0d71a7",
            "3dacd921b3654274a12fef814340e13e",
            "5376b5b90c444bfa809b8f8c1f028f9e",
            "aa1e4fe86b5645ffa680f3b9e6d290fa",
            "d31322b6c92e471d9297f64117323885",
            "b510f18a5ede47719e1cca49c267a148",
            "aad68f6e8cfc4343a036429e6726ea38",
            "54a9b85c8fd44aaa94e6a91bc3ad4565",
            "203982598f124d1fa7f04c712b0b61c9",
            "c1fd4108e35e4ca5a45ca3e7d4530791",
            "f3c9022ddfdb453ab3d0242a2ce052ab",
            "4fab1270e34544478a95450aab32bc37",
            "f9ea679480224baab371399612ed1142",
            "bd852c55d41d4491b1a0fd5d6039bbb7",
            "9b21ac0aa78347f38fde05a1fd48e87b",
            "863ea6d1830e4776bc7b531561516318",
            "a27894befa6541a2b77baf88cc5e751c",
            "31f2dcfb91c748489faf5cc1f01049de",
            "8a344cb0ccca46e7bef0397eeb5681e6",
            "a231b0565d57420b9dfeb69296c38062",
            "6617a790041244d082528a91982735aa",
            "fd3ae14a276e41b988fd375620dbd2e0",
            "af28b8c433ba44a28065060e05f667d4",
            "cef108364df14019ab17ca5e0485dc91",
            "3fdf737f1e3942d7878f62e245238c2a",
            "d94d3636556d4c7e8df986b94720a1dd",
            "3c1979389bd746538576e321376d1d80",
            "dbf84ad5fc2d4454bbad798c3fc94042",
            "643a5f0b728b44228e4f4bdf5936eaf9",
            "2ad57741098c4075b12c88217be2b737",
            "d871416f6bd1466bb2438b1b43e1863e",
            "0bca369cfb6d4217aaf4790372afd43b",
            "08253ddb58c5453692910ad4e4f71847",
            "01484e38727d486e8a27b45e5af58be4",
            "58c49c37d79248d3a4a10bb4da7218bf",
            "e515a8d35cd245529ea291f528ebbd54",
            "3d4dbd323c81497e9e6eb5e2678c9461",
            "a58aef3e211c49e7b999090a32568294",
            "1dfb78fb163f419798c986e355b46929",
            "945ab30bb3444af5be40cfdb3e75b110",
            "7af08efd2cba4059989aa5e0b29fb22e",
            "3a4ded97ee444621ab59e32b323aa3fe",
            "d362077273e44bfebd655533a6f19e23",
            "532c5dd1e5f2415db4aa8bb6b976f942",
            "cb5ca691a79d4b1fa70dec039a448c0d",
            "a899c4f1fe29405e99a5472bec017538",
            "51885a4a9b80490caeee0f3c336e4183",
            "2d3f8affdde1488d90a85815e0455897",
            "6a056d91b9a84db99c0bd7307f62685e",
            "d7d9a64f781947ad9a026973b57c349f",
            "adc6158defdd45ffa23494fbabd689b2",
            "d288c4def7b64122b2db74f627687440",
            "70e4f2f826d745a6b6b9242b9c5be7e1",
            "55fbc38b6bdc41fdb30682639b03b548",
            "a34b8f13e2ca4b14b4f0fee1b35e6d90"
          ]
        },
        "id": "PofkMYvL8fiY",
        "outputId": "a97c1967-beea-47df-c6a7-163c8808732b"
      },
      "execution_count": 10,
      "outputs": [
        {
          "output_type": "display_data",
          "data": {
            "text/plain": [
              "Downloading:   0%|          | 0.00/1.13k [00:00<?, ?B/s]"
            ],
            "application/vnd.jupyter.widget-view+json": {
              "version_major": 2,
              "version_minor": 0,
              "model_id": "43f0eff4601b4733a6043dbf00297a3f"
            }
          },
          "metadata": {}
        },
        {
          "output_type": "display_data",
          "data": {
            "text/plain": [
              "Downloading:   0%|          | 0.00/890 [00:00<?, ?B/s]"
            ],
            "application/vnd.jupyter.widget-view+json": {
              "version_major": 2,
              "version_minor": 0,
              "model_id": "d4933bc63f1245138fa28aed59119579"
            }
          },
          "metadata": {}
        },
        {
          "output_type": "display_data",
          "data": {
            "text/plain": [
              "Downloading:   0%|          | 0.00/515M [00:00<?, ?B/s]"
            ],
            "application/vnd.jupyter.widget-view+json": {
              "version_major": 2,
              "version_minor": 0,
              "model_id": "4c73ea9d14234baa9400e91ce62cf707"
            }
          },
          "metadata": {}
        },
        {
          "output_type": "display_data",
          "data": {
            "text/plain": [
              "Downloading:   0%|          | 0.00/295 [00:00<?, ?B/s]"
            ],
            "application/vnd.jupyter.widget-view+json": {
              "version_major": 2,
              "version_minor": 0,
              "model_id": "dc8096c4a49c474086c6aa9c9c0d71a7"
            }
          },
          "metadata": {}
        },
        {
          "output_type": "display_data",
          "data": {
            "text/plain": [
              "Downloading:   0%|          | 0.00/824k [00:00<?, ?B/s]"
            ],
            "application/vnd.jupyter.widget-view+json": {
              "version_major": 2,
              "version_minor": 0,
              "model_id": "4fab1270e34544478a95450aab32bc37"
            }
          },
          "metadata": {}
        },
        {
          "output_type": "display_data",
          "data": {
            "text/plain": [
              "Downloading:   0%|          | 0.00/1.03M [00:00<?, ?B/s]"
            ],
            "application/vnd.jupyter.widget-view+json": {
              "version_major": 2,
              "version_minor": 0,
              "model_id": "af28b8c433ba44a28065060e05f667d4"
            }
          },
          "metadata": {}
        },
        {
          "output_type": "display_data",
          "data": {
            "text/plain": [
              "Downloading:   0%|          | 0.00/17.0 [00:00<?, ?B/s]"
            ],
            "application/vnd.jupyter.widget-view+json": {
              "version_major": 2,
              "version_minor": 0,
              "model_id": "01484e38727d486e8a27b45e5af58be4"
            }
          },
          "metadata": {}
        },
        {
          "output_type": "display_data",
          "data": {
            "text/plain": [
              "Downloading:   0%|          | 0.00/150 [00:00<?, ?B/s]"
            ],
            "application/vnd.jupyter.widget-view+json": {
              "version_major": 2,
              "version_minor": 0,
              "model_id": "cb5ca691a79d4b1fa70dec039a448c0d"
            }
          },
          "metadata": {}
        }
      ]
    },
    {
      "cell_type": "code",
      "source": [
        "specific_model(data)"
      ],
      "metadata": {
        "colab": {
          "base_uri": "https://localhost:8080/"
        },
        "id": "3LAJ57xJ82zn",
        "outputId": "fe42d729-952e-4088-b7be-9e0f59543e3b"
      },
      "execution_count": 19,
      "outputs": [
        {
          "output_type": "execute_result",
          "data": {
            "text/plain": [
              "[{'label': 'NEU', 'score': 0.7893244624137878}]"
            ]
          },
          "metadata": {},
          "execution_count": 19
        }
      ]
    },
    {
      "cell_type": "code",
      "source": [
        "# def get_sentiment(text):\n",
        "#   res = sentiment_pipeline(text)\n",
        "#   return res[0]['label']\n",
        "\n",
        "# def get_score(text):\n",
        "#   res = sentiment_pipeline(text)\n",
        "#   return res[0]['score']"
      ],
      "metadata": {
        "id": "RxZ8WKNO9Gjy"
      },
      "execution_count": null,
      "outputs": []
    },
    {
      "cell_type": "code",
      "source": [
        "tweets_df_cs['text']"
      ],
      "metadata": {
        "colab": {
          "base_uri": "https://localhost:8080/"
        },
        "id": "6b-VFh4UBGEY",
        "outputId": "b57ceb6f-48af-4937-955a-16ea91ab9ccd"
      },
      "execution_count": 20,
      "outputs": [
        {
          "output_type": "execute_result",
          "data": {
            "text/plain": [
              "0      A little good news. The Sumatran rhinoceros ar...\n",
              "1      A little good news. The Sumatran rhinoceros ar...\n",
              "2      A little good news. The Sumatran rhinoceros ar...\n",
              "3      Sumatran Rhinoceros has his smile camera ready...\n",
              "4      @burtonlim Hi Mr. Lim, I wanted to explore don...\n",
              "                             ...                        \n",
              "441    Another Sumatran elephant found dead, again by...\n",
              "442    I cannot believe it, that's the Sumatran Eleph...\n",
              "443    Sumatran #Elephants are rapidly disappearing, ...\n",
              "444    Sumatran Elephant: considered to be the smalle...\n",
              "445    There are 3 types of subspecies of Asian Eleph...\n",
              "Name: text, Length: 446, dtype: object"
            ]
          },
          "metadata": {},
          "execution_count": 20
        }
      ]
    },
    {
      "cell_type": "code",
      "source": [
        "tweets_df_cs[tweets_df_cs['total_len'] == 0]"
      ],
      "metadata": {
        "colab": {
          "base_uri": "https://localhost:8080/",
          "height": 49
        },
        "id": "Y5EPyNUNBcxx",
        "outputId": "5e16d3bd-0e33-4d7f-ab47-d0294940c41a"
      },
      "execution_count": 21,
      "outputs": [
        {
          "output_type": "execute_result",
          "data": {
            "text/plain": [
              "Empty DataFrame\n",
              "Columns: [Unnamed: 0, Unnamed: 0.1, user_name, user_description, user_location, user_verification, date, text, hashtags, source, retweets, preprocess_txt, total_len]\n",
              "Index: []"
            ],
            "text/html": [
              "\n",
              "  <div id=\"df-5895ef4d-3cf1-4c91-a0ca-f5729b2c9bb4\">\n",
              "    <div class=\"colab-df-container\">\n",
              "      <div>\n",
              "<style scoped>\n",
              "    .dataframe tbody tr th:only-of-type {\n",
              "        vertical-align: middle;\n",
              "    }\n",
              "\n",
              "    .dataframe tbody tr th {\n",
              "        vertical-align: top;\n",
              "    }\n",
              "\n",
              "    .dataframe thead th {\n",
              "        text-align: right;\n",
              "    }\n",
              "</style>\n",
              "<table border=\"1\" class=\"dataframe\">\n",
              "  <thead>\n",
              "    <tr style=\"text-align: right;\">\n",
              "      <th></th>\n",
              "      <th>Unnamed: 0</th>\n",
              "      <th>Unnamed: 0.1</th>\n",
              "      <th>user_name</th>\n",
              "      <th>user_description</th>\n",
              "      <th>user_location</th>\n",
              "      <th>user_verification</th>\n",
              "      <th>date</th>\n",
              "      <th>text</th>\n",
              "      <th>hashtags</th>\n",
              "      <th>source</th>\n",
              "      <th>retweets</th>\n",
              "      <th>preprocess_txt</th>\n",
              "      <th>total_len</th>\n",
              "    </tr>\n",
              "  </thead>\n",
              "  <tbody>\n",
              "  </tbody>\n",
              "</table>\n",
              "</div>\n",
              "      <button class=\"colab-df-convert\" onclick=\"convertToInteractive('df-5895ef4d-3cf1-4c91-a0ca-f5729b2c9bb4')\"\n",
              "              title=\"Convert this dataframe to an interactive table.\"\n",
              "              style=\"display:none;\">\n",
              "        \n",
              "  <svg xmlns=\"http://www.w3.org/2000/svg\" height=\"24px\"viewBox=\"0 0 24 24\"\n",
              "       width=\"24px\">\n",
              "    <path d=\"M0 0h24v24H0V0z\" fill=\"none\"/>\n",
              "    <path d=\"M18.56 5.44l.94 2.06.94-2.06 2.06-.94-2.06-.94-.94-2.06-.94 2.06-2.06.94zm-11 1L8.5 8.5l.94-2.06 2.06-.94-2.06-.94L8.5 2.5l-.94 2.06-2.06.94zm10 10l.94 2.06.94-2.06 2.06-.94-2.06-.94-.94-2.06-.94 2.06-2.06.94z\"/><path d=\"M17.41 7.96l-1.37-1.37c-.4-.4-.92-.59-1.43-.59-.52 0-1.04.2-1.43.59L10.3 9.45l-7.72 7.72c-.78.78-.78 2.05 0 2.83L4 21.41c.39.39.9.59 1.41.59.51 0 1.02-.2 1.41-.59l7.78-7.78 2.81-2.81c.8-.78.8-2.07 0-2.86zM5.41 20L4 18.59l7.72-7.72 1.47 1.35L5.41 20z\"/>\n",
              "  </svg>\n",
              "      </button>\n",
              "      \n",
              "  <style>\n",
              "    .colab-df-container {\n",
              "      display:flex;\n",
              "      flex-wrap:wrap;\n",
              "      gap: 12px;\n",
              "    }\n",
              "\n",
              "    .colab-df-convert {\n",
              "      background-color: #E8F0FE;\n",
              "      border: none;\n",
              "      border-radius: 50%;\n",
              "      cursor: pointer;\n",
              "      display: none;\n",
              "      fill: #1967D2;\n",
              "      height: 32px;\n",
              "      padding: 0 0 0 0;\n",
              "      width: 32px;\n",
              "    }\n",
              "\n",
              "    .colab-df-convert:hover {\n",
              "      background-color: #E2EBFA;\n",
              "      box-shadow: 0px 1px 2px rgba(60, 64, 67, 0.3), 0px 1px 3px 1px rgba(60, 64, 67, 0.15);\n",
              "      fill: #174EA6;\n",
              "    }\n",
              "\n",
              "    [theme=dark] .colab-df-convert {\n",
              "      background-color: #3B4455;\n",
              "      fill: #D2E3FC;\n",
              "    }\n",
              "\n",
              "    [theme=dark] .colab-df-convert:hover {\n",
              "      background-color: #434B5C;\n",
              "      box-shadow: 0px 1px 3px 1px rgba(0, 0, 0, 0.15);\n",
              "      filter: drop-shadow(0px 1px 2px rgba(0, 0, 0, 0.3));\n",
              "      fill: #FFFFFF;\n",
              "    }\n",
              "  </style>\n",
              "\n",
              "      <script>\n",
              "        const buttonEl =\n",
              "          document.querySelector('#df-5895ef4d-3cf1-4c91-a0ca-f5729b2c9bb4 button.colab-df-convert');\n",
              "        buttonEl.style.display =\n",
              "          google.colab.kernel.accessAllowed ? 'block' : 'none';\n",
              "\n",
              "        async function convertToInteractive(key) {\n",
              "          const element = document.querySelector('#df-5895ef4d-3cf1-4c91-a0ca-f5729b2c9bb4');\n",
              "          const dataTable =\n",
              "            await google.colab.kernel.invokeFunction('convertToInteractive',\n",
              "                                                     [key], {});\n",
              "          if (!dataTable) return;\n",
              "\n",
              "          const docLinkHtml = 'Like what you see? Visit the ' +\n",
              "            '<a target=\"_blank\" href=https://colab.research.google.com/notebooks/data_table.ipynb>data table notebook</a>'\n",
              "            + ' to learn more about interactive tables.';\n",
              "          element.innerHTML = '';\n",
              "          dataTable['output_type'] = 'display_data';\n",
              "          await google.colab.output.renderOutput(dataTable, element);\n",
              "          const docLink = document.createElement('div');\n",
              "          docLink.innerHTML = docLinkHtml;\n",
              "          element.appendChild(docLink);\n",
              "        }\n",
              "      </script>\n",
              "    </div>\n",
              "  </div>\n",
              "  "
            ]
          },
          "metadata": {},
          "execution_count": 21
        }
      ]
    },
    {
      "cell_type": "code",
      "source": [
        "def get_sentiment(text):\n",
        "  if text == None or len(text) <= 0:\n",
        "    return None\n",
        "  try:\n",
        "    res = specific_model(text)\n",
        "  except:\n",
        "    res = []\n",
        "  if len(res) > 0:\n",
        "    return res[0]['label']\n",
        "  return None\n",
        "\n",
        "def get_score(text):\n",
        "  if text == None or len(text) <= 0:\n",
        "    return None\n",
        "  try:\n",
        "    res = specific_model(text)\n",
        "  except:\n",
        "    res = []\n",
        "  if len(res) > 0:\n",
        "    return res[0]['score']\n",
        "  return None"
      ],
      "metadata": {
        "id": "99DfPwRb-hQV"
      },
      "execution_count": 22,
      "outputs": []
    },
    {
      "cell_type": "markdown",
      "source": [
        "##Crtically Endangered Species"
      ],
      "metadata": {
        "id": "2dse_eGZPOK1"
      }
    },
    {
      "cell_type": "code",
      "source": [
        "tweets_df_cs['sentiment'] = tweets_df_cs['text'].apply(lambda x: get_sentiment(x))\n",
        "\n"
      ],
      "metadata": {
        "colab": {
          "base_uri": "https://localhost:8080/"
        },
        "id": "qvdfHgQd_Eij",
        "outputId": "832fa1f2-4519-46c7-d044-9cd266d9c673"
      },
      "execution_count": 23,
      "outputs": [
        {
          "output_type": "stream",
          "name": "stderr",
          "text": [
            "Token indices sequence length is longer than the specified maximum sequence length for this model (136 > 128). Running this sequence through the model will result in indexing errors\n"
          ]
        }
      ]
    },
    {
      "cell_type": "code",
      "source": [
        "tweets_df_cs['score'] = tweets_df_cs['text'].apply(lambda x: get_score(x))"
      ],
      "metadata": {
        "id": "VKv0J0NnCphM"
      },
      "execution_count": 24,
      "outputs": []
    },
    {
      "cell_type": "code",
      "source": [
        "tweets_df_cs.head()"
      ],
      "metadata": {
        "colab": {
          "base_uri": "https://localhost:8080/",
          "height": 704
        },
        "id": "U57oqj9i_is-",
        "outputId": "76697819-af85-4df1-9562-4eda94a8ef33"
      },
      "execution_count": 25,
      "outputs": [
        {
          "output_type": "execute_result",
          "data": {
            "text/plain": [
              "   Unnamed: 0  Unnamed: 0.1             user_name  \\\n",
              "0           0             0            PanfilLera   \n",
              "1           1             1    GehlhausenLarhonda   \n",
              "2           2             2           Mike Hudema   \n",
              "3           3             3            OPH Rescue   \n",
              "4           4             4  Sudan the Rhino fans   \n",
              "\n",
              "                                    user_description  \\\n",
              "0                                                NaN   \n",
              "1                                                NaN   \n",
              "2  #Climate Campaigner focusing on addressing the...   \n",
              "3  OPH Rescue brings dogs and cats from overcrowd...   \n",
              "4  Sudan, the last male Northern White Rhino, is ...   \n",
              "\n",
              "                user_location  user_verification                 date  \\\n",
              "0                         NaN              False  2022-06-20 02:22:32   \n",
              "1                         NaN              False  2022-06-20 02:10:38   \n",
              "2  Unceded Squamish Territory               True  2022-06-17 23:32:03   \n",
              "3              VA, DC, MD, PA              False  2022-06-16 15:14:45   \n",
              "4                      Canada              False  2022-06-14 16:13:38   \n",
              "\n",
              "                                                text hashtags  \\\n",
              "0  A little good news. The Sumatran rhinoceros ar...      NaN   \n",
              "1  A little good news. The Sumatran rhinoceros ar...      NaN   \n",
              "2  A little good news. The Sumatran rhinoceros ar...      NaN   \n",
              "3  Sumatran Rhinoceros has his smile camera ready...      NaN   \n",
              "4  @burtonlim Hi Mr. Lim, I wanted to explore don...      NaN   \n",
              "\n",
              "             source  retweets  \\\n",
              "0   Twitter Web App         1   \n",
              "1   Twitter Web App         0   \n",
              "2            Buffer       279   \n",
              "3   Twitter Web App         4   \n",
              "4  Twitter for iPad         0   \n",
              "\n",
              "                                      preprocess_txt  total_len sentiment  \\\n",
              "0  ['little', 'good', 'news', 'sumatran', 'rhinoc...         26       NEU   \n",
              "1  ['little', 'good', 'news', 'sumatran', 'rhinoc...         26       NEU   \n",
              "2  ['little', 'good', 'news', 'sumatran', 'rhinoc...         30       NEU   \n",
              "3  ['sumatran', 'rhinoceros', 'smile', 'camera', ...         25       POS   \n",
              "4  ['burtonlim', 'hi', 'mr', 'lim', 'wanted', 'ex...         17       POS   \n",
              "\n",
              "      score  \n",
              "0  0.789324  \n",
              "1  0.789324  \n",
              "2  0.798859  \n",
              "3  0.983316  \n",
              "4  0.972695  "
            ],
            "text/html": [
              "\n",
              "  <div id=\"df-3438cdda-6b52-4831-9159-b8bcfeac7226\">\n",
              "    <div class=\"colab-df-container\">\n",
              "      <div>\n",
              "<style scoped>\n",
              "    .dataframe tbody tr th:only-of-type {\n",
              "        vertical-align: middle;\n",
              "    }\n",
              "\n",
              "    .dataframe tbody tr th {\n",
              "        vertical-align: top;\n",
              "    }\n",
              "\n",
              "    .dataframe thead th {\n",
              "        text-align: right;\n",
              "    }\n",
              "</style>\n",
              "<table border=\"1\" class=\"dataframe\">\n",
              "  <thead>\n",
              "    <tr style=\"text-align: right;\">\n",
              "      <th></th>\n",
              "      <th>Unnamed: 0</th>\n",
              "      <th>Unnamed: 0.1</th>\n",
              "      <th>user_name</th>\n",
              "      <th>user_description</th>\n",
              "      <th>user_location</th>\n",
              "      <th>user_verification</th>\n",
              "      <th>date</th>\n",
              "      <th>text</th>\n",
              "      <th>hashtags</th>\n",
              "      <th>source</th>\n",
              "      <th>retweets</th>\n",
              "      <th>preprocess_txt</th>\n",
              "      <th>total_len</th>\n",
              "      <th>sentiment</th>\n",
              "      <th>score</th>\n",
              "    </tr>\n",
              "  </thead>\n",
              "  <tbody>\n",
              "    <tr>\n",
              "      <th>0</th>\n",
              "      <td>0</td>\n",
              "      <td>0</td>\n",
              "      <td>PanfilLera</td>\n",
              "      <td>NaN</td>\n",
              "      <td>NaN</td>\n",
              "      <td>False</td>\n",
              "      <td>2022-06-20 02:22:32</td>\n",
              "      <td>A little good news. The Sumatran rhinoceros ar...</td>\n",
              "      <td>NaN</td>\n",
              "      <td>Twitter Web App</td>\n",
              "      <td>1</td>\n",
              "      <td>['little', 'good', 'news', 'sumatran', 'rhinoc...</td>\n",
              "      <td>26</td>\n",
              "      <td>NEU</td>\n",
              "      <td>0.789324</td>\n",
              "    </tr>\n",
              "    <tr>\n",
              "      <th>1</th>\n",
              "      <td>1</td>\n",
              "      <td>1</td>\n",
              "      <td>GehlhausenLarhonda</td>\n",
              "      <td>NaN</td>\n",
              "      <td>NaN</td>\n",
              "      <td>False</td>\n",
              "      <td>2022-06-20 02:10:38</td>\n",
              "      <td>A little good news. The Sumatran rhinoceros ar...</td>\n",
              "      <td>NaN</td>\n",
              "      <td>Twitter Web App</td>\n",
              "      <td>0</td>\n",
              "      <td>['little', 'good', 'news', 'sumatran', 'rhinoc...</td>\n",
              "      <td>26</td>\n",
              "      <td>NEU</td>\n",
              "      <td>0.789324</td>\n",
              "    </tr>\n",
              "    <tr>\n",
              "      <th>2</th>\n",
              "      <td>2</td>\n",
              "      <td>2</td>\n",
              "      <td>Mike Hudema</td>\n",
              "      <td>#Climate Campaigner focusing on addressing the...</td>\n",
              "      <td>Unceded Squamish Territory</td>\n",
              "      <td>True</td>\n",
              "      <td>2022-06-17 23:32:03</td>\n",
              "      <td>A little good news. The Sumatran rhinoceros ar...</td>\n",
              "      <td>NaN</td>\n",
              "      <td>Buffer</td>\n",
              "      <td>279</td>\n",
              "      <td>['little', 'good', 'news', 'sumatran', 'rhinoc...</td>\n",
              "      <td>30</td>\n",
              "      <td>NEU</td>\n",
              "      <td>0.798859</td>\n",
              "    </tr>\n",
              "    <tr>\n",
              "      <th>3</th>\n",
              "      <td>3</td>\n",
              "      <td>3</td>\n",
              "      <td>OPH Rescue</td>\n",
              "      <td>OPH Rescue brings dogs and cats from overcrowd...</td>\n",
              "      <td>VA, DC, MD, PA</td>\n",
              "      <td>False</td>\n",
              "      <td>2022-06-16 15:14:45</td>\n",
              "      <td>Sumatran Rhinoceros has his smile camera ready...</td>\n",
              "      <td>NaN</td>\n",
              "      <td>Twitter Web App</td>\n",
              "      <td>4</td>\n",
              "      <td>['sumatran', 'rhinoceros', 'smile', 'camera', ...</td>\n",
              "      <td>25</td>\n",
              "      <td>POS</td>\n",
              "      <td>0.983316</td>\n",
              "    </tr>\n",
              "    <tr>\n",
              "      <th>4</th>\n",
              "      <td>4</td>\n",
              "      <td>4</td>\n",
              "      <td>Sudan the Rhino fans</td>\n",
              "      <td>Sudan, the last male Northern White Rhino, is ...</td>\n",
              "      <td>Canada</td>\n",
              "      <td>False</td>\n",
              "      <td>2022-06-14 16:13:38</td>\n",
              "      <td>@burtonlim Hi Mr. Lim, I wanted to explore don...</td>\n",
              "      <td>NaN</td>\n",
              "      <td>Twitter for iPad</td>\n",
              "      <td>0</td>\n",
              "      <td>['burtonlim', 'hi', 'mr', 'lim', 'wanted', 'ex...</td>\n",
              "      <td>17</td>\n",
              "      <td>POS</td>\n",
              "      <td>0.972695</td>\n",
              "    </tr>\n",
              "  </tbody>\n",
              "</table>\n",
              "</div>\n",
              "      <button class=\"colab-df-convert\" onclick=\"convertToInteractive('df-3438cdda-6b52-4831-9159-b8bcfeac7226')\"\n",
              "              title=\"Convert this dataframe to an interactive table.\"\n",
              "              style=\"display:none;\">\n",
              "        \n",
              "  <svg xmlns=\"http://www.w3.org/2000/svg\" height=\"24px\"viewBox=\"0 0 24 24\"\n",
              "       width=\"24px\">\n",
              "    <path d=\"M0 0h24v24H0V0z\" fill=\"none\"/>\n",
              "    <path d=\"M18.56 5.44l.94 2.06.94-2.06 2.06-.94-2.06-.94-.94-2.06-.94 2.06-2.06.94zm-11 1L8.5 8.5l.94-2.06 2.06-.94-2.06-.94L8.5 2.5l-.94 2.06-2.06.94zm10 10l.94 2.06.94-2.06 2.06-.94-2.06-.94-.94-2.06-.94 2.06-2.06.94z\"/><path d=\"M17.41 7.96l-1.37-1.37c-.4-.4-.92-.59-1.43-.59-.52 0-1.04.2-1.43.59L10.3 9.45l-7.72 7.72c-.78.78-.78 2.05 0 2.83L4 21.41c.39.39.9.59 1.41.59.51 0 1.02-.2 1.41-.59l7.78-7.78 2.81-2.81c.8-.78.8-2.07 0-2.86zM5.41 20L4 18.59l7.72-7.72 1.47 1.35L5.41 20z\"/>\n",
              "  </svg>\n",
              "      </button>\n",
              "      \n",
              "  <style>\n",
              "    .colab-df-container {\n",
              "      display:flex;\n",
              "      flex-wrap:wrap;\n",
              "      gap: 12px;\n",
              "    }\n",
              "\n",
              "    .colab-df-convert {\n",
              "      background-color: #E8F0FE;\n",
              "      border: none;\n",
              "      border-radius: 50%;\n",
              "      cursor: pointer;\n",
              "      display: none;\n",
              "      fill: #1967D2;\n",
              "      height: 32px;\n",
              "      padding: 0 0 0 0;\n",
              "      width: 32px;\n",
              "    }\n",
              "\n",
              "    .colab-df-convert:hover {\n",
              "      background-color: #E2EBFA;\n",
              "      box-shadow: 0px 1px 2px rgba(60, 64, 67, 0.3), 0px 1px 3px 1px rgba(60, 64, 67, 0.15);\n",
              "      fill: #174EA6;\n",
              "    }\n",
              "\n",
              "    [theme=dark] .colab-df-convert {\n",
              "      background-color: #3B4455;\n",
              "      fill: #D2E3FC;\n",
              "    }\n",
              "\n",
              "    [theme=dark] .colab-df-convert:hover {\n",
              "      background-color: #434B5C;\n",
              "      box-shadow: 0px 1px 3px 1px rgba(0, 0, 0, 0.15);\n",
              "      filter: drop-shadow(0px 1px 2px rgba(0, 0, 0, 0.3));\n",
              "      fill: #FFFFFF;\n",
              "    }\n",
              "  </style>\n",
              "\n",
              "      <script>\n",
              "        const buttonEl =\n",
              "          document.querySelector('#df-3438cdda-6b52-4831-9159-b8bcfeac7226 button.colab-df-convert');\n",
              "        buttonEl.style.display =\n",
              "          google.colab.kernel.accessAllowed ? 'block' : 'none';\n",
              "\n",
              "        async function convertToInteractive(key) {\n",
              "          const element = document.querySelector('#df-3438cdda-6b52-4831-9159-b8bcfeac7226');\n",
              "          const dataTable =\n",
              "            await google.colab.kernel.invokeFunction('convertToInteractive',\n",
              "                                                     [key], {});\n",
              "          if (!dataTable) return;\n",
              "\n",
              "          const docLinkHtml = 'Like what you see? Visit the ' +\n",
              "            '<a target=\"_blank\" href=https://colab.research.google.com/notebooks/data_table.ipynb>data table notebook</a>'\n",
              "            + ' to learn more about interactive tables.';\n",
              "          element.innerHTML = '';\n",
              "          dataTable['output_type'] = 'display_data';\n",
              "          await google.colab.output.renderOutput(dataTable, element);\n",
              "          const docLink = document.createElement('div');\n",
              "          docLink.innerHTML = docLinkHtml;\n",
              "          element.appendChild(docLink);\n",
              "        }\n",
              "      </script>\n",
              "    </div>\n",
              "  </div>\n",
              "  "
            ]
          },
          "metadata": {},
          "execution_count": 25
        }
      ]
    },
    {
      "cell_type": "code",
      "source": [
        "tweets_df_cs['sentiment'].value_counts()"
      ],
      "metadata": {
        "colab": {
          "base_uri": "https://localhost:8080/"
        },
        "id": "ZNzWKLy0JZ_k",
        "outputId": "9a2241a5-263e-4888-f0e5-4274a9fb425c"
      },
      "execution_count": 26,
      "outputs": [
        {
          "output_type": "execute_result",
          "data": {
            "text/plain": [
              "NEU    199\n",
              "POS    133\n",
              "NEG    110\n",
              "Name: sentiment, dtype: int64"
            ]
          },
          "metadata": {},
          "execution_count": 26
        }
      ]
    },
    {
      "cell_type": "code",
      "source": [
        "tweets_df_cs['score'].hist()"
      ],
      "metadata": {
        "colab": {
          "base_uri": "https://localhost:8080/",
          "height": 282
        },
        "id": "93G6JBj6MszA",
        "outputId": "ddd4bbf0-7ffc-4d5d-e858-c523c20452a6"
      },
      "execution_count": 27,
      "outputs": [
        {
          "output_type": "execute_result",
          "data": {
            "text/plain": [
              "<matplotlib.axes._subplots.AxesSubplot at 0x7f6e42a8c190>"
            ]
          },
          "metadata": {},
          "execution_count": 27
        },
        {
          "output_type": "display_data",
          "data": {
            "text/plain": [
              "<Figure size 432x288 with 1 Axes>"
            ],
            "image/png": "[encoded data removed]"
          },
          "metadata": {
            "needs_background": "light"
          }
        }
      ]
    },
    {
      "cell_type": "markdown",
      "source": [
        "##Possibly Extinct Species"
      ],
      "metadata": {
        "id": "2ewAjR_5QDRX"
      }
    },
    {
      "cell_type": "code",
      "source": [
        "tweets_df_ps['sentiment'] = tweets_df_ps['text'].apply(lambda x: get_sentiment(x))"
      ],
      "metadata": {
        "id": "yWVw_JKvQIyG"
      },
      "execution_count": 28,
      "outputs": []
    },
    {
      "cell_type": "code",
      "source": [
        "tweets_df_ps['score'] = tweets_df_ps['text'].apply(lambda x: get_score(x))"
      ],
      "metadata": {
        "id": "UHVPcPMvQRqn"
      },
      "execution_count": 29,
      "outputs": []
    },
    {
      "cell_type": "code",
      "source": [
        "tweets_df_ps.head()"
      ],
      "metadata": {
        "colab": {
          "base_uri": "https://localhost:8080/",
          "height": 548
        },
        "id": "h835TqVzQX-F",
        "outputId": "03223c16-b6bb-4261-f7ae-70c3aeae83f8"
      },
      "execution_count": 30,
      "outputs": [
        {
          "output_type": "execute_result",
          "data": {
            "text/plain": [
              "   Unnamed: 0  Unnamed: 0.1           user_name  \\\n",
              "0           0             0       JustinBonanza   \n",
              "1           1             1       Makio Gaminor   \n",
              "2           2             2        Grimm Nevada   \n",
              "3           3             3  Scientific Reports   \n",
              "4           4             4           Automated   \n",
              "\n",
              "                                    user_description  \\\n",
              "0  random mash-up of @justinbieber @jtimberlake @...   \n",
              "1  Artist / Conservationist  🥑 I make art about t...   \n",
              "2  Conservative, writer, artist, Common sense per...   \n",
              "3  Online & #openaccess. A primary research publi...   \n",
              "4   Just a twitter bot who tweets a  𝓐𝓾𝓽𝓸𝓶𝓪𝓽𝓮𝓭 tweet   \n",
              "\n",
              "                user_location  user_verification                 date  \\\n",
              "0                         NaN              False  2022-06-23 03:26:34   \n",
              "1  A place with a nice breeze              False  2022-06-20 03:28:08   \n",
              "2                         NaN              False  2022-06-20 01:52:37   \n",
              "3                      London               True  2022-06-16 11:35:48   \n",
              "4                   Automated              False  2022-06-23 09:13:24   \n",
              "\n",
              "                                                text hashtags  \\\n",
              "0  Syria made history launching Does Northern whi...      NaN   \n",
              "1  The northern white rhinoceros is on the verge ...      NaN   \n",
              "2  Here we see a touching photo of a male norther...      NaN   \n",
              "3  In their elegant study, @DrukkerMicha, Sebasti...      NaN   \n",
              "4  A Kouprey is never depressed , unless it is a ...      NaN   \n",
              "\n",
              "                    source  retweets  \\\n",
              "0                  avmtest         0   \n",
              "1          Twitter Web App         2   \n",
              "2          Twitter Web App         0   \n",
              "3          Twitter Web App         0   \n",
              "4  Cheap Bots, Done Quick!         0   \n",
              "\n",
              "                                      preprocess_txt  total_len sentiment  \\\n",
              "0  ['syria', 'made', 'history', 'launching', 'nor...          7       NEU   \n",
              "1  ['northern', 'white', 'rhinoceros', 'verge', '...         25       NEG   \n",
              "2  ['see', 'touching', 'photo', 'male', 'northern...         27       NEU   \n",
              "3  ['elegant', 'study', 'drukkermicha', 'sebastia...         26       POS   \n",
              "4  ['kouprey', 'never', 'depressed', 'unless', 'r...          6       NEU   \n",
              "\n",
              "      score  \n",
              "0  0.742124  \n",
              "1  0.929749  \n",
              "2  0.805733  \n",
              "3  0.844703  \n",
              "4  0.805822  "
            ],
            "text/html": [
              "\n",
              "  <div id=\"df-1a7b3573-72b6-441d-a023-784e86b1e373\">\n",
              "    <div class=\"colab-df-container\">\n",
              "      <div>\n",
              "<style scoped>\n",
              "    .dataframe tbody tr th:only-of-type {\n",
              "        vertical-align: middle;\n",
              "    }\n",
              "\n",
              "    .dataframe tbody tr th {\n",
              "        vertical-align: top;\n",
              "    }\n",
              "\n",
              "    .dataframe thead th {\n",
              "        text-align: right;\n",
              "    }\n",
              "</style>\n",
              "<table border=\"1\" class=\"dataframe\">\n",
              "  <thead>\n",
              "    <tr style=\"text-align: right;\">\n",
              "      <th></th>\n",
              "      <th>Unnamed: 0</th>\n",
              "      <th>Unnamed: 0.1</th>\n",
              "      <th>user_name</th>\n",
              "      <th>user_description</th>\n",
              "      <th>user_location</th>\n",
              "      <th>user_verification</th>\n",
              "      <th>date</th>\n",
              "      <th>text</th>\n",
              "      <th>hashtags</th>\n",
              "      <th>source</th>\n",
              "      <th>retweets</th>\n",
              "      <th>preprocess_txt</th>\n",
              "      <th>total_len</th>\n",
              "      <th>sentiment</th>\n",
              "      <th>score</th>\n",
              "    </tr>\n",
              "  </thead>\n",
              "  <tbody>\n",
              "    <tr>\n",
              "      <th>0</th>\n",
              "      <td>0</td>\n",
              "      <td>0</td>\n",
              "      <td>JustinBonanza</td>\n",
              "      <td>random mash-up of @justinbieber @jtimberlake @...</td>\n",
              "      <td>NaN</td>\n",
              "      <td>False</td>\n",
              "      <td>2022-06-23 03:26:34</td>\n",
              "      <td>Syria made history launching Does Northern whi...</td>\n",
              "      <td>NaN</td>\n",
              "      <td>avmtest</td>\n",
              "      <td>0</td>\n",
              "      <td>['syria', 'made', 'history', 'launching', 'nor...</td>\n",
              "      <td>7</td>\n",
              "      <td>NEU</td>\n",
              "      <td>0.742124</td>\n",
              "    </tr>\n",
              "    <tr>\n",
              "      <th>1</th>\n",
              "      <td>1</td>\n",
              "      <td>1</td>\n",
              "      <td>Makio Gaminor</td>\n",
              "      <td>Artist / Conservationist  🥑 I make art about t...</td>\n",
              "      <td>A place with a nice breeze</td>\n",
              "      <td>False</td>\n",
              "      <td>2022-06-20 03:28:08</td>\n",
              "      <td>The northern white rhinoceros is on the verge ...</td>\n",
              "      <td>NaN</td>\n",
              "      <td>Twitter Web App</td>\n",
              "      <td>2</td>\n",
              "      <td>['northern', 'white', 'rhinoceros', 'verge', '...</td>\n",
              "      <td>25</td>\n",
              "      <td>NEG</td>\n",
              "      <td>0.929749</td>\n",
              "    </tr>\n",
              "    <tr>\n",
              "      <th>2</th>\n",
              "      <td>2</td>\n",
              "      <td>2</td>\n",
              "      <td>Grimm Nevada</td>\n",
              "      <td>Conservative, writer, artist, Common sense per...</td>\n",
              "      <td>NaN</td>\n",
              "      <td>False</td>\n",
              "      <td>2022-06-20 01:52:37</td>\n",
              "      <td>Here we see a touching photo of a male norther...</td>\n",
              "      <td>NaN</td>\n",
              "      <td>Twitter Web App</td>\n",
              "      <td>0</td>\n",
              "      <td>['see', 'touching', 'photo', 'male', 'northern...</td>\n",
              "      <td>27</td>\n",
              "      <td>NEU</td>\n",
              "      <td>0.805733</td>\n",
              "    </tr>\n",
              "    <tr>\n",
              "      <th>3</th>\n",
              "      <td>3</td>\n",
              "      <td>3</td>\n",
              "      <td>Scientific Reports</td>\n",
              "      <td>Online &amp; #openaccess. A primary research publi...</td>\n",
              "      <td>London</td>\n",
              "      <td>True</td>\n",
              "      <td>2022-06-16 11:35:48</td>\n",
              "      <td>In their elegant study, @DrukkerMicha, Sebasti...</td>\n",
              "      <td>NaN</td>\n",
              "      <td>Twitter Web App</td>\n",
              "      <td>0</td>\n",
              "      <td>['elegant', 'study', 'drukkermicha', 'sebastia...</td>\n",
              "      <td>26</td>\n",
              "      <td>POS</td>\n",
              "      <td>0.844703</td>\n",
              "    </tr>\n",
              "    <tr>\n",
              "      <th>4</th>\n",
              "      <td>4</td>\n",
              "      <td>4</td>\n",
              "      <td>Automated</td>\n",
              "      <td>Just a twitter bot who tweets a  𝓐𝓾𝓽𝓸𝓶𝓪𝓽𝓮𝓭 tweet</td>\n",
              "      <td>Automated</td>\n",
              "      <td>False</td>\n",
              "      <td>2022-06-23 09:13:24</td>\n",
              "      <td>A Kouprey is never depressed , unless it is a ...</td>\n",
              "      <td>NaN</td>\n",
              "      <td>Cheap Bots, Done Quick!</td>\n",
              "      <td>0</td>\n",
              "      <td>['kouprey', 'never', 'depressed', 'unless', 'r...</td>\n",
              "      <td>6</td>\n",
              "      <td>NEU</td>\n",
              "      <td>0.805822</td>\n",
              "    </tr>\n",
              "  </tbody>\n",
              "</table>\n",
              "</div>\n",
              "      <button class=\"colab-df-convert\" onclick=\"convertToInteractive('df-1a7b3573-72b6-441d-a023-784e86b1e373')\"\n",
              "              title=\"Convert this dataframe to an interactive table.\"\n",
              "              style=\"display:none;\">\n",
              "        \n",
              "  <svg xmlns=\"http://www.w3.org/2000/svg\" height=\"24px\"viewBox=\"0 0 24 24\"\n",
              "       width=\"24px\">\n",
              "    <path d=\"M0 0h24v24H0V0z\" fill=\"none\"/>\n",
              "    <path d=\"M18.56 5.44l.94 2.06.94-2.06 2.06-.94-2.06-.94-.94-2.06-.94 2.06-2.06.94zm-11 1L8.5 8.5l.94-2.06 2.06-.94-2.06-.94L8.5 2.5l-.94 2.06-2.06.94zm10 10l.94 2.06.94-2.06 2.06-.94-2.06-.94-.94-2.06-.94 2.06-2.06.94z\"/><path d=\"M17.41 7.96l-1.37-1.37c-.4-.4-.92-.59-1.43-.59-.52 0-1.04.2-1.43.59L10.3 9.45l-7.72 7.72c-.78.78-.78 2.05 0 2.83L4 21.41c.39.39.9.59 1.41.59.51 0 1.02-.2 1.41-.59l7.78-7.78 2.81-2.81c.8-.78.8-2.07 0-2.86zM5.41 20L4 18.59l7.72-7.72 1.47 1.35L5.41 20z\"/>\n",
              "  </svg>\n",
              "      </button>\n",
              "      \n",
              "  <style>\n",
              "    .colab-df-container {\n",
              "      display:flex;\n",
              "      flex-wrap:wrap;\n",
              "      gap: 12px;\n",
              "    }\n",
              "\n",
              "    .colab-df-convert {\n",
              "      background-color: #E8F0FE;\n",
              "      border: none;\n",
              "      border-radius: 50%;\n",
              "      cursor: pointer;\n",
              "      display: none;\n",
              "      fill: #1967D2;\n",
              "      height: 32px;\n",
              "      padding: 0 0 0 0;\n",
              "      width: 32px;\n",
              "    }\n",
              "\n",
              "    .colab-df-convert:hover {\n",
              "      background-color: #E2EBFA;\n",
              "      box-shadow: 0px 1px 2px rgba(60, 64, 67, 0.3), 0px 1px 3px 1px rgba(60, 64, 67, 0.15);\n",
              "      fill: #174EA6;\n",
              "    }\n",
              "\n",
              "    [theme=dark] .colab-df-convert {\n",
              "      background-color: #3B4455;\n",
              "      fill: #D2E3FC;\n",
              "    }\n",
              "\n",
              "    [theme=dark] .colab-df-convert:hover {\n",
              "      background-color: #434B5C;\n",
              "      box-shadow: 0px 1px 3px 1px rgba(0, 0, 0, 0.15);\n",
              "      filter: drop-shadow(0px 1px 2px rgba(0, 0, 0, 0.3));\n",
              "      fill: #FFFFFF;\n",
              "    }\n",
              "  </style>\n",
              "\n",
              "      <script>\n",
              "        const buttonEl =\n",
              "          document.querySelector('#df-1a7b3573-72b6-441d-a023-784e86b1e373 button.colab-df-convert');\n",
              "        buttonEl.style.display =\n",
              "          google.colab.kernel.accessAllowed ? 'block' : 'none';\n",
              "\n",
              "        async function convertToInteractive(key) {\n",
              "          const element = document.querySelector('#df-1a7b3573-72b6-441d-a023-784e86b1e373');\n",
              "          const dataTable =\n",
              "            await google.colab.kernel.invokeFunction('convertToInteractive',\n",
              "                                                     [key], {});\n",
              "          if (!dataTable) return;\n",
              "\n",
              "          const docLinkHtml = 'Like what you see? Visit the ' +\n",
              "            '<a target=\"_blank\" href=https://colab.research.google.com/notebooks/data_table.ipynb>data table notebook</a>'\n",
              "            + ' to learn more about interactive tables.';\n",
              "          element.innerHTML = '';\n",
              "          dataTable['output_type'] = 'display_data';\n",
              "          await google.colab.output.renderOutput(dataTable, element);\n",
              "          const docLink = document.createElement('div');\n",
              "          docLink.innerHTML = docLinkHtml;\n",
              "          element.appendChild(docLink);\n",
              "        }\n",
              "      </script>\n",
              "    </div>\n",
              "  </div>\n",
              "  "
            ]
          },
          "metadata": {},
          "execution_count": 30
        }
      ]
    },
    {
      "cell_type": "code",
      "source": [
        "tweets_df_ps['sentiment'].value_counts()"
      ],
      "metadata": {
        "colab": {
          "base_uri": "https://localhost:8080/"
        },
        "id": "tFUWjvVwQYz9",
        "outputId": "742970ff-94c0-4cff-c25a-823df425578a"
      },
      "execution_count": 31,
      "outputs": [
        {
          "output_type": "execute_result",
          "data": {
            "text/plain": [
              "NEU    24\n",
              "NEG    12\n",
              "POS     6\n",
              "Name: sentiment, dtype: int64"
            ]
          },
          "metadata": {},
          "execution_count": 31
        }
      ]
    },
    {
      "cell_type": "code",
      "source": [
        "tweets_df_ps['score'].hist()"
      ],
      "metadata": {
        "colab": {
          "base_uri": "https://localhost:8080/",
          "height": 282
        },
        "id": "4UfpfaSOQbpG",
        "outputId": "e1346f19-bc6d-42b0-f54d-c832c6443804"
      },
      "execution_count": 32,
      "outputs": [
        {
          "output_type": "execute_result",
          "data": {
            "text/plain": [
              "<matplotlib.axes._subplots.AxesSubplot at 0x7f6e42370550>"
            ]
          },
          "metadata": {},
          "execution_count": 32
        },
        {
          "output_type": "display_data",
          "data": {
            "text/plain": [
              "<Figure size 432x288 with 1 Axes>"
            ],
            "image/png": "[encoded data removed]"
          },
          "metadata": {
            "needs_background": "light"
          }
        }
      ]
    },
    {
      "cell_type": "markdown",
      "source": [
        "##Vulnerable Species"
      ],
      "metadata": {
        "id": "U3ADLDXkQJeL"
      }
    },
    {
      "cell_type": "code",
      "source": [
        "tweets_df_vs['sentiment'] = tweets_df_vs['text'].apply(lambda x: get_sentiment(x))"
      ],
      "metadata": {
        "id": "IH_Vwy-iQMuM"
      },
      "execution_count": 33,
      "outputs": []
    },
    {
      "cell_type": "code",
      "source": [
        "tweets_df_vs['score'] = tweets_df_vs['text'].apply(lambda x: get_score(x))"
      ],
      "metadata": {
        "id": "3V1oxNFwQsHx"
      },
      "execution_count": 34,
      "outputs": []
    },
    {
      "cell_type": "code",
      "source": [
        "tweets_df_vs.head()"
      ],
      "metadata": {
        "colab": {
          "base_uri": "https://localhost:8080/",
          "height": 548
        },
        "id": "Br9z54p_Qrzv",
        "outputId": "8e2468aa-892c-4b4f-b978-5a3860058116"
      },
      "execution_count": 35,
      "outputs": [
        {
          "output_type": "execute_result",
          "data": {
            "text/plain": [
              "   Unnamed: 0  Unnamed: 0.1                                    user_name  \\\n",
              "0           0             0                 Not The Krookodile Hunter 🇲🇽   \n",
              "1           1             1                             Saravanakumar CS   \n",
              "2           2             2  The Left isn't divided the center is 🐌🍄🐙🦔😷🐌   \n",
              "3           3             3                           Phillip Templo Jr.   \n",
              "4           4             4                                       RENO🐊🐊   \n",
              "\n",
              "                                    user_description  \\\n",
              "0  Hola seguidores.  Estoy de incognita para que ...   \n",
              "1                                                NaN   \n",
              "2  Lennonist dreamer, peacenik. Snark and sarcasm...   \n",
              "3  Pathology Residency Program Director @ https:/...   \n",
              "4                    no way….he just ate my hair :3c   \n",
              "\n",
              "                  user_location  user_verification                 date  \\\n",
              "0                  Richmond, CA              False  2022-06-22 10:48:30   \n",
              "1                           NaN              False  2022-06-18 09:08:30   \n",
              "2                            🐢🏝              False  2022-06-17 12:56:51   \n",
              "3  Manila: All views are my OWN              False  2022-06-23 17:23:47   \n",
              "4               Your moms house              False  2022-06-23 16:16:45   \n",
              "\n",
              "                                                text hashtags  \\\n",
              "0  @HarpyGoth Brad the Roseate Skimmer\\nRyder the...      NaN   \n",
              "1  @save_pangolin @Vikash_BR @UtkarshSingh_ fucki...      NaN   \n",
              "2  If there’s anyone around in 2622 maybe they’ll...      NaN   \n",
              "3  @pripri_gosakto If they tell you once again na...      NaN   \n",
              "4  @fizzygoop Well sucks to suck dugong I have a ...      NaN   \n",
              "\n",
              "                source  retweets  \\\n",
              "0  Twitter for Android         0   \n",
              "1  Twitter for Android         0   \n",
              "2   Twitter for iPhone         0   \n",
              "3      Twitter Web App         0   \n",
              "4   Twitter for iPhone         0   \n",
              "\n",
              "                                      preprocess_txt  total_len sentiment  \\\n",
              "0  ['harpygoth', 'brad', 'roseate', 'skimmer', 'r...         19       NEU   \n",
              "1  ['save', 'pangolin', 'vikash', 'br', 'utkarshs...         25       NEG   \n",
              "2  ['anyone', 'around', 'maybe', 'settle', 'pango...         18       NEU   \n",
              "3  ['pripri', 'gosakto', 'tell', 'na', 'may', 'du...         14       NEU   \n",
              "4  ['fizzygoop', 'well', 'suck', 'suck', 'dugong'...          7       NEG   \n",
              "\n",
              "      score  \n",
              "0  0.969914  \n",
              "1  0.904970  \n",
              "2  0.959061  \n",
              "3  0.953883  \n",
              "4  0.976291  "
            ],
            "text/html": [
              "\n",
              "  <div id=\"df-0d231849-1367-4b9e-a111-47f0e1d1353a\">\n",
              "    <div class=\"colab-df-container\">\n",
              "      <div>\n",
              "<style scoped>\n",
              "    .dataframe tbody tr th:only-of-type {\n",
              "        vertical-align: middle;\n",
              "    }\n",
              "\n",
              "    .dataframe tbody tr th {\n",
              "        vertical-align: top;\n",
              "    }\n",
              "\n",
              "    .dataframe thead th {\n",
              "        text-align: right;\n",
              "    }\n",
              "</style>\n",
              "<table border=\"1\" class=\"dataframe\">\n",
              "  <thead>\n",
              "    <tr style=\"text-align: right;\">\n",
              "      <th></th>\n",
              "      <th>Unnamed: 0</th>\n",
              "      <th>Unnamed: 0.1</th>\n",
              "      <th>user_name</th>\n",
              "      <th>user_description</th>\n",
              "      <th>user_location</th>\n",
              "      <th>user_verification</th>\n",
              "      <th>date</th>\n",
              "      <th>text</th>\n",
              "      <th>hashtags</th>\n",
              "      <th>source</th>\n",
              "      <th>retweets</th>\n",
              "      <th>preprocess_txt</th>\n",
              "      <th>total_len</th>\n",
              "      <th>sentiment</th>\n",
              "      <th>score</th>\n",
              "    </tr>\n",
              "  </thead>\n",
              "  <tbody>\n",
              "    <tr>\n",
              "      <th>0</th>\n",
              "      <td>0</td>\n",
              "      <td>0</td>\n",
              "      <td>Not The Krookodile Hunter 🇲🇽</td>\n",
              "      <td>Hola seguidores.  Estoy de incognita para que ...</td>\n",
              "      <td>Richmond, CA</td>\n",
              "      <td>False</td>\n",
              "      <td>2022-06-22 10:48:30</td>\n",
              "      <td>@HarpyGoth Brad the Roseate Skimmer\\nRyder the...</td>\n",
              "      <td>NaN</td>\n",
              "      <td>Twitter for Android</td>\n",
              "      <td>0</td>\n",
              "      <td>['harpygoth', 'brad', 'roseate', 'skimmer', 'r...</td>\n",
              "      <td>19</td>\n",
              "      <td>NEU</td>\n",
              "      <td>0.969914</td>\n",
              "    </tr>\n",
              "    <tr>\n",
              "      <th>1</th>\n",
              "      <td>1</td>\n",
              "      <td>1</td>\n",
              "      <td>Saravanakumar CS</td>\n",
              "      <td>NaN</td>\n",
              "      <td>NaN</td>\n",
              "      <td>False</td>\n",
              "      <td>2022-06-18 09:08:30</td>\n",
              "      <td>@save_pangolin @Vikash_BR @UtkarshSingh_ fucki...</td>\n",
              "      <td>NaN</td>\n",
              "      <td>Twitter for Android</td>\n",
              "      <td>0</td>\n",
              "      <td>['save', 'pangolin', 'vikash', 'br', 'utkarshs...</td>\n",
              "      <td>25</td>\n",
              "      <td>NEG</td>\n",
              "      <td>0.904970</td>\n",
              "    </tr>\n",
              "    <tr>\n",
              "      <th>2</th>\n",
              "      <td>2</td>\n",
              "      <td>2</td>\n",
              "      <td>The Left isn't divided the center is 🐌🍄🐙🦔😷🐌</td>\n",
              "      <td>Lennonist dreamer, peacenik. Snark and sarcasm...</td>\n",
              "      <td>🐢🏝</td>\n",
              "      <td>False</td>\n",
              "      <td>2022-06-17 12:56:51</td>\n",
              "      <td>If there’s anyone around in 2622 maybe they’ll...</td>\n",
              "      <td>NaN</td>\n",
              "      <td>Twitter for iPhone</td>\n",
              "      <td>0</td>\n",
              "      <td>['anyone', 'around', 'maybe', 'settle', 'pango...</td>\n",
              "      <td>18</td>\n",
              "      <td>NEU</td>\n",
              "      <td>0.959061</td>\n",
              "    </tr>\n",
              "    <tr>\n",
              "      <th>3</th>\n",
              "      <td>3</td>\n",
              "      <td>3</td>\n",
              "      <td>Phillip Templo Jr.</td>\n",
              "      <td>Pathology Residency Program Director @ https:/...</td>\n",
              "      <td>Manila: All views are my OWN</td>\n",
              "      <td>False</td>\n",
              "      <td>2022-06-23 17:23:47</td>\n",
              "      <td>@pripri_gosakto If they tell you once again na...</td>\n",
              "      <td>NaN</td>\n",
              "      <td>Twitter Web App</td>\n",
              "      <td>0</td>\n",
              "      <td>['pripri', 'gosakto', 'tell', 'na', 'may', 'du...</td>\n",
              "      <td>14</td>\n",
              "      <td>NEU</td>\n",
              "      <td>0.953883</td>\n",
              "    </tr>\n",
              "    <tr>\n",
              "      <th>4</th>\n",
              "      <td>4</td>\n",
              "      <td>4</td>\n",
              "      <td>RENO🐊🐊</td>\n",
              "      <td>no way….he just ate my hair :3c</td>\n",
              "      <td>Your moms house</td>\n",
              "      <td>False</td>\n",
              "      <td>2022-06-23 16:16:45</td>\n",
              "      <td>@fizzygoop Well sucks to suck dugong I have a ...</td>\n",
              "      <td>NaN</td>\n",
              "      <td>Twitter for iPhone</td>\n",
              "      <td>0</td>\n",
              "      <td>['fizzygoop', 'well', 'suck', 'suck', 'dugong'...</td>\n",
              "      <td>7</td>\n",
              "      <td>NEG</td>\n",
              "      <td>0.976291</td>\n",
              "    </tr>\n",
              "  </tbody>\n",
              "</table>\n",
              "</div>\n",
              "      <button class=\"colab-df-convert\" onclick=\"convertToInteractive('df-0d231849-1367-4b9e-a111-47f0e1d1353a')\"\n",
              "              title=\"Convert this dataframe to an interactive table.\"\n",
              "              style=\"display:none;\">\n",
              "        \n",
              "  <svg xmlns=\"http://www.w3.org/2000/svg\" height=\"24px\"viewBox=\"0 0 24 24\"\n",
              "       width=\"24px\">\n",
              "    <path d=\"M0 0h24v24H0V0z\" fill=\"none\"/>\n",
              "    <path d=\"M18.56 5.44l.94 2.06.94-2.06 2.06-.94-2.06-.94-.94-2.06-.94 2.06-2.06.94zm-11 1L8.5 8.5l.94-2.06 2.06-.94-2.06-.94L8.5 2.5l-.94 2.06-2.06.94zm10 10l.94 2.06.94-2.06 2.06-.94-2.06-.94-.94-2.06-.94 2.06-2.06.94z\"/><path d=\"M17.41 7.96l-1.37-1.37c-.4-.4-.92-.59-1.43-.59-.52 0-1.04.2-1.43.59L10.3 9.45l-7.72 7.72c-.78.78-.78 2.05 0 2.83L4 21.41c.39.39.9.59 1.41.59.51 0 1.02-.2 1.41-.59l7.78-7.78 2.81-2.81c.8-.78.8-2.07 0-2.86zM5.41 20L4 18.59l7.72-7.72 1.47 1.35L5.41 20z\"/>\n",
              "  </svg>\n",
              "      </button>\n",
              "      \n",
              "  <style>\n",
              "    .colab-df-container {\n",
              "      display:flex;\n",
              "      flex-wrap:wrap;\n",
              "      gap: 12px;\n",
              "    }\n",
              "\n",
              "    .colab-df-convert {\n",
              "      background-color: #E8F0FE;\n",
              "      border: none;\n",
              "      border-radius: 50%;\n",
              "      cursor: pointer;\n",
              "      display: none;\n",
              "      fill: #1967D2;\n",
              "      height: 32px;\n",
              "      padding: 0 0 0 0;\n",
              "      width: 32px;\n",
              "    }\n",
              "\n",
              "    .colab-df-convert:hover {\n",
              "      background-color: #E2EBFA;\n",
              "      box-shadow: 0px 1px 2px rgba(60, 64, 67, 0.3), 0px 1px 3px 1px rgba(60, 64, 67, 0.15);\n",
              "      fill: #174EA6;\n",
              "    }\n",
              "\n",
              "    [theme=dark] .colab-df-convert {\n",
              "      background-color: #3B4455;\n",
              "      fill: #D2E3FC;\n",
              "    }\n",
              "\n",
              "    [theme=dark] .colab-df-convert:hover {\n",
              "      background-color: #434B5C;\n",
              "      box-shadow: 0px 1px 3px 1px rgba(0, 0, 0, 0.15);\n",
              "      filter: drop-shadow(0px 1px 2px rgba(0, 0, 0, 0.3));\n",
              "      fill: #FFFFFF;\n",
              "    }\n",
              "  </style>\n",
              "\n",
              "      <script>\n",
              "        const buttonEl =\n",
              "          document.querySelector('#df-0d231849-1367-4b9e-a111-47f0e1d1353a button.colab-df-convert');\n",
              "        buttonEl.style.display =\n",
              "          google.colab.kernel.accessAllowed ? 'block' : 'none';\n",
              "\n",
              "        async function convertToInteractive(key) {\n",
              "          const element = document.querySelector('#df-0d231849-1367-4b9e-a111-47f0e1d1353a');\n",
              "          const dataTable =\n",
              "            await google.colab.kernel.invokeFunction('convertToInteractive',\n",
              "                                                     [key], {});\n",
              "          if (!dataTable) return;\n",
              "\n",
              "          const docLinkHtml = 'Like what you see? Visit the ' +\n",
              "            '<a target=\"_blank\" href=https://colab.research.google.com/notebooks/data_table.ipynb>data table notebook</a>'\n",
              "            + ' to learn more about interactive tables.';\n",
              "          element.innerHTML = '';\n",
              "          dataTable['output_type'] = 'display_data';\n",
              "          await google.colab.output.renderOutput(dataTable, element);\n",
              "          const docLink = document.createElement('div');\n",
              "          docLink.innerHTML = docLinkHtml;\n",
              "          element.appendChild(docLink);\n",
              "        }\n",
              "      </script>\n",
              "    </div>\n",
              "  </div>\n",
              "  "
            ]
          },
          "metadata": {},
          "execution_count": 35
        }
      ]
    },
    {
      "cell_type": "code",
      "source": [
        "tweets_df_vs['sentiment'].value_counts()"
      ],
      "metadata": {
        "colab": {
          "base_uri": "https://localhost:8080/"
        },
        "id": "6_ZLeoxQQruU",
        "outputId": "cca58cfd-abbd-420e-e8d2-1746f731769f"
      },
      "execution_count": 36,
      "outputs": [
        {
          "output_type": "execute_result",
          "data": {
            "text/plain": [
              "NEU    507\n",
              "POS    189\n",
              "NEG    140\n",
              "Name: sentiment, dtype: int64"
            ]
          },
          "metadata": {},
          "execution_count": 36
        }
      ]
    },
    {
      "cell_type": "code",
      "source": [
        "tweets_df_vs['score'].hist()"
      ],
      "metadata": {
        "colab": {
          "base_uri": "https://localhost:8080/",
          "height": 285
        },
        "id": "0bMxY_wuQrnW",
        "outputId": "e9947c7c-de6c-42ad-ecdc-fb2997f714fd"
      },
      "execution_count": 37,
      "outputs": [
        {
          "output_type": "execute_result",
          "data": {
            "text/plain": [
              "<matplotlib.axes._subplots.AxesSubplot at 0x7f6e41ced650>"
            ]
          },
          "metadata": {},
          "execution_count": 37
        },
        {
          "output_type": "display_data",
          "data": {
            "text/plain": [
              "<Figure size 432x288 with 1 Axes>"
            ],
            "image/png": "[encoded data removed]"
          },
          "metadata": {
            "needs_background": "light"
          }
        }
      ]
    },
    {
      "cell_type": "markdown",
      "source": [
        "#Results and Analysis"
      ],
      "metadata": {
        "id": "8EkxhJOpRchC"
      }
    },
    {
      "cell_type": "markdown",
      "source": [
        "## Sorting by Dates ascending"
      ],
      "metadata": {
        "id": "U4sSJmA4UrgA"
      }
    },
    {
      "cell_type": "code",
      "source": [
        "import matplotlib.pyplot as plt"
      ],
      "metadata": {
        "id": "n2Gez9rLSDmV"
      },
      "execution_count": 38,
      "outputs": []
    },
    {
      "cell_type": "code",
      "source": [
        "Tweet_loc_cs = tweets_df_cs.sort_values(by='date', ascending=True)\n",
        "Tweet_loc_ps = tweets_df_ps.sort_values(by='date', ascending=True)\n",
        "Tweet_loc_vs = tweets_df_vs.sort_values(by='date', ascending=True)"
      ],
      "metadata": {
        "id": "GyO3nhJxnwyh"
      },
      "execution_count": 39,
      "outputs": []
    },
    {
      "cell_type": "code",
      "source": [
        "Tweet_loc_cs.head()"
      ],
      "metadata": {
        "colab": {
          "base_uri": "https://localhost:8080/",
          "height": 0
        },
        "id": "0a1khfiToRlY",
        "outputId": "75e0ba93-f104-42e9-84f0-e08460670a41"
      },
      "execution_count": 40,
      "outputs": [
        {
          "output_type": "execute_result",
          "data": {
            "text/plain": [
              "     Unnamed: 0  Unnamed: 0.1                    user_name  \\\n",
              "74           74            74                          AZA   \n",
              "71           71            71                   NatGeoMaps   \n",
              "73           73            73                 S4V4NN4H💗💜💙   \n",
              "103         103           103          \"paw\" \"print\" buddy   \n",
              "276         276           276  Nature and animals🌿😽🐶🐒🐰🐼🐥🐿️   \n",
              "\n",
              "                                      user_description  \\\n",
              "74   We are protectors, defenders and friends. \\nWe...   \n",
              "71   Since 1915, National Geographic Maps has been ...   \n",
              "73   23•She/Her•ASD•ADHD•Self-Taught Small Artist•S...   \n",
              "103  im buddy she/her. time traffeler and essay wri...   \n",
              "276  Animals from China. The video comes from 抖音 an...   \n",
              "\n",
              "                      user_location  user_verification                 date  \\\n",
              "74                Silver Spring, MD               True  2022-06-13 19:10:03   \n",
              "71   Washington, DC | Evergreen, CO              False  2022-06-13 22:47:06   \n",
              "73                              NaN              False  2022-06-13 23:25:52   \n",
              "103                      fub free ☮              False  2022-06-14 00:10:22   \n",
              "276                             NaN              False  2022-06-14 01:12:23   \n",
              "\n",
              "                                                  text hashtags  \\\n",
              "74   Congratulations to AZA Certified Related facil...      NaN   \n",
              "71   All 3 species of orangutans in Indonesia—Borne...      NaN   \n",
              "73   Eh I got Mina Mongoose.\\n\\nI rather be Bunnie ...      NaN   \n",
              "103  @sonyaibo1234 ok now for my slightly more obsc...      NaN   \n",
              "276  Yangtze finless porpoise. https://t.co/LMuIkbPNwB      NaN   \n",
              "\n",
              "                  source  retweets  \\\n",
              "74        Hootsuite Inc.         5   \n",
              "71              Sprinklr         8   \n",
              "73    Twitter for iPhone         3   \n",
              "103      Twitter Web App         0   \n",
              "276  Twitter for Android         3   \n",
              "\n",
              "                                        preprocess_txt  total_len sentiment  \\\n",
              "74   ['congratulation', 'aza', 'certified', 'relate...         30       POS   \n",
              "71   ['specie', 'orangutan', 'indonesia', 'bornean'...         32       NEG   \n",
              "73   ['eh', 'got', 'mina', 'mongoose', 'rather', 'b...         15       NEU   \n",
              "103  ['sonyaibo', 'ok', 'slightly', 'obscure', 'fav...         29       NEU   \n",
              "276  ['yangtze', 'finless', 'porpoise', 'http', 'co...          6       NEU   \n",
              "\n",
              "        score  \n",
              "74   0.959168  \n",
              "71   0.965117  \n",
              "73   0.950375  \n",
              "103  0.600490  \n",
              "276  0.962956  "
            ],
            "text/html": [
              "\n",
              "  <div id=\"df-46d9c2b0-d2fa-40d2-a427-26b3a10547b5\">\n",
              "    <div class=\"colab-df-container\">\n",
              "      <div>\n",
              "<style scoped>\n",
              "    .dataframe tbody tr th:only-of-type {\n",
              "        vertical-align: middle;\n",
              "    }\n",
              "\n",
              "    .dataframe tbody tr th {\n",
              "        vertical-align: top;\n",
              "    }\n",
              "\n",
              "    .dataframe thead th {\n",
              "        text-align: right;\n",
              "    }\n",
              "</style>\n",
              "<table border=\"1\" class=\"dataframe\">\n",
              "  <thead>\n",
              "    <tr style=\"text-align: right;\">\n",
              "      <th></th>\n",
              "      <th>Unnamed: 0</th>\n",
              "      <th>Unnamed: 0.1</th>\n",
              "      <th>user_name</th>\n",
              "      <th>user_description</th>\n",
              "      <th>user_location</th>\n",
              "      <th>user_verification</th>\n",
              "      <th>date</th>\n",
              "      <th>text</th>\n",
              "      <th>hashtags</th>\n",
              "      <th>source</th>\n",
              "      <th>retweets</th>\n",
              "      <th>preprocess_txt</th>\n",
              "      <th>total_len</th>\n",
              "      <th>sentiment</th>\n",
              "      <th>score</th>\n",
              "    </tr>\n",
              "  </thead>\n",
              "  <tbody>\n",
              "    <tr>\n",
              "      <th>74</th>\n",
              "      <td>74</td>\n",
              "      <td>74</td>\n",
              "      <td>AZA</td>\n",
              "      <td>We are protectors, defenders and friends. \\nWe...</td>\n",
              "      <td>Silver Spring, MD</td>\n",
              "      <td>True</td>\n",
              "      <td>2022-06-13 19:10:03</td>\n",
              "      <td>Congratulations to AZA Certified Related facil...</td>\n",
              "      <td>NaN</td>\n",
              "      <td>Hootsuite Inc.</td>\n",
              "      <td>5</td>\n",
              "      <td>['congratulation', 'aza', 'certified', 'relate...</td>\n",
              "      <td>30</td>\n",
              "      <td>POS</td>\n",
              "      <td>0.959168</td>\n",
              "    </tr>\n",
              "    <tr>\n",
              "      <th>71</th>\n",
              "      <td>71</td>\n",
              "      <td>71</td>\n",
              "      <td>NatGeoMaps</td>\n",
              "      <td>Since 1915, National Geographic Maps has been ...</td>\n",
              "      <td>Washington, DC | Evergreen, CO</td>\n",
              "      <td>False</td>\n",
              "      <td>2022-06-13 22:47:06</td>\n",
              "      <td>All 3 species of orangutans in Indonesia—Borne...</td>\n",
              "      <td>NaN</td>\n",
              "      <td>Sprinklr</td>\n",
              "      <td>8</td>\n",
              "      <td>['specie', 'orangutan', 'indonesia', 'bornean'...</td>\n",
              "      <td>32</td>\n",
              "      <td>NEG</td>\n",
              "      <td>0.965117</td>\n",
              "    </tr>\n",
              "    <tr>\n",
              "      <th>73</th>\n",
              "      <td>73</td>\n",
              "      <td>73</td>\n",
              "      <td>S4V4NN4H💗💜💙</td>\n",
              "      <td>23•She/Her•ASD•ADHD•Self-Taught Small Artist•S...</td>\n",
              "      <td>NaN</td>\n",
              "      <td>False</td>\n",
              "      <td>2022-06-13 23:25:52</td>\n",
              "      <td>Eh I got Mina Mongoose.\\n\\nI rather be Bunnie ...</td>\n",
              "      <td>NaN</td>\n",
              "      <td>Twitter for iPhone</td>\n",
              "      <td>3</td>\n",
              "      <td>['eh', 'got', 'mina', 'mongoose', 'rather', 'b...</td>\n",
              "      <td>15</td>\n",
              "      <td>NEU</td>\n",
              "      <td>0.950375</td>\n",
              "    </tr>\n",
              "    <tr>\n",
              "      <th>103</th>\n",
              "      <td>103</td>\n",
              "      <td>103</td>\n",
              "      <td>\"paw\" \"print\" buddy</td>\n",
              "      <td>im buddy she/her. time traffeler and essay wri...</td>\n",
              "      <td>fub free ☮</td>\n",
              "      <td>False</td>\n",
              "      <td>2022-06-14 00:10:22</td>\n",
              "      <td>@sonyaibo1234 ok now for my slightly more obsc...</td>\n",
              "      <td>NaN</td>\n",
              "      <td>Twitter Web App</td>\n",
              "      <td>0</td>\n",
              "      <td>['sonyaibo', 'ok', 'slightly', 'obscure', 'fav...</td>\n",
              "      <td>29</td>\n",
              "      <td>NEU</td>\n",
              "      <td>0.600490</td>\n",
              "    </tr>\n",
              "    <tr>\n",
              "      <th>276</th>\n",
              "      <td>276</td>\n",
              "      <td>276</td>\n",
              "      <td>Nature and animals🌿😽🐶🐒🐰🐼🐥🐿️</td>\n",
              "      <td>Animals from China. The video comes from 抖音 an...</td>\n",
              "      <td>NaN</td>\n",
              "      <td>False</td>\n",
              "      <td>2022-06-14 01:12:23</td>\n",
              "      <td>Yangtze finless porpoise. https://t.co/LMuIkbPNwB</td>\n",
              "      <td>NaN</td>\n",
              "      <td>Twitter for Android</td>\n",
              "      <td>3</td>\n",
              "      <td>['yangtze', 'finless', 'porpoise', 'http', 'co...</td>\n",
              "      <td>6</td>\n",
              "      <td>NEU</td>\n",
              "      <td>0.962956</td>\n",
              "    </tr>\n",
              "  </tbody>\n",
              "</table>\n",
              "</div>\n",
              "      <button class=\"colab-df-convert\" onclick=\"convertToInteractive('df-46d9c2b0-d2fa-40d2-a427-26b3a10547b5')\"\n",
              "              title=\"Convert this dataframe to an interactive table.\"\n",
              "              style=\"display:none;\">\n",
              "        \n",
              "  <svg xmlns=\"http://www.w3.org/2000/svg\" height=\"24px\"viewBox=\"0 0 24 24\"\n",
              "       width=\"24px\">\n",
              "    <path d=\"M0 0h24v24H0V0z\" fill=\"none\"/>\n",
              "    <path d=\"M18.56 5.44l.94 2.06.94-2.06 2.06-.94-2.06-.94-.94-2.06-.94 2.06-2.06.94zm-11 1L8.5 8.5l.94-2.06 2.06-.94-2.06-.94L8.5 2.5l-.94 2.06-2.06.94zm10 10l.94 2.06.94-2.06 2.06-.94-2.06-.94-.94-2.06-.94 2.06-2.06.94z\"/><path d=\"M17.41 7.96l-1.37-1.37c-.4-.4-.92-.59-1.43-.59-.52 0-1.04.2-1.43.59L10.3 9.45l-7.72 7.72c-.78.78-.78 2.05 0 2.83L4 21.41c.39.39.9.59 1.41.59.51 0 1.02-.2 1.41-.59l7.78-7.78 2.81-2.81c.8-.78.8-2.07 0-2.86zM5.41 20L4 18.59l7.72-7.72 1.47 1.35L5.41 20z\"/>\n",
              "  </svg>\n",
              "      </button>\n",
              "      \n",
              "  <style>\n",
              "    .colab-df-container {\n",
              "      display:flex;\n",
              "      flex-wrap:wrap;\n",
              "      gap: 12px;\n",
              "    }\n",
              "\n",
              "    .colab-df-convert {\n",
              "      background-color: #E8F0FE;\n",
              "      border: none;\n",
              "      border-radius: 50%;\n",
              "      cursor: pointer;\n",
              "      display: none;\n",
              "      fill: #1967D2;\n",
              "      height: 32px;\n",
              "      padding: 0 0 0 0;\n",
              "      width: 32px;\n",
              "    }\n",
              "\n",
              "    .colab-df-convert:hover {\n",
              "      background-color: #E2EBFA;\n",
              "      box-shadow: 0px 1px 2px rgba(60, 64, 67, 0.3), 0px 1px 3px 1px rgba(60, 64, 67, 0.15);\n",
              "      fill: #174EA6;\n",
              "    }\n",
              "\n",
              "    [theme=dark] .colab-df-convert {\n",
              "      background-color: #3B4455;\n",
              "      fill: #D2E3FC;\n",
              "    }\n",
              "\n",
              "    [theme=dark] .colab-df-convert:hover {\n",
              "      background-color: #434B5C;\n",
              "      box-shadow: 0px 1px 3px 1px rgba(0, 0, 0, 0.15);\n",
              "      filter: drop-shadow(0px 1px 2px rgba(0, 0, 0, 0.3));\n",
              "      fill: #FFFFFF;\n",
              "    }\n",
              "  </style>\n",
              "\n",
              "      <script>\n",
              "        const buttonEl =\n",
              "          document.querySelector('#df-46d9c2b0-d2fa-40d2-a427-26b3a10547b5 button.colab-df-convert');\n",
              "        buttonEl.style.display =\n",
              "          google.colab.kernel.accessAllowed ? 'block' : 'none';\n",
              "\n",
              "        async function convertToInteractive(key) {\n",
              "          const element = document.querySelector('#df-46d9c2b0-d2fa-40d2-a427-26b3a10547b5');\n",
              "          const dataTable =\n",
              "            await google.colab.kernel.invokeFunction('convertToInteractive',\n",
              "                                                     [key], {});\n",
              "          if (!dataTable) return;\n",
              "\n",
              "          const docLinkHtml = 'Like what you see? Visit the ' +\n",
              "            '<a target=\"_blank\" href=https://colab.research.google.com/notebooks/data_table.ipynb>data table notebook</a>'\n",
              "            + ' to learn more about interactive tables.';\n",
              "          element.innerHTML = '';\n",
              "          dataTable['output_type'] = 'display_data';\n",
              "          await google.colab.output.renderOutput(dataTable, element);\n",
              "          const docLink = document.createElement('div');\n",
              "          docLink.innerHTML = docLinkHtml;\n",
              "          element.appendChild(docLink);\n",
              "        }\n",
              "      </script>\n",
              "    </div>\n",
              "  </div>\n",
              "  "
            ]
          },
          "metadata": {},
          "execution_count": 40
        }
      ]
    },
    {
      "cell_type": "markdown",
      "source": [
        "## One hot Encode Sentiment Labels"
      ],
      "metadata": {
        "id": "7XLQnp50U0jy"
      }
    },
    {
      "cell_type": "code",
      "source": [
        "Tweet_loc_cs['label'] = Tweet_loc_cs['sentiment']\n",
        "Tweet_loc_ps['label'] = Tweet_loc_ps['sentiment']\n",
        "Tweet_loc_vs['label'] = Tweet_loc_vs['sentiment']"
      ],
      "metadata": {
        "id": "bVMPe-yyoTjQ"
      },
      "execution_count": 41,
      "outputs": []
    },
    {
      "cell_type": "code",
      "source": [
        "def get_label(x):\n",
        "  if x == 'POS':\n",
        "    return 1\n",
        "  elif x == 'NEU':\n",
        "    return 0\n",
        "  else:\n",
        "    return -1"
      ],
      "metadata": {
        "id": "Xfnu8YEPo1qd"
      },
      "execution_count": 42,
      "outputs": []
    },
    {
      "cell_type": "code",
      "source": [
        "Tweet_loc_cs['sentiment'] = Tweet_loc_cs['sentiment'].apply(lambda x : get_label(x))\n",
        "Tweet_loc_ps['sentiment'] = Tweet_loc_ps['sentiment'].apply(lambda x : get_label(x))\n",
        "Tweet_loc_vs['sentiment'] = Tweet_loc_vs['sentiment'].apply(lambda x : get_label(x))"
      ],
      "metadata": {
        "id": "nB09qqaSolrS"
      },
      "execution_count": 43,
      "outputs": []
    },
    {
      "cell_type": "code",
      "source": [
        "Tweet_loc_cs.head()"
      ],
      "metadata": {
        "colab": {
          "base_uri": "https://localhost:8080/",
          "height": 496
        },
        "id": "cZeIzypMpHdN",
        "outputId": "781f4ac8-f53f-4959-e290-c80aa8cce3db"
      },
      "execution_count": 44,
      "outputs": [
        {
          "output_type": "execute_result",
          "data": {
            "text/plain": [
              "     Unnamed: 0  Unnamed: 0.1                    user_name  \\\n",
              "74           74            74                          AZA   \n",
              "71           71            71                   NatGeoMaps   \n",
              "73           73            73                 S4V4NN4H💗💜💙   \n",
              "103         103           103          \"paw\" \"print\" buddy   \n",
              "276         276           276  Nature and animals🌿😽🐶🐒🐰🐼🐥🐿️   \n",
              "\n",
              "                                      user_description  \\\n",
              "74   We are protectors, defenders and friends. \\nWe...   \n",
              "71   Since 1915, National Geographic Maps has been ...   \n",
              "73   23•She/Her•ASD•ADHD•Self-Taught Small Artist•S...   \n",
              "103  im buddy she/her. time traffeler and essay wri...   \n",
              "276  Animals from China. The video comes from 抖音 an...   \n",
              "\n",
              "                      user_location  user_verification                 date  \\\n",
              "74                Silver Spring, MD               True  2022-06-13 19:10:03   \n",
              "71   Washington, DC | Evergreen, CO              False  2022-06-13 22:47:06   \n",
              "73                              NaN              False  2022-06-13 23:25:52   \n",
              "103                      fub free ☮              False  2022-06-14 00:10:22   \n",
              "276                             NaN              False  2022-06-14 01:12:23   \n",
              "\n",
              "                                                  text hashtags  \\\n",
              "74   Congratulations to AZA Certified Related facil...      NaN   \n",
              "71   All 3 species of orangutans in Indonesia—Borne...      NaN   \n",
              "73   Eh I got Mina Mongoose.\\n\\nI rather be Bunnie ...      NaN   \n",
              "103  @sonyaibo1234 ok now for my slightly more obsc...      NaN   \n",
              "276  Yangtze finless porpoise. https://t.co/LMuIkbPNwB      NaN   \n",
              "\n",
              "                  source  retweets  \\\n",
              "74        Hootsuite Inc.         5   \n",
              "71              Sprinklr         8   \n",
              "73    Twitter for iPhone         3   \n",
              "103      Twitter Web App         0   \n",
              "276  Twitter for Android         3   \n",
              "\n",
              "                                        preprocess_txt  total_len  sentiment  \\\n",
              "74   ['congratulation', 'aza', 'certified', 'relate...         30          1   \n",
              "71   ['specie', 'orangutan', 'indonesia', 'bornean'...         32         -1   \n",
              "73   ['eh', 'got', 'mina', 'mongoose', 'rather', 'b...         15          0   \n",
              "103  ['sonyaibo', 'ok', 'slightly', 'obscure', 'fav...         29          0   \n",
              "276  ['yangtze', 'finless', 'porpoise', 'http', 'co...          6          0   \n",
              "\n",
              "        score label  \n",
              "74   0.959168   POS  \n",
              "71   0.965117   NEG  \n",
              "73   0.950375   NEU  \n",
              "103  0.600490   NEU  \n",
              "276  0.962956   NEU  "
            ],
            "text/html": [
              "\n",
              "  <div id=\"df-e2148f44-9831-4fa1-9e6e-5f71f851bd39\">\n",
              "    <div class=\"colab-df-container\">\n",
              "      <div>\n",
              "<style scoped>\n",
              "    .dataframe tbody tr th:only-of-type {\n",
              "        vertical-align: middle;\n",
              "    }\n",
              "\n",
              "    .dataframe tbody tr th {\n",
              "        vertical-align: top;\n",
              "    }\n",
              "\n",
              "    .dataframe thead th {\n",
              "        text-align: right;\n",
              "    }\n",
              "</style>\n",
              "<table border=\"1\" class=\"dataframe\">\n",
              "  <thead>\n",
              "    <tr style=\"text-align: right;\">\n",
              "      <th></th>\n",
              "      <th>Unnamed: 0</th>\n",
              "      <th>Unnamed: 0.1</th>\n",
              "      <th>user_name</th>\n",
              "      <th>user_description</th>\n",
              "      <th>user_location</th>\n",
              "      <th>user_verification</th>\n",
              "      <th>date</th>\n",
              "      <th>text</th>\n",
              "      <th>hashtags</th>\n",
              "      <th>source</th>\n",
              "      <th>retweets</th>\n",
              "      <th>preprocess_txt</th>\n",
              "      <th>total_len</th>\n",
              "      <th>sentiment</th>\n",
              "      <th>score</th>\n",
              "      <th>label</th>\n",
              "    </tr>\n",
              "  </thead>\n",
              "  <tbody>\n",
              "    <tr>\n",
              "      <th>74</th>\n",
              "      <td>74</td>\n",
              "      <td>74</td>\n",
              "      <td>AZA</td>\n",
              "      <td>We are protectors, defenders and friends. \\nWe...</td>\n",
              "      <td>Silver Spring, MD</td>\n",
              "      <td>True</td>\n",
              "      <td>2022-06-13 19:10:03</td>\n",
              "      <td>Congratulations to AZA Certified Related facil...</td>\n",
              "      <td>NaN</td>\n",
              "      <td>Hootsuite Inc.</td>\n",
              "      <td>5</td>\n",
              "      <td>['congratulation', 'aza', 'certified', 'relate...</td>\n",
              "      <td>30</td>\n",
              "      <td>1</td>\n",
              "      <td>0.959168</td>\n",
              "      <td>POS</td>\n",
              "    </tr>\n",
              "    <tr>\n",
              "      <th>71</th>\n",
              "      <td>71</td>\n",
              "      <td>71</td>\n",
              "      <td>NatGeoMaps</td>\n",
              "      <td>Since 1915, National Geographic Maps has been ...</td>\n",
              "      <td>Washington, DC | Evergreen, CO</td>\n",
              "      <td>False</td>\n",
              "      <td>2022-06-13 22:47:06</td>\n",
              "      <td>All 3 species of orangutans in Indonesia—Borne...</td>\n",
              "      <td>NaN</td>\n",
              "      <td>Sprinklr</td>\n",
              "      <td>8</td>\n",
              "      <td>['specie', 'orangutan', 'indonesia', 'bornean'...</td>\n",
              "      <td>32</td>\n",
              "      <td>-1</td>\n",
              "      <td>0.965117</td>\n",
              "      <td>NEG</td>\n",
              "    </tr>\n",
              "    <tr>\n",
              "      <th>73</th>\n",
              "      <td>73</td>\n",
              "      <td>73</td>\n",
              "      <td>S4V4NN4H💗💜💙</td>\n",
              "      <td>23•She/Her•ASD•ADHD•Self-Taught Small Artist•S...</td>\n",
              "      <td>NaN</td>\n",
              "      <td>False</td>\n",
              "      <td>2022-06-13 23:25:52</td>\n",
              "      <td>Eh I got Mina Mongoose.\\n\\nI rather be Bunnie ...</td>\n",
              "      <td>NaN</td>\n",
              "      <td>Twitter for iPhone</td>\n",
              "      <td>3</td>\n",
              "      <td>['eh', 'got', 'mina', 'mongoose', 'rather', 'b...</td>\n",
              "      <td>15</td>\n",
              "      <td>0</td>\n",
              "      <td>0.950375</td>\n",
              "      <td>NEU</td>\n",
              "    </tr>\n",
              "    <tr>\n",
              "      <th>103</th>\n",
              "      <td>103</td>\n",
              "      <td>103</td>\n",
              "      <td>\"paw\" \"print\" buddy</td>\n",
              "      <td>im buddy she/her. time traffeler and essay wri...</td>\n",
              "      <td>fub free ☮</td>\n",
              "      <td>False</td>\n",
              "      <td>2022-06-14 00:10:22</td>\n",
              "      <td>@sonyaibo1234 ok now for my slightly more obsc...</td>\n",
              "      <td>NaN</td>\n",
              "      <td>Twitter Web App</td>\n",
              "      <td>0</td>\n",
              "      <td>['sonyaibo', 'ok', 'slightly', 'obscure', 'fav...</td>\n",
              "      <td>29</td>\n",
              "      <td>0</td>\n",
              "      <td>0.600490</td>\n",
              "      <td>NEU</td>\n",
              "    </tr>\n",
              "    <tr>\n",
              "      <th>276</th>\n",
              "      <td>276</td>\n",
              "      <td>276</td>\n",
              "      <td>Nature and animals🌿😽🐶🐒🐰🐼🐥🐿️</td>\n",
              "      <td>Animals from China. The video comes from 抖音 an...</td>\n",
              "      <td>NaN</td>\n",
              "      <td>False</td>\n",
              "      <td>2022-06-14 01:12:23</td>\n",
              "      <td>Yangtze finless porpoise. https://t.co/LMuIkbPNwB</td>\n",
              "      <td>NaN</td>\n",
              "      <td>Twitter for Android</td>\n",
              "      <td>3</td>\n",
              "      <td>['yangtze', 'finless', 'porpoise', 'http', 'co...</td>\n",
              "      <td>6</td>\n",
              "      <td>0</td>\n",
              "      <td>0.962956</td>\n",
              "      <td>NEU</td>\n",
              "    </tr>\n",
              "  </tbody>\n",
              "</table>\n",
              "</div>\n",
              "      <button class=\"colab-df-convert\" onclick=\"convertToInteractive('df-e2148f44-9831-4fa1-9e6e-5f71f851bd39')\"\n",
              "              title=\"Convert this dataframe to an interactive table.\"\n",
              "              style=\"display:none;\">\n",
              "        \n",
              "  <svg xmlns=\"http://www.w3.org/2000/svg\" height=\"24px\"viewBox=\"0 0 24 24\"\n",
              "       width=\"24px\">\n",
              "    <path d=\"M0 0h24v24H0V0z\" fill=\"none\"/>\n",
              "    <path d=\"M18.56 5.44l.94 2.06.94-2.06 2.06-.94-2.06-.94-.94-2.06-.94 2.06-2.06.94zm-11 1L8.5 8.5l.94-2.06 2.06-.94-2.06-.94L8.5 2.5l-.94 2.06-2.06.94zm10 10l.94 2.06.94-2.06 2.06-.94-2.06-.94-.94-2.06-.94 2.06-2.06.94z\"/><path d=\"M17.41 7.96l-1.37-1.37c-.4-.4-.92-.59-1.43-.59-.52 0-1.04.2-1.43.59L10.3 9.45l-7.72 7.72c-.78.78-.78 2.05 0 2.83L4 21.41c.39.39.9.59 1.41.59.51 0 1.02-.2 1.41-.59l7.78-7.78 2.81-2.81c.8-.78.8-2.07 0-2.86zM5.41 20L4 18.59l7.72-7.72 1.47 1.35L5.41 20z\"/>\n",
              "  </svg>\n",
              "      </button>\n",
              "      \n",
              "  <style>\n",
              "    .colab-df-container {\n",
              "      display:flex;\n",
              "      flex-wrap:wrap;\n",
              "      gap: 12px;\n",
              "    }\n",
              "\n",
              "    .colab-df-convert {\n",
              "      background-color: #E8F0FE;\n",
              "      border: none;\n",
              "      border-radius: 50%;\n",
              "      cursor: pointer;\n",
              "      display: none;\n",
              "      fill: #1967D2;\n",
              "      height: 32px;\n",
              "      padding: 0 0 0 0;\n",
              "      width: 32px;\n",
              "    }\n",
              "\n",
              "    .colab-df-convert:hover {\n",
              "      background-color: #E2EBFA;\n",
              "      box-shadow: 0px 1px 2px rgba(60, 64, 67, 0.3), 0px 1px 3px 1px rgba(60, 64, 67, 0.15);\n",
              "      fill: #174EA6;\n",
              "    }\n",
              "\n",
              "    [theme=dark] .colab-df-convert {\n",
              "      background-color: #3B4455;\n",
              "      fill: #D2E3FC;\n",
              "    }\n",
              "\n",
              "    [theme=dark] .colab-df-convert:hover {\n",
              "      background-color: #434B5C;\n",
              "      box-shadow: 0px 1px 3px 1px rgba(0, 0, 0, 0.15);\n",
              "      filter: drop-shadow(0px 1px 2px rgba(0, 0, 0, 0.3));\n",
              "      fill: #FFFFFF;\n",
              "    }\n",
              "  </style>\n",
              "\n",
              "      <script>\n",
              "        const buttonEl =\n",
              "          document.querySelector('#df-e2148f44-9831-4fa1-9e6e-5f71f851bd39 button.colab-df-convert');\n",
              "        buttonEl.style.display =\n",
              "          google.colab.kernel.accessAllowed ? 'block' : 'none';\n",
              "\n",
              "        async function convertToInteractive(key) {\n",
              "          const element = document.querySelector('#df-e2148f44-9831-4fa1-9e6e-5f71f851bd39');\n",
              "          const dataTable =\n",
              "            await google.colab.kernel.invokeFunction('convertToInteractive',\n",
              "                                                     [key], {});\n",
              "          if (!dataTable) return;\n",
              "\n",
              "          const docLinkHtml = 'Like what you see? Visit the ' +\n",
              "            '<a target=\"_blank\" href=https://colab.research.google.com/notebooks/data_table.ipynb>data table notebook</a>'\n",
              "            + ' to learn more about interactive tables.';\n",
              "          element.innerHTML = '';\n",
              "          dataTable['output_type'] = 'display_data';\n",
              "          await google.colab.output.renderOutput(dataTable, element);\n",
              "          const docLink = document.createElement('div');\n",
              "          docLink.innerHTML = docLinkHtml;\n",
              "          element.appendChild(docLink);\n",
              "        }\n",
              "      </script>\n",
              "    </div>\n",
              "  </div>\n",
              "  "
            ]
          },
          "metadata": {},
          "execution_count": 44
        }
      ]
    },
    {
      "cell_type": "code",
      "source": [
        "Tweet_loc_cs['sentiment'].value_counts()"
      ],
      "metadata": {
        "colab": {
          "base_uri": "https://localhost:8080/"
        },
        "id": "zYw6ZiX8p9Xu",
        "outputId": "3442567b-d16d-43fd-b10e-edde802a467a"
      },
      "execution_count": 45,
      "outputs": [
        {
          "output_type": "execute_result",
          "data": {
            "text/plain": [
              " 0    199\n",
              " 1    133\n",
              "-1    114\n",
              "Name: sentiment, dtype: int64"
            ]
          },
          "metadata": {},
          "execution_count": 45
        }
      ]
    },
    {
      "cell_type": "code",
      "source": [
        "Tweet_loc_ps['sentiment'].value_counts()"
      ],
      "metadata": {
        "colab": {
          "base_uri": "https://localhost:8080/"
        },
        "id": "zJRvA2MCS78r",
        "outputId": "21f4b80e-1d77-48c9-dce3-d1f1d25c135e"
      },
      "execution_count": 46,
      "outputs": [
        {
          "output_type": "execute_result",
          "data": {
            "text/plain": [
              " 0    24\n",
              "-1    13\n",
              " 1     6\n",
              "Name: sentiment, dtype: int64"
            ]
          },
          "metadata": {},
          "execution_count": 46
        }
      ]
    },
    {
      "cell_type": "code",
      "source": [
        "Tweet_loc_vs['sentiment'].value_counts()"
      ],
      "metadata": {
        "colab": {
          "base_uri": "https://localhost:8080/"
        },
        "id": "QNryRjZ9S-CI",
        "outputId": "8baf663f-69a8-47d9-a220-a44cac6d52d4"
      },
      "execution_count": 47,
      "outputs": [
        {
          "output_type": "execute_result",
          "data": {
            "text/plain": [
              " 0    507\n",
              " 1    189\n",
              "-1    147\n",
              "Name: sentiment, dtype: int64"
            ]
          },
          "metadata": {},
          "execution_count": 47
        }
      ]
    },
    {
      "cell_type": "markdown",
      "source": [
        "## Clustering Sentiments based on day"
      ],
      "metadata": {
        "id": "USitHYzrU9dC"
      }
    },
    {
      "cell_type": "code",
      "source": [
        "Tweet_loc_cs.shape"
      ],
      "metadata": {
        "colab": {
          "base_uri": "https://localhost:8080/"
        },
        "id": "j6KqVNsgEdBD",
        "outputId": "b4fe0be4-b21c-4f62-bdcf-a0b4157b7e83"
      },
      "execution_count": 48,
      "outputs": [
        {
          "output_type": "execute_result",
          "data": {
            "text/plain": [
              "(446, 16)"
            ]
          },
          "metadata": {},
          "execution_count": 48
        }
      ]
    },
    {
      "cell_type": "code",
      "source": [
        "Tweet_loc_cs['date'][0]"
      ],
      "metadata": {
        "colab": {
          "base_uri": "https://localhost:8080/",
          "height": 36
        },
        "id": "hbbYpsm8Cx01",
        "outputId": "4de784f3-0dc6-4e05-c4e8-d519c91f8bea"
      },
      "execution_count": 49,
      "outputs": [
        {
          "output_type": "execute_result",
          "data": {
            "text/plain": [
              "'2022-06-20 02:22:32'"
            ],
            "application/vnd.google.colaboratory.intrinsic+json": {
              "type": "string"
            }
          },
          "metadata": {},
          "execution_count": 49
        }
      ]
    },
    {
      "cell_type": "code",
      "source": [
        "dc_cs = dict()\n",
        "dc_ps = dict()\n",
        "dc_vs = dict()"
      ],
      "metadata": {
        "id": "gP-M7O6wE9mS"
      },
      "execution_count": 50,
      "outputs": []
    },
    {
      "cell_type": "code",
      "source": [
        "for date in Tweet_loc_cs['date']:\n",
        "  dc_cs[date[:10]] = {'pos': 0,\n",
        "                   'neg': 0,\n",
        "                   'neu': 0}\n",
        "\n",
        "\n",
        "for date in Tweet_loc_ps['date']:\n",
        "  dc_ps[date[:10]] = {'pos': 0,\n",
        "                   'neg': 0,\n",
        "                   'neu': 0}\n",
        "\n",
        "\n",
        "for date in Tweet_loc_vs['date']:\n",
        "  dc_vs[date[:10]] = {'pos': 0,\n",
        "                   'neg': 0,\n",
        "                   'neu': 0}\n"
      ],
      "metadata": {
        "id": "SPp8umxEFEs7"
      },
      "execution_count": 51,
      "outputs": []
    },
    {
      "cell_type": "code",
      "source": [
        "dc_cs"
      ],
      "metadata": {
        "colab": {
          "base_uri": "https://localhost:8080/"
        },
        "id": "aYqNYvkXFZy3",
        "outputId": "687de114-26de-4747-eca5-9b44b76cf766"
      },
      "execution_count": 52,
      "outputs": [
        {
          "output_type": "execute_result",
          "data": {
            "text/plain": [
              "{'2022-06-13': {'neg': 0, 'neu': 0, 'pos': 0},\n",
              " '2022-06-14': {'neg': 0, 'neu': 0, 'pos': 0},\n",
              " '2022-06-15': {'neg': 0, 'neu': 0, 'pos': 0},\n",
              " '2022-06-16': {'neg': 0, 'neu': 0, 'pos': 0},\n",
              " '2022-06-17': {'neg': 0, 'neu': 0, 'pos': 0},\n",
              " '2022-06-18': {'neg': 0, 'neu': 0, 'pos': 0},\n",
              " '2022-06-19': {'neg': 0, 'neu': 0, 'pos': 0},\n",
              " '2022-06-20': {'neg': 0, 'neu': 0, 'pos': 0},\n",
              " '2022-06-21': {'neg': 0, 'neu': 0, 'pos': 0},\n",
              " '2022-06-22': {'neg': 0, 'neu': 0, 'pos': 0},\n",
              " '2022-06-23': {'neg': 0, 'neu': 0, 'pos': 0}}"
            ]
          },
          "metadata": {},
          "execution_count": 52
        }
      ]
    },
    {
      "cell_type": "code",
      "source": [
        "dc_ps"
      ],
      "metadata": {
        "colab": {
          "base_uri": "https://localhost:8080/"
        },
        "id": "Qjzqg5hETj3v",
        "outputId": "858f661f-7824-44b9-ae23-597a7e9b5b65"
      },
      "execution_count": 53,
      "outputs": [
        {
          "output_type": "execute_result",
          "data": {
            "text/plain": [
              "{'2022-06-15': {'neg': 0, 'neu': 0, 'pos': 0},\n",
              " '2022-06-16': {'neg': 0, 'neu': 0, 'pos': 0},\n",
              " '2022-06-17': {'neg': 0, 'neu': 0, 'pos': 0},\n",
              " '2022-06-18': {'neg': 0, 'neu': 0, 'pos': 0},\n",
              " '2022-06-19': {'neg': 0, 'neu': 0, 'pos': 0},\n",
              " '2022-06-20': {'neg': 0, 'neu': 0, 'pos': 0},\n",
              " '2022-06-21': {'neg': 0, 'neu': 0, 'pos': 0},\n",
              " '2022-06-22': {'neg': 0, 'neu': 0, 'pos': 0},\n",
              " '2022-06-23': {'neg': 0, 'neu': 0, 'pos': 0}}"
            ]
          },
          "metadata": {},
          "execution_count": 53
        }
      ]
    },
    {
      "cell_type": "code",
      "source": [
        "dc_vs"
      ],
      "metadata": {
        "colab": {
          "base_uri": "https://localhost:8080/"
        },
        "id": "gGuFVq_jTmji",
        "outputId": "e270e066-ea1e-4b0f-cded-7e27483e9d53"
      },
      "execution_count": 54,
      "outputs": [
        {
          "output_type": "execute_result",
          "data": {
            "text/plain": [
              "{'2022-06-14': {'neg': 0, 'neu': 0, 'pos': 0},\n",
              " '2022-06-15': {'neg': 0, 'neu': 0, 'pos': 0},\n",
              " '2022-06-16': {'neg': 0, 'neu': 0, 'pos': 0},\n",
              " '2022-06-17': {'neg': 0, 'neu': 0, 'pos': 0},\n",
              " '2022-06-18': {'neg': 0, 'neu': 0, 'pos': 0},\n",
              " '2022-06-19': {'neg': 0, 'neu': 0, 'pos': 0},\n",
              " '2022-06-20': {'neg': 0, 'neu': 0, 'pos': 0},\n",
              " '2022-06-21': {'neg': 0, 'neu': 0, 'pos': 0},\n",
              " '2022-06-22': {'neg': 0, 'neu': 0, 'pos': 0},\n",
              " '2022-06-23': {'neg': 0, 'neu': 0, 'pos': 0}}"
            ]
          },
          "metadata": {},
          "execution_count": 54
        }
      ]
    },
    {
      "cell_type": "code",
      "source": [
        "for i in range(Tweet_loc_cs.shape[0]):\n",
        "  date = Tweet_loc_cs['date'][i][:10]\n",
        "  senti = Tweet_loc_cs['sentiment'][i]\n",
        "  if senti == 1:\n",
        "    dc_cs[date]['pos'] += 1\n",
        "  elif senti == -1:\n",
        "    dc_cs[date]['neg'] += 1\n",
        "  else:\n",
        "    dc_cs[date]['neu'] += 1\n",
        "\n",
        "\n",
        "\n",
        "\n",
        "for i in range(Tweet_loc_ps.shape[0]):\n",
        "  date = Tweet_loc_ps['date'][i][:10]\n",
        "  senti = Tweet_loc_ps['sentiment'][i]\n",
        "  if senti == 1:\n",
        "    dc_ps[date]['pos'] += 1\n",
        "  elif senti == -1:\n",
        "    dc_ps[date]['neg'] += 1\n",
        "  else:\n",
        "    dc_ps[date]['neu'] += 1\n",
        "\n",
        "\n",
        "\n",
        "\n",
        "for i in range(Tweet_loc_vs.shape[0]):\n",
        "  date = Tweet_loc_vs['date'][i][:10]\n",
        "  senti = Tweet_loc_vs['sentiment'][i]\n",
        "  if senti == 1:\n",
        "    dc_vs[date]['pos'] += 1\n",
        "  elif senti == -1:\n",
        "    dc_vs[date]['neg'] += 1\n",
        "  else:\n",
        "    dc_vs[date]['neu'] += 1"
      ],
      "metadata": {
        "id": "40WM6z0sF_Yq"
      },
      "execution_count": 55,
      "outputs": []
    },
    {
      "cell_type": "code",
      "source": [
        "dc_cs"
      ],
      "metadata": {
        "colab": {
          "base_uri": "https://localhost:8080/"
        },
        "id": "jY3mdWIkG0vA",
        "outputId": "22aa61f8-970b-4744-c7e2-2e8b7b451f33"
      },
      "execution_count": 56,
      "outputs": [
        {
          "output_type": "execute_result",
          "data": {
            "text/plain": [
              "{'2022-06-13': {'neg': 1, 'neu': 1, 'pos': 1},\n",
              " '2022-06-14': {'neg': 7, 'neu': 11, 'pos': 5},\n",
              " '2022-06-15': {'neg': 5, 'neu': 12, 'pos': 3},\n",
              " '2022-06-16': {'neg': 4, 'neu': 7, 'pos': 5},\n",
              " '2022-06-17': {'neg': 10, 'neu': 15, 'pos': 6},\n",
              " '2022-06-18': {'neg': 6, 'neu': 6, 'pos': 3},\n",
              " '2022-06-19': {'neg': 8, 'neu': 10, 'pos': 6},\n",
              " '2022-06-20': {'neg': 18, 'neu': 23, 'pos': 16},\n",
              " '2022-06-21': {'neg': 21, 'neu': 38, 'pos': 25},\n",
              " '2022-06-22': {'neg': 20, 'neu': 37, 'pos': 29},\n",
              " '2022-06-23': {'neg': 14, 'neu': 39, 'pos': 34}}"
            ]
          },
          "metadata": {},
          "execution_count": 56
        }
      ]
    },
    {
      "cell_type": "code",
      "source": [
        "dc_ps"
      ],
      "metadata": {
        "colab": {
          "base_uri": "https://localhost:8080/"
        },
        "id": "psq0VVkRUL52",
        "outputId": "4322ad72-2c2f-4b36-dfdb-1689cb645ebe"
      },
      "execution_count": 57,
      "outputs": [
        {
          "output_type": "execute_result",
          "data": {
            "text/plain": [
              "{'2022-06-15': {'neg': 0, 'neu': 1, 'pos': 0},\n",
              " '2022-06-16': {'neg': 0, 'neu': 0, 'pos': 1},\n",
              " '2022-06-17': {'neg': 0, 'neu': 1, 'pos': 0},\n",
              " '2022-06-18': {'neg': 2, 'neu': 1, 'pos': 0},\n",
              " '2022-06-19': {'neg': 0, 'neu': 4, 'pos': 1},\n",
              " '2022-06-20': {'neg': 4, 'neu': 4, 'pos': 0},\n",
              " '2022-06-21': {'neg': 4, 'neu': 3, 'pos': 4},\n",
              " '2022-06-22': {'neg': 2, 'neu': 6, 'pos': 0},\n",
              " '2022-06-23': {'neg': 1, 'neu': 4, 'pos': 0}}"
            ]
          },
          "metadata": {},
          "execution_count": 57
        }
      ]
    },
    {
      "cell_type": "code",
      "source": [
        "dc_vs"
      ],
      "metadata": {
        "colab": {
          "base_uri": "https://localhost:8080/"
        },
        "id": "1orfCoh_UOb6",
        "outputId": "371a041e-454e-46a7-e629-5b79dffbf6c4"
      },
      "execution_count": 58,
      "outputs": [
        {
          "output_type": "execute_result",
          "data": {
            "text/plain": [
              "{'2022-06-14': {'neg': 2, 'neu': 17, 'pos': 5},\n",
              " '2022-06-15': {'neg': 2, 'neu': 17, 'pos': 6},\n",
              " '2022-06-16': {'neg': 6, 'neu': 27, 'pos': 6},\n",
              " '2022-06-17': {'neg': 9, 'neu': 25, 'pos': 12},\n",
              " '2022-06-18': {'neg': 5, 'neu': 34, 'pos': 8},\n",
              " '2022-06-19': {'neg': 4, 'neu': 15, 'pos': 3},\n",
              " '2022-06-20': {'neg': 13, 'neu': 34, 'pos': 13},\n",
              " '2022-06-21': {'neg': 10, 'neu': 47, 'pos': 23},\n",
              " '2022-06-22': {'neg': 16, 'neu': 87, 'pos': 38},\n",
              " '2022-06-23': {'neg': 80, 'neu': 204, 'pos': 75}}"
            ]
          },
          "metadata": {},
          "execution_count": 58
        }
      ]
    },
    {
      "cell_type": "code",
      "source": [
        "for k in dc_cs:\n",
        "  print(k)"
      ],
      "metadata": {
        "colab": {
          "base_uri": "https://localhost:8080/"
        },
        "id": "XTs-1dU0KC_G",
        "outputId": "2f3e42a3-dbc2-4ea9-c2cc-a5249ebef927"
      },
      "execution_count": 59,
      "outputs": [
        {
          "output_type": "stream",
          "name": "stdout",
          "text": [
            "2022-06-13\n",
            "2022-06-14\n",
            "2022-06-15\n",
            "2022-06-16\n",
            "2022-06-17\n",
            "2022-06-18\n",
            "2022-06-19\n",
            "2022-06-20\n",
            "2022-06-21\n",
            "2022-06-22\n",
            "2022-06-23\n"
          ]
        }
      ]
    },
    {
      "cell_type": "code",
      "source": [
        "neg_cs = []\n",
        "pos_cs = []\n",
        "neu_cs = []\n",
        "dates_cs = []\n",
        "\n",
        "for k in dc_cs:\n",
        "  dates_cs.append(k)\n",
        "  v = dc_cs[k]\n",
        "  neg_cs.append(v['neg'])\n",
        "  pos_cs.append(v['pos'])\n",
        "  neu_cs.append(v['neu'])\n",
        "\n",
        "\n",
        "\n",
        "neg_ps = []\n",
        "pos_ps = []\n",
        "neu_ps = []\n",
        "dates_ps = []\n",
        "\n",
        "for k in dc_ps:\n",
        "  dates_ps.append(k)\n",
        "  v = dc_ps[k]\n",
        "  neg_ps.append(v['neg'])\n",
        "  pos_ps.append(v['pos'])\n",
        "  neu_ps.append(v['neu'])\n",
        "\n",
        "\n",
        "\n",
        "neg_vs = []\n",
        "pos_vs = []\n",
        "neu_vs = []\n",
        "dates_vs = []\n",
        "\n",
        "for k in dc_vs:\n",
        "  dates_vs.append(k)\n",
        "  v = dc_vs[k]\n",
        "  neg_vs.append(v['neg'])\n",
        "  pos_vs.append(v['pos'])\n",
        "  neu_vs.append(v['neu'])\n"
      ],
      "metadata": {
        "id": "c5o8RjLFIBO-"
      },
      "execution_count": 60,
      "outputs": []
    },
    {
      "cell_type": "markdown",
      "source": [
        "## Plots for sentiments vs dates"
      ],
      "metadata": {
        "id": "hD5HK9T4VIXK"
      }
    },
    {
      "cell_type": "markdown",
      "source": [
        "## Critically Endangered"
      ],
      "metadata": {
        "id": "p71fjlPjVYVG"
      }
    },
    {
      "cell_type": "code",
      "source": [
        "plt.figure(figsize=(20,6))\n",
        "plt.plot(dates_cs,pos_cs,'g',label='positive')\n",
        "plt.plot(dates_cs,neg_cs,'r',label='negative')\n",
        "plt.plot(dates_cs,neu_cs,'y',label='neutral')\n",
        "plt.title(\"Tweet Sentiments over Time for Critically Endangered Species\")\n",
        "plt.legend()\n",
        "plt.show()"
      ],
      "metadata": {
        "colab": {
          "base_uri": "https://localhost:8080/",
          "height": 390
        },
        "id": "ir6T3C7AKR9R",
        "outputId": "55042125-a54e-4764-ceb2-8f70ce114bf0"
      },
      "execution_count": 61,
      "outputs": [
        {
          "output_type": "display_data",
          "data": {
            "text/plain": [
              "<Figure size 1440x432 with 1 Axes>"
            ],
            "image/png": "[encoded data removed]"
          },
          "metadata": {
            "needs_background": "light"
          }
        }
      ]
    },
    {
      "cell_type": "code",
      "source": [
        "import numpy as np"
      ],
      "metadata": {
        "id": "FTjmLtYKQX3d"
      },
      "execution_count": 62,
      "outputs": []
    },
    {
      "cell_type": "code",
      "source": [
        "xaxis = np.arange(len(dates_cs))\n",
        "plt.figure(figsize=(20,6))\n",
        "plt.bar(xaxis+0.2,pos_cs,width=0.2,color='g',label='positive')\n",
        "plt.bar(xaxis+0.2*2,neg_cs,width=0.2,color='r',label='negative')\n",
        "plt.bar(xaxis+0.2*3,neu_cs,width=0.2,color='y',label='neutral')\n",
        "plt.xticks(xaxis,dates_cs)\n",
        "plt.title(\"Tweet Sentiments over Time for Critically Endangered Species\")\n",
        "plt.legend()\n",
        "plt.show()"
      ],
      "metadata": {
        "id": "3kZ9nULWvb1I",
        "colab": {
          "base_uri": "https://localhost:8080/",
          "height": 390
        },
        "outputId": "d27b7553-ed33-4c68-ace9-515a11d30999"
      },
      "execution_count": 63,
      "outputs": [
        {
          "output_type": "display_data",
          "data": {
            "text/plain": [
              "<Figure size 1440x432 with 1 Axes>"
            ],
            "image/png": "[encoded data removed]"
          },
          "metadata": {
            "needs_background": "light"
          }
        }
      ]
    },
    {
      "cell_type": "markdown",
      "source": [
        "##Possibly Extinct"
      ],
      "metadata": {
        "id": "4gNTU-1ZVnYl"
      }
    },
    {
      "cell_type": "code",
      "source": [
        "plt.figure(figsize=(20,6))\n",
        "plt.plot(dates_ps,pos_ps,'g',label='positive')\n",
        "plt.plot(dates_ps,neg_ps,'r',label='negative')\n",
        "plt.plot(dates_ps,neu_ps,'y',label='neutral')\n",
        "plt.title(\"Tweet Sentiments over Time for Possibly Extinct Species\")\n",
        "plt.legend()\n",
        "plt.show()"
      ],
      "metadata": {
        "id": "RYQfPGlGNn_v",
        "colab": {
          "base_uri": "https://localhost:8080/",
          "height": 390
        },
        "outputId": "62c37761-b857-4541-bb06-d89e2c5763a1"
      },
      "execution_count": 64,
      "outputs": [
        {
          "output_type": "display_data",
          "data": {
            "text/plain": [
              "<Figure size 1440x432 with 1 Axes>"
            ],
            "image/png": "[encoded data removed]"
          },
          "metadata": {
            "needs_background": "light"
          }
        }
      ]
    },
    {
      "cell_type": "code",
      "source": [
        "xaxis = np.arange(len(dates_ps))\n",
        "plt.figure(figsize=(20,6))\n",
        "plt.bar(xaxis+0.2,pos_ps,width=0.2,color='g',label='positive')\n",
        "plt.bar(xaxis+0.2*2,neg_ps,width=0.2,color='r',label='negative')\n",
        "plt.bar(xaxis+0.2*3,neu_ps,width=0.2,color='y',label='neutral')\n",
        "plt.xticks(xaxis,dates_ps)\n",
        "plt.title(\"Tweet Sentiments over Time for Possibly Extinct Species\")\n",
        "plt.legend()\n",
        "plt.show()"
      ],
      "metadata": {
        "colab": {
          "base_uri": "https://localhost:8080/",
          "height": 390
        },
        "id": "SpjkKozxVhhl",
        "outputId": "e89160f5-1186-4992-9074-b908f6c11462"
      },
      "execution_count": 65,
      "outputs": [
        {
          "output_type": "display_data",
          "data": {
            "text/plain": [
              "<Figure size 1440x432 with 1 Axes>"
            ],
            "image/png": "[encoded data removed]"
          },
          "metadata": {
            "needs_background": "light"
          }
        }
      ]
    },
    {
      "cell_type": "markdown",
      "source": [
        "##Vulnerable Species"
      ],
      "metadata": {
        "id": "rWdb4Dc5V20w"
      }
    },
    {
      "cell_type": "code",
      "source": [
        "plt.figure(figsize=(20,6))\n",
        "plt.plot(dates_vs,pos_vs,'g',label='positive')\n",
        "plt.plot(dates_vs,neg_vs,'r',label='negative')\n",
        "plt.plot(dates_vs,neu_vs,'y',label='neutral')\n",
        "plt.title(\"Tweet Sentiments over Time for Vulnerable Species\")\n",
        "plt.legend()\n",
        "plt.show()"
      ],
      "metadata": {
        "colab": {
          "base_uri": "https://localhost:8080/",
          "height": 390
        },
        "id": "MbR7ogo8Vjqq",
        "outputId": "843c113e-c3f8-4395-998d-86d0839dfaf1"
      },
      "execution_count": 66,
      "outputs": [
        {
          "output_type": "display_data",
          "data": {
            "text/plain": [
              "<Figure size 1440x432 with 1 Axes>"
            ],
            "image/png": "[encoded data removed]"
          },
          "metadata": {
            "needs_background": "light"
          }
        }
      ]
    },
    {
      "cell_type": "code",
      "source": [
        "xaxis = np.arange(len(dates_vs))\n",
        "plt.figure(figsize=(20,6))\n",
        "plt.bar(xaxis+0.2,pos_vs,width=0.2,color='g',label='positive')\n",
        "plt.bar(xaxis+0.2*2,neg_vs,width=0.2,color='r',label='negative')\n",
        "plt.bar(xaxis+0.2*3,neu_vs,width=0.2,color='y',label='neutral')\n",
        "plt.xticks(xaxis,dates_vs)\n",
        "plt.title(\"Tweet Sentiments over Time for Vulnerable Species\")\n",
        "plt.legend()\n",
        "plt.show()"
      ],
      "metadata": {
        "colab": {
          "base_uri": "https://localhost:8080/",
          "height": 390
        },
        "id": "IRCm7voUVldD",
        "outputId": "47909d96-9c99-449a-faed-74d00502d2dc"
      },
      "execution_count": 67,
      "outputs": [
        {
          "output_type": "display_data",
          "data": {
            "text/plain": [
              "<Figure size 1440x432 with 1 Axes>"
            ],
            "image/png": "[encoded data removed]"
          },
          "metadata": {
            "needs_background": "light"
          }
        }
      ]
    },
    {
      "cell_type": "markdown",
      "source": [
        "#Sentiment Examples"
      ],
      "metadata": {
        "id": "DUUdCVsOWU3L"
      }
    },
    {
      "cell_type": "code",
      "source": [
        "post = tweets_df_cs[tweets_df_cs['sentiment']=='POS']\n",
        "negt = tweets_df_cs[tweets_df_cs['sentiment']=='NEG']\n",
        "neut = tweets_df_cs[tweets_df_cs['sentiment']=='NEU']"
      ],
      "metadata": {
        "id": "mMzktydgWYAV"
      },
      "execution_count": 69,
      "outputs": []
    },
    {
      "cell_type": "code",
      "source": [
        "post['text']"
      ],
      "metadata": {
        "colab": {
          "base_uri": "https://localhost:8080/"
        },
        "id": "KwZ6X2E8Wife",
        "outputId": "aa2d7d26-154b-41ef-8d8f-d2cd8566afa8"
      },
      "execution_count": 71,
      "outputs": [
        {
          "output_type": "execute_result",
          "data": {
            "text/plain": [
              "3      Sumatran Rhinoceros has his smile camera ready...\n",
              "4      @burtonlim Hi Mr. Lim, I wanted to explore don...\n",
              "9      @PlanetZooGame My favourite is Howletts Wildli...\n",
              "18     The Eastern Lowland Gorilla can run faster tha...\n",
              "19     Some of these efforts include actively protect...\n",
              "                             ...                        \n",
              "412    @CatherinBabault @MarmotRecovery @CanGeo @Jav_...\n",
              "418    This #WorldRainforestDay we're celebrating the...\n",
              "419    On #WorldRainforestDay, let's be grateful for ...\n",
              "435    Happy Father's Day!\\nMin (the girl) has two fa...\n",
              "442    I cannot believe it, that's the Sumatran Eleph...\n",
              "Name: text, Length: 133, dtype: object"
            ]
          },
          "metadata": {},
          "execution_count": 71
        }
      ]
    },
    {
      "cell_type": "code",
      "source": [
        "negt['text']"
      ],
      "metadata": {
        "colab": {
          "base_uri": "https://localhost:8080/"
        },
        "id": "pc_1Vy4hXDLr",
        "outputId": "cc6919f1-efef-46dc-e810-88ab22de86fc"
      },
      "execution_count": 72,
      "outputs": [
        {
          "output_type": "execute_result",
          "data": {
            "text/plain": [
              "5      Dicerorhinus sumatrensis harrissoni, also know...\n",
              "17     The Eastern Lowland Gorilla never sleeps. Also...\n",
              "21     The Eastern Lowland Gorilla will drown if kept...\n",
              "23     The Cross River Gorilla can’t eat hay. https:/...\n",
              "30     The Cross River Gorilla will drown if kept und...\n",
              "                             ...                        \n",
              "434    @louisa1000 @ErikSolheim Wow, how much do you ...\n",
              "437    @QinduoXu What troubles me is the similarity o...\n",
              "438    The Chinese with their long History should rea...\n",
              "441    Another Sumatran elephant found dead, again by...\n",
              "443    Sumatran #Elephants are rapidly disappearing, ...\n",
              "Name: text, Length: 110, dtype: object"
            ]
          },
          "metadata": {},
          "execution_count": 72
        }
      ]
    },
    {
      "cell_type": "code",
      "source": [
        "neut['text']"
      ],
      "metadata": {
        "colab": {
          "base_uri": "https://localhost:8080/"
        },
        "id": "C0WLAtCpXI14",
        "outputId": "7f8c0289-e1ad-4b51-9ffe-37908382089d"
      },
      "execution_count": 73,
      "outputs": [
        {
          "output_type": "execute_result",
          "data": {
            "text/plain": [
              "0      A little good news. The Sumatran rhinoceros ar...\n",
              "1      A little good news. The Sumatran rhinoceros ar...\n",
              "2      A little good news. The Sumatran rhinoceros ar...\n",
              "6      Dicerorhinus sumatrensis sumatrensis, also kno...\n",
              "7      Dicerohinus sumatrensis lasiotis, also known a...\n",
              "                             ...                        \n",
              "436    Only thing the Chinese have not been forthcomi...\n",
              "439    @RepTenney 😱😭 Now that everyone believe the st...\n",
              "440    July 6, 2017- The last remaining Elephas maxim...\n",
              "444    Sumatran Elephant: considered to be the smalle...\n",
              "445    There are 3 types of subspecies of Asian Eleph...\n",
              "Name: text, Length: 199, dtype: object"
            ]
          },
          "metadata": {},
          "execution_count": 73
        }
      ]
    }
  ]
}